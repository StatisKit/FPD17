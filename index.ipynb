{
 "cells": [
  {
   "cell_type": "markdown",
   "metadata": {},
   "source": [
    "# Multinomial Splitting Models for Multivariate Count Data\n",
    "\n",
    "This **Jupyter** notebook lists all notebooks available to illustrate the modeling apporoach presented in the eponymous article.\n",
    "\n",
    "It can be used to re-execute all these notebooks at once.\n",
    "To this end, the `os` module is imported to control environment variables used to control notebooks.\n",
    "Note that most of the following notebooks are saving results in figures.\n",
    "The format of these figures can be controlled by the environment variable `FIGURE`.\n",
    "We recommand to use either:\n",
    "\n",
    "* `pgf` for generating $\\LaTeX$ compatible figures (e.g., used for the article),\n",
    "* `svg` otherwise (e.g, used to visualize directly the results)."
   ]
  },
  {
   "cell_type": "code",
   "execution_count": 3,
   "metadata": {
    "collapsed": true
   },
   "outputs": [],
   "source": [
    "import os\n",
    "os.environ['FIGURE'] = 'svg'"
   ]
  },
  {
   "cell_type": "markdown",
   "metadata": {},
   "source": [
    "The modeling approach proposed in eponymous article is illustrated:\n",
    "\n",
    "* By [simulations](misc/simulation.ipynb), where we illustrate how negative binomial estimators can be simply generalized for establishing new negative multinomial estimators.\n",
    "  The complete simulation study can be replayed by executing the following cell."
   ]
  },
  {
   "cell_type": "code",
   "execution_count": 5,
   "metadata": {},
   "outputs": [],
   "source": [
    "os.environ['DIMENSION'] = str(5)\n",
    "os.environ['SIMULATIONS'] = str(10)\n",
    "for alpha in [0.1, 1., 10., 100.]:\n",
    "    os.environ['ALPHA'] = str(alpha)\n",
    "    for observation in [10, 100, 1000]:\n",
    "        os.environ['OBSERVATIONS'] = str(observation)\n",
    "        simulation = !jupyter nbconvert --ExecutePreprocessor.timeout=3600 --to notebook --execute misc/simulation.ipynb --output simulation.ipynb"
   ]
  },
  {
   "cell_type": "markdown",
   "metadata": {},
   "source": [
    "* By a [comparison](misc/comparison.ipynb) of multinomial splitting distributions to usual discrete multivariate distributions."
   ]
  },
  {
   "cell_type": "code",
   "execution_count": 6,
   "metadata": {},
   "outputs": [],
   "source": [
    "comparison = !jupyter nbconvert --to notebook misc/comparison.ipynb --output comparison.ipynb"
   ]
  },
  {
   "cell_type": "markdown",
   "metadata": {},
   "source": [
    "* By an [application](misc/application.ipynb) to the analyses of the mango tree patchiness at the whole population scale."
   ]
  },
  {
   "cell_type": "code",
   "execution_count": 7,
   "metadata": {},
   "outputs": [],
   "source": [
    "application = !jupyter nbconvert --to notebook miasc/application.ipynb --output application.ipynb"
   ]
  },
  {
   "cell_type": "markdown",
   "metadata": {},
   "source": [
    "Note that all notebooks are executed inplace, therefore by following the links presented, you should be able to investigate results of the last execution."
   ]
  }
 ],
 "metadata": {
  "kernelspec": {
   "display_name": "Python 2",
   "language": "python",
   "name": "python2"
  },
  "language_info": {
   "codemirror_mode": {
    "name": "ipython",
    "version": 2
   },
   "file_extension": ".py",
   "mimetype": "text/x-python",
   "name": "python",
   "nbconvert_exporter": "python",
   "pygments_lexer": "ipython2",
   "version": "2.7.13"
  },
  "toc": {
   "colors": {
    "hover_highlight": "#DAA520",
    "navigate_num": "#000000",
    "navigate_text": "#333333",
    "running_highlight": "#FF0000",
    "selected_highlight": "#FFD700",
    "sidebar_border": "#EEEEEE",
    "wrapper_background": "#FFFFFF"
   },
   "moveMenuLeft": true,
   "nav_menu": {
    "height": "45px",
    "width": "252px"
   },
   "navigate_menu": true,
   "number_sections": false,
   "sideBar": true,
   "threshold": 4,
   "toc_cell": false,
   "toc_section_display": "block",
   "toc_window_display": true,
   "widenNotebook": false
  }
 },
 "nbformat": 4,
 "nbformat_minor": 2
}
