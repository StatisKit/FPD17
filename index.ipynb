{
 "cells": [
  {
   "cell_type": "markdown",
   "metadata": {},
   "source": [
    "# Multinomial Splitting Models for Multivariate Count Data\n",
    "\n",
    "This **Jupyter** notebook lists all notebooks available to illustrate the modeling apporoach presented in the eponymous article.\n",
    "\n",
    "It can be used to re-execute all these notebooks at once.\n",
    "To this end, the `os` module is imported to control environment variables used to control notebooks.\n",
    "Note that most of the following notebooks are saving results in figures.\n",
    "The format of these figures can be controlled by the environment variable `FIGURE`.\n",
    "We recommand to use either:\n",
    "\n",
    "* `pgf` for generating $\\LaTeX$ compatible figures (e.g., used for the article),\n",
    "* `svg` otherwise (e.g, used to visualize directly the results)."
   ]
  },
  {
   "cell_type": "code",
   "execution_count": null,
   "metadata": {
    "collapsed": true
   },
   "outputs": [],
   "source": [
    "import os\n",
    "os.environ['FIGURE'] = 'svg'"
   ]
  },
  {
   "cell_type": "markdown",
   "metadata": {},
   "source": [
    "The modeling approach proposed in eponymous article is illustrated:\n",
    "\n",
    "* By [simulations](simulation.ipynb), where we illustrate how negative binomial estimators can be simply generalized for establishing new negative multinomial estimators.\n",
    "  The complete simulation study can be replayed by executing the following cell."
   ]
  },
  {
   "cell_type": "code",
   "execution_count": null,
   "metadata": {},
   "outputs": [
    {
     "name": "stdout",
     "output_type": "stream",
     "text": [
      "[NbConvertApp] Converting notebook FPD17_simulation.ipynb to notebook\n",
      "[NbConvertApp] Executing notebook with kernel: python2\n",
      "[NbConvertApp] Writing 76308 bytes to FPD17_simulation.ipynb\n",
      "[NbConvertApp] Converting notebook FPD17_simulation.ipynb to notebook\n",
      "[NbConvertApp] Executing notebook with kernel: python2\n",
      "[NbConvertApp] Writing 76309 bytes to FPD17_simulation.ipynb\n",
      "[NbConvertApp] Converting notebook FPD17_simulation.ipynb to notebook\n",
      "[NbConvertApp] Executing notebook with kernel: python2\n",
      "[NbConvertApp] Writing 76310 bytes to FPD17_simulation.ipynb\n",
      "[NbConvertApp] Converting notebook FPD17_simulation.ipynb to notebook\n",
      "[NbConvertApp] Executing notebook with kernel: python2\n",
      "[NbConvertApp] Writing 76308 bytes to FPD17_simulation.ipynb\n",
      "[NbConvertApp] Converting notebook FPD17_simulation.ipynb to notebook\n",
      "[NbConvertApp] Executing notebook with kernel: python2\n",
      "[NbConvertApp] Writing 76309 bytes to FPD17_simulation.ipynb\n",
      "[NbConvertApp] Converting notebook FPD17_simulation.ipynb to notebook\n",
      "[NbConvertApp] Executing notebook with kernel: python2\n",
      "[NbConvertApp] Writing 76310 bytes to FPD17_simulation.ipynb\n",
      "[NbConvertApp] Converting notebook FPD17_simulation.ipynb to notebook\n",
      "[NbConvertApp] Executing notebook with kernel: python2\n",
      "[NbConvertApp] Writing 76309 bytes to FPD17_simulation.ipynb\n",
      "[NbConvertApp] Converting notebook FPD17_simulation.ipynb to notebook\n",
      "[NbConvertApp] Executing notebook with kernel: python2\n",
      "[NbConvertApp] Writing 76310 bytes to FPD17_simulation.ipynb\n",
      "[NbConvertApp] Converting notebook FPD17_simulation.ipynb to notebook\n",
      "[NbConvertApp] Executing notebook with kernel: python2\n",
      "Warning message:\n",
      "In DMD.NegMN.fit(data = data, init = init, weight = weight, epsilon = epsilon,  :\n",
      "  The algorithm doesn't converge within 3 iterations\n",
      "Warning message:\n",
      "In DMD.NegMN.fit(data = data, init = init, weight = weight, epsilon = epsilon,  :\n",
      "  The algorithm doesn't converge within 3 iterations\n",
      "Warning message:\n",
      "In DMD.NegMN.fit(data = data, init = init, weight = weight, epsilon = epsilon,  :\n",
      "  The algorithm doesn't converge within 3 iterations\n",
      "Warning message:\n",
      "In DMD.NegMN.fit(data = data, init = init, weight = weight, epsilon = epsilon,  :\n",
      "  The algorithm doesn't converge within 3 iterations\n",
      "Warning message:\n",
      "In DMD.NegMN.fit(data = data, init = init, weight = weight, epsilon = epsilon,  :\n",
      "  The algorithm doesn't converge within 3 iterations\n",
      "Warning message:\n",
      "In DMD.NegMN.fit(data = data, init = init, weight = weight, epsilon = epsilon,  :\n",
      "  The algorithm doesn't converge within 3 iterations\n",
      "Warning message:\n",
      "In DMD.NegMN.fit(data = data, init = init, weight = weight, epsilon = epsilon,  :\n",
      "  The algorithm doesn't converge within 3 iterations\n",
      "[NbConvertApp] Writing 76311 bytes to FPD17_simulation.ipynb\n",
      "[NbConvertApp] Converting notebook FPD17_simulation.ipynb to notebook\n",
      "[NbConvertApp] Executing notebook with kernel: python2\n",
      "[NbConvertApp] Writing 76310 bytes to FPD17_simulation.ipynb\n",
      "[NbConvertApp] Converting notebook FPD17_simulation.ipynb to notebook\n",
      "[NbConvertApp] Executing notebook with kernel: python2\n",
      "[NbConvertApp] Writing 76311 bytes to FPD17_simulation.ipynb\n",
      "[NbConvertApp] Converting notebook FPD17_simulation.ipynb to notebook\n",
      "[NbConvertApp] Executing notebook with kernel: python2\n",
      "Warning message:\n",
      "In DMD.NegMN.fit(data = data, init = init, weight = weight, epsilon = epsilon,  :\n",
      "  The algorithm doesn't converge within 3 iterations\n"
     ]
    }
   ],
   "source": [
    "os.environ['DIMENSION'] = str(5)\n",
    "os.environ['SIMULATIONS'] = str(10)\n",
    "for alpha in [0.1, 1., 10., 100.]:\n",
    "    os.environ['ALPHA'] = str(alpha)\n",
    "    for observation in [10, 100, 1000]:\n",
    "        os.environ['OBSERVATIONS'] = str(observation)\n",
    "        !jupyter nbconvert --ExecutePreprocessor.timeout=3600 --to notebook --execute simulation.ipynb --output simulation.ipynb"
   ]
  },
  {
   "cell_type": "markdown",
   "metadata": {},
   "source": [
    "* By a [comparison](comparison.ipynb) of multinomial splitting distributions to usual discrete multivariate distributions."
   ]
  },
  {
   "cell_type": "code",
   "execution_count": null,
   "metadata": {
    "collapsed": true
   },
   "outputs": [],
   "source": [
    "!jupyter nbconvert --to notebook comparison.ipynb --output comparison.ipynb"
   ]
  },
  {
   "cell_type": "markdown",
   "metadata": {},
   "source": [
    "* By an [analysis](application.ipynb) of the mango tree patchiness at the whole population scale."
   ]
  },
  {
   "cell_type": "code",
   "execution_count": null,
   "metadata": {
    "collapsed": true
   },
   "outputs": [],
   "source": [
    "!jupyter nbconvert --to notebook application.ipynb --output application.ipynb"
   ]
  },
  {
   "cell_type": "markdown",
   "metadata": {},
   "source": [
    "Note that all notebooks are executed inplace, therefore by following the links presented, you should be able to investigate results of the last execution."
   ]
  }
 ],
 "metadata": {
  "kernelspec": {
   "display_name": "Python 2",
   "language": "python",
   "name": "python2"
  },
  "language_info": {
   "codemirror_mode": {
    "name": "ipython",
    "version": 2
   },
   "file_extension": ".py",
   "mimetype": "text/x-python",
   "name": "python",
   "nbconvert_exporter": "python",
   "pygments_lexer": "ipython2",
   "version": "2.7.13"
  }
 },
 "nbformat": 4,
 "nbformat_minor": 2
}
