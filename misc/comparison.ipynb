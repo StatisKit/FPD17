{
 "cells": [
  {
   "cell_type": "markdown",
   "metadata": {},
   "source": [
    "# A Comparison of Regressions for Multivariate Count Data"
   ]
  },
  {
   "cell_type": "code",
   "execution_count": 1,
   "metadata": {
    "collapsed": true
   },
   "outputs": [],
   "source": [
    "import matplotlib\n",
    "%matplotlib nbagg\n",
    "from matplotlib import pyplot"
   ]
  },
  {
   "cell_type": "code",
   "execution_count": 2,
   "metadata": {},
   "outputs": [],
   "source": [
    "%reload_ext rpy2.ipython"
   ]
  },
  {
   "cell_type": "code",
   "execution_count": 3,
   "metadata": {},
   "outputs": [],
   "source": [
    "%%R\n",
    "library(MGLM)\n",
    "library(bivpois)"
   ]
  },
  {
   "cell_type": "code",
   "execution_count": 4,
   "metadata": {
    "collapsed": true
   },
   "outputs": [],
   "source": [
    "from statiskit import (linalg,\n",
    "                       core,\n",
    "                       glm)"
   ]
  },
  {
   "cell_type": "code",
   "execution_count": 5,
   "metadata": {},
   "outputs": [],
   "source": [
    "%%R\n",
    "data('ex4.ita91')\n",
    "ita91 = ex4.ita91\n",
    "ita91['X'] = apply(ita91[,c(1,2)], 1, sum)\n",
    "write.csv(ita91[c(3,4,5)], 'ita91.csv', row.names=F)\n",
    "ita91 = ita91[,-c(5)]"
   ]
  },
  {
   "cell_type": "code",
   "execution_count": 9,
   "metadata": {},
   "outputs": [
    {
     "name": "stdout",
     "output_type": "stream",
     "text": [
      "> /home/pfernique/.miniconda/envs/statiskit-dev/lib/python2.7/site-packages/statiskit/core/io.py(130)from_list()\n",
      "-> dataframe = MultivariateDataFrame()\n",
      "(Pdb) cont\n"
     ]
    }
   ],
   "source": [
    "data = core.read_csv('ita91.csv', sep=',', header=True, ipdb=True)"
   ]
  },
  {
   "cell_type": "code",
   "execution_count": 10,
   "metadata": {},
   "outputs": [
    {
     "data": {
      "text/plain": [
       "[-565.3220940311769, -582.4311016773115, -565.9357309449964, -685.4209196019883, -576.2948158630275]"
      ]
     },
     "execution_count": 10,
     "metadata": {},
     "output_type": "execute_result"
    }
   ],
   "source": [
    "dst = core.selection(data=data.X,\n",
    "                     estimators=[core.poisson_estimation('ml'),\n",
    "                                 core.binomial_estimation('ml', force=True),\n",
    "                                 core.negative_binomial_estimation('ml'),\n",
    "                                 core.shifted_estimation(core.outcome_type.DISCRETE,\n",
    "                                                         shift=-1,\n",
    "                                                         estimator=core.logarithmic_estimation('ml')),\n",
    "                                 core.frequency_estimation(core.outcome_type.DISCRETE)])\n",
    "dst.scores"
   ]
  },
  {
   "cell_type": "code",
   "execution_count": 15,
   "metadata": {},
   "outputs": [
    {
     "data": {
      "text/latex": [
       "\\mathcal{NB}\\left(11.7677159885, 0.161781370058\\right)"
      ],
      "text/plain": [
       "NB(11.7677159885, 0.161781370058)"
      ]
     },
     "execution_count": 15,
     "metadata": {},
     "output_type": "execute_result"
    }
   ],
   "source": [
    "dst.estimations[2].estimated"
   ]
  },
  {
   "cell_type": "code",
   "execution_count": 12,
   "metadata": {},
   "outputs": [
    {
     "data": {
      "text/plain": [
       "[-629.3253069941982, -632.3068952587911]"
      ]
     },
     "execution_count": 12,
     "metadata": {},
     "output_type": "execute_result"
    }
   ],
   "source": [
    "reg = core.selection(data=data.extract(response=-1),\n",
    "                     estimators=[glm.poisson_estimation('Fisher'),\n",
    "                                 glm.binomial_estimation('SA')])\n",
    "reg.scores"
   ]
  },
  {
   "cell_type": "code",
   "execution_count": 6,
   "metadata": {
    "collapsed": true
   },
   "outputs": [],
   "source": [
    "%%R\n",
    "N = ita91[,c(1,2)]\n",
    "X = ita91[,c(3,4)]\n",
    "X = as.matrix(X[apply(N, 1, sum) > 0,])\n",
    "N = as.matrix(N[apply(N, 1, sum) > 0,])"
   ]
  },
  {
   "cell_type": "code",
   "execution_count": 8,
   "metadata": {},
   "outputs": [
    {
     "data": {
      "text/plain": [
       "          estimate         SE\n",
       "alpha_g1 0.5989072 0.02993883\n",
       "alpha_g2 0.4010928 0.02993883\n",
       "\n",
       "Distribution: Multinomial\n",
       "Log-likelihood: -284.2943\n",
       "BIC: 574.1796\n",
       "AIC: 570.5886\n",
       "LRT test p value: \n",
       "Iterations: \n"
      ]
     },
     "metadata": {},
     "output_type": "display_data"
    }
   ],
   "source": [
    "%R print(MGLMfit(N, dist=\"MN\"))"
   ]
  },
  {
   "cell_type": "code",
   "execution_count": 9,
   "metadata": {},
   "outputs": [
    {
     "name": "stdout",
     "output_type": "stream",
     "text": [
      "\n",
      "Error in `[[<-.data.frame`(`*tmp*`, i, value = c(2L, 3L, 4L, 5L, 6L, 7L,  : \n",
      "  replacement has 536 rows, data has 268\n"
     ]
    },
    {
     "name": "stderr",
     "output_type": "stream",
     "text": [
      "/home/pfernique/.miniconda/envs/FPD17/lib/python2.7/site-packages/rpy2/rinterface/__init__.py:186: RRuntimeWarning: Error in `[[<-.data.frame`(`*tmp*`, i, value = c(2L, 3L, 4L, 5L, 6L, 7L,  : \n",
      "  replacement has 536 rows, data has 268\n",
      "\n",
      "  warnings.warn(x, RRuntimeWarning)\n"
     ]
    }
   ],
   "source": [
    "%R print(MGLMreg(N ~ X, dist=\"MN\"))"
   ]
  },
  {
   "cell_type": "code",
   "execution_count": 12,
   "metadata": {},
   "outputs": [
    {
     "name": "stdout",
     "output_type": "stream",
     "text": [
      "\n",
      "Error in `[[<-.data.frame`(`*tmp*`, i, value = c(2L, 3L, 4L, 5L, 6L, 7L,  : \n",
      "  replacement has 536 rows, data has 268\n"
     ]
    }
   ],
   "source": [
    "%R print(glm(N ~ X, family=\"binomial\"))"
   ]
  },
  {
   "cell_type": "code",
   "execution_count": 15,
   "metadata": {},
   "outputs": [
    {
     "data": {
      "text/plain": [
       "         estimate       SE\n",
       "alpha_g1 93.66414 443.3854\n",
       "alpha_g2 65.04395 308.1834\n",
       "\n",
       "Distribution: Dirichlet Multinomial\n",
       "Log-likelihood: -284.1546\n",
       "BIC: 579.4912\n",
       "AIC: 572.3092\n",
       "LRT test p value: 0.597\n",
       "Iterations: 20\n"
      ]
     },
     "metadata": {},
     "output_type": "display_data"
    }
   ],
   "source": [
    "%R print(MGLMfit(N, dist=\"DM\"))"
   ]
  },
  {
   "cell_type": "code",
   "execution_count": 16,
   "metadata": {},
   "outputs": [
    {
     "name": "stdout",
     "output_type": "stream",
     "text": [
      "\n",
      "Error in `[[<-.data.frame`(`*tmp*`, i, value = c(2L, 3L, 4L, 5L, 6L, 7L,  : \n",
      "  replacement has 536 rows, data has 268\n"
     ]
    }
   ],
   "source": [
    "%R print(MGLMreg(N ~ X, dist=\"DM\"))"
   ]
  },
  {
   "cell_type": "code",
   "execution_count": 53,
   "metadata": {},
   "outputs": [
    {
     "name": "stdout",
     "output_type": "stream",
     "text": [
      "\n",
      "Error in `[[<-.data.frame`(`*tmp*`, i, value = c(2L, 3L, 4L, 5L, 6L, 7L,  : \n",
      "  replacement has 536 rows, data has 268\n"
     ]
    }
   ],
   "source": [
    "%R print(MGLMreg(N ~ X, dist=\"NegMN\"))"
   ]
  },
  {
   "cell_type": "code",
   "execution_count": 51,
   "metadata": {},
   "outputs": [
    {
     "data": {
      "text/plain": [
       "           iter         loglike Rel.Dif.loglike \n",
       "           1.00         -759.82            1.76 \n",
       "           iter         loglike Rel.Dif.loglike \n",
       "      2.000e+00      -7.559e+02       5.182e-03 \n",
       "           iter         loglike Rel.Dif.loglike \n",
       "      3.000e+00      -7.555e+02       4.531e-04 \n",
       "           iter         loglike Rel.Dif.loglike \n",
       "      4.000e+00      -7.552e+02       4.379e-04 \n",
       "           iter         loglike Rel.Dif.loglike \n",
       "      5.000e+00      -7.549e+02       4.371e-04 \n",
       "           iter         loglike Rel.Dif.loglike \n",
       "      6.000e+00      -7.546e+02       4.337e-04 \n",
       "           iter         loglike Rel.Dif.loglike \n",
       "      7.000e+00      -7.542e+02       4.269e-04 \n",
       "           iter         loglike Rel.Dif.loglike \n",
       "      8.000e+00      -7.539e+02       4.168e-04 \n",
       "           iter         loglike Rel.Dif.loglike \n",
       "      9.000e+00      -7.536e+02       4.037e-04 \n",
       "           iter         loglike Rel.Dif.loglike \n",
       "      1.000e+01      -7.533e+02       3.880e-04 \n",
       "           iter         loglike Rel.Dif.loglike \n",
       "      1.100e+01      -7.530e+02       3.701e-04 \n",
       "           iter         loglike Rel.Dif.loglike \n",
       "      1.200e+01      -7.528e+02       3.504e-04 \n",
       "           iter         loglike Rel.Dif.loglike \n",
       "      1.300e+01      -7.525e+02       3.294e-04 \n",
       "           iter         loglike Rel.Dif.loglike \n",
       "      1.400e+01      -7.523e+02       3.076e-04 \n",
       "           iter         loglike Rel.Dif.loglike \n",
       "      1.500e+01      -7.521e+02       2.853e-04 \n",
       "           iter         loglike Rel.Dif.loglike \n",
       "      1.600e+01      -7.519e+02       2.629e-04 \n",
       "           iter         loglike Rel.Dif.loglike \n",
       "      1.700e+01      -7.517e+02       2.410e-04 \n",
       "           iter         loglike Rel.Dif.loglike \n",
       "      1.800e+01      -7.515e+02       2.197e-04 \n",
       "           iter         loglike Rel.Dif.loglike \n",
       "      1.900e+01      -7.514e+02       1.993e-04 \n",
       "           iter         loglike Rel.Dif.loglike \n",
       "       20.00000      -751.25377         0.00018 \n",
       "           iter         loglike Rel.Dif.loglike \n",
       "      2.100e+01      -7.511e+02       1.619e-04 \n",
       "           iter         loglike Rel.Dif.loglike \n",
       "      2.200e+01      -7.510e+02       1.452e-04 \n",
       "           iter         loglike Rel.Dif.loglike \n",
       "      2.300e+01      -7.509e+02       1.297e-04 \n",
       "           iter         loglike Rel.Dif.loglike \n",
       "      2.400e+01      -7.508e+02       1.155e-04 \n",
       "           iter         loglike Rel.Dif.loglike \n",
       "      2.500e+01      -7.508e+02       1.025e-04 \n",
       "           iter         loglike Rel.Dif.loglike \n",
       "      2.600e+01      -7.507e+02       9.075e-05 \n",
       "           iter         loglike Rel.Dif.loglike \n",
       "      2.700e+01      -7.506e+02       8.005e-05 \n",
       "           iter         loglike Rel.Dif.loglike \n",
       "      2.800e+01      -7.506e+02       7.038e-05 \n",
       "           iter         loglike Rel.Dif.loglike \n",
       "      2.900e+01      -7.505e+02       6.166e-05 \n",
       "           iter         loglike Rel.Dif.loglike \n",
       "      3.000e+01      -7.505e+02       5.382e-05 \n",
       "           iter         loglike Rel.Dif.loglike \n",
       "      3.100e+01      -7.505e+02       4.680e-05 \n",
       "           iter         loglike Rel.Dif.loglike \n",
       "      3.200e+01      -7.504e+02       4.055e-05 \n",
       "           iter         loglike Rel.Dif.loglike \n",
       "      3.300e+01      -7.504e+02       3.499e-05 \n",
       "           iter         loglike Rel.Dif.loglike \n",
       "      3.400e+01      -7.504e+02       3.008e-05 \n",
       "           iter         loglike Rel.Dif.loglike \n",
       "      3.500e+01      -7.504e+02       2.577e-05 \n",
       "           iter         loglike Rel.Dif.loglike \n",
       "      3.600e+01      -7.503e+02       2.199e-05 \n",
       "           iter         loglike Rel.Dif.loglike \n",
       "      3.700e+01      -7.503e+02       1.869e-05 \n",
       "           iter         loglike Rel.Dif.loglike \n",
       "      3.800e+01      -7.503e+02       1.584e-05 \n",
       "           iter         loglike Rel.Dif.loglike \n",
       "      3.900e+01      -7.503e+02       1.338e-05 \n",
       "           iter         loglike Rel.Dif.loglike \n",
       "      4.000e+01      -7.503e+02       1.126e-05 \n",
       "           iter         loglike Rel.Dif.loglike \n",
       "      4.100e+01      -7.503e+02       9.449e-06 \n",
       "           iter         loglike Rel.Dif.loglike \n",
       "      4.200e+01      -7.503e+02       7.908e-06 \n",
       "           iter         loglike Rel.Dif.loglike \n",
       "      4.300e+01      -7.503e+02       6.600e-06 \n",
       "           iter         loglike Rel.Dif.loglike \n",
       "      4.400e+01      -7.503e+02       5.495e-06 \n",
       "           iter         loglike Rel.Dif.loglike \n",
       "      4.500e+01      -7.503e+02       4.565e-06 \n",
       "           iter         loglike Rel.Dif.loglike \n",
       "      4.600e+01      -7.503e+02       3.784e-06 \n",
       "           iter         loglike Rel.Dif.loglike \n",
       "      4.700e+01      -7.503e+02       3.130e-06 \n",
       "           iter         loglike Rel.Dif.loglike \n",
       "      4.800e+01      -7.503e+02       2.585e-06 \n",
       "           iter         loglike Rel.Dif.loglike \n",
       "      4.900e+01      -7.503e+02       2.131e-06 \n",
       "           iter         loglike Rel.Dif.loglike \n",
       "      5.000e+01      -7.503e+02       1.754e-06 \n",
       "           iter         loglike Rel.Dif.loglike \n",
       "      5.100e+01      -7.503e+02       1.442e-06 \n",
       "           iter         loglike Rel.Dif.loglike \n",
       "      5.200e+01      -7.503e+02       1.184e-06 \n",
       "           iter         loglike Rel.Dif.loglike \n",
       "      5.300e+01      -7.503e+02       9.709e-07 \n",
       "           iter         loglike Rel.Dif.loglike \n",
       "      5.400e+01      -7.503e+02       7.953e-07 \n",
       "           iter         loglike Rel.Dif.loglike \n",
       "      5.500e+01      -7.503e+02       6.508e-07 \n",
       "           iter         loglike Rel.Dif.loglike \n",
       "      5.600e+01      -7.503e+02       5.325e-07 \n",
       "           iter         loglike Rel.Dif.loglike \n",
       "      5.700e+01      -7.503e+02       4.352e-07 \n",
       "           iter         loglike Rel.Dif.loglike \n",
       "      5.800e+01      -7.503e+02       3.554e-07 \n",
       "           iter         loglike Rel.Dif.loglike \n",
       "      5.900e+01      -7.503e+02       2.900e-07 \n",
       "           iter         loglike Rel.Dif.loglike \n",
       "      6.000e+01      -7.503e+02       2.365e-07 \n",
       "           iter         loglike Rel.Dif.loglike \n",
       "      6.100e+01      -7.503e+02       1.926e-07 \n",
       "           iter         loglike Rel.Dif.loglike \n",
       "      6.200e+01      -7.503e+02       1.574e-07 \n",
       "           iter         loglike Rel.Dif.loglike \n",
       "      6.300e+01      -7.503e+02       1.283e-07 \n",
       "           iter         loglike Rel.Dif.loglike \n",
       "      6.400e+01      -7.503e+02       1.045e-07 \n",
       "           iter         loglike Rel.Dif.loglike \n",
       "      6.500e+01      -7.503e+02       8.500e-08 \n",
       "           iter         loglike Rel.Dif.loglike \n",
       "      6.600e+01      -7.503e+02       6.910e-08 \n",
       "           iter         loglike Rel.Dif.loglike \n",
       "      6.700e+01      -7.503e+02       5.609e-08 \n",
       "           iter         loglike Rel.Dif.loglike \n",
       "      6.800e+01      -7.503e+02       4.604e-08 \n",
       "           iter         loglike Rel.Dif.loglike \n",
       "      6.900e+01      -7.503e+02       3.745e-08 \n",
       "           iter         loglike Rel.Dif.loglike \n",
       "      7.000e+01      -7.503e+02       3.044e-08 \n",
       "           iter         loglike Rel.Dif.loglike \n",
       "      7.100e+01      -7.503e+02       2.472e-08 \n",
       "           iter         loglike Rel.Dif.loglike \n",
       "      7.200e+01      -7.503e+02       2.004e-08 \n",
       "           iter         loglike Rel.Dif.loglike \n",
       "      7.300e+01      -7.503e+02       1.622e-08 \n",
       "           iter         loglike Rel.Dif.loglike \n",
       "      7.400e+01      -7.503e+02       1.312e-08 \n",
       "           iter         loglike Rel.Dif.loglike \n",
       "      7.500e+01      -7.503e+02       1.060e-08 \n",
       "           iter         loglike Rel.Dif.loglike \n",
       "      7.600e+01      -7.503e+02       9.035e-09 \n"
      ]
     },
     "metadata": {},
     "output_type": "display_data"
    },
    {
     "data": {
      "text/plain": [
       "\n",
       "Call:\n",
       "lm.bp(l1 = g1 ~ team1 + team2, l2 = g2 ~ team1 + team2, l1l2 = ~team1 + \n",
       "    team2, l3 = ~1, data = ita91, common.intercept = FALSE, zeroL3 = FALSE, \n",
       "    maxit = 300, pres = 1e-08, verbose = FALSE)\n",
       "\n",
       "Coefficients:\n",
       "    (l1):(Intercept)  (l1):team1Atalanta    (l1):team1Bari        \n",
       "            -0.24829               0.16367               0.05607  \n",
       "(l1):team1Cagliari    (l1):team1Cremonese   (l1):team1Fiorentina  \n",
       "             0.61254               0.37469               0.96217  \n",
       "(l1):team1Foggia      (l1):team1Genoa       (l1):team1Inter       \n",
       "             1.20051               0.69340              -0.16676  \n",
       "(l1):team1Juventus    (l1):team1Lazio       (l1):team1Milan       \n",
       "             0.95972               1.01397               1.53802  \n",
       "(l1):team1Napoli      (l1):team1Parma       (l1):team1Roma        \n",
       "             1.26216               0.56203               0.56769  \n",
       "(l1):team1Sampdoria   (l1):team1Torino      (l1):team1Verona      \n",
       "             1.00913               0.81364               0.56413  \n",
       "(l1):team2Atalanta    (l1):team2Bari        (l1):team2Cagliari    \n",
       "            -0.93915              -0.23165              -0.58150  \n",
       "(l1):team2Cremonese   (l1):team2Fiorentina  (l1):team2Foggia      \n",
       "            -0.23401              -0.31982              -0.05172  \n",
       "(l1):team2Genoa       (l1):team2Inter       (l1):team2Juventus    \n",
       "            -0.29727              -0.88256              -1.07899  \n",
       "(l1):team2Lazio       (l1):team2Milan       (l1):team2Napoli      \n",
       "            -0.60563              -2.72656              -0.38633  \n",
       "(l1):team2Parma       (l1):team2Roma        (l1):team2Sampdoria   \n",
       "            -0.84924              -0.74869              -0.95180  \n",
       "(l1):team2Torino      (l1):team2Verona          (l2):(Intercept)  \n",
       "            -1.31528               0.09250              -0.57786  \n",
       "(l2):team1Atalanta    (l2):team1Bari        (l2):team1Cagliari    \n",
       "            -0.72045              -0.68948              -0.92810  \n",
       "(l2):team1Cremonese   (l2):team1Fiorentina  (l2):team1Foggia      \n",
       "            -0.33597              -0.92470              -0.20454  \n",
       "(l2):team1Genoa       (l2):team1Inter       (l2):team1Juventus    \n",
       "            -0.50191              -1.40909             -12.88024  \n",
       "(l2):team1Lazio       (l2):team1Milan       (l2):team1Napoli      \n",
       "            -0.54250              -1.87688              -1.12641  \n",
       "(l2):team1Parma       (l2):team1Roma        (l2):team1Sampdoria   \n",
       "            -1.80402              -1.36446              -0.89023  \n",
       "(l2):team1Torino      (l2):team1Verona      (l2):team2Atalanta    \n",
       "            -2.32726              -0.57620               1.05020  \n",
       "(l2):team2Bari        (l2):team2Cagliari    (l2):team2Cremonese   \n",
       "             0.48595               0.57210               0.61704  \n",
       "(l2):team2Fiorentina  (l2):team2Foggia      (l2):team2Genoa       \n",
       "             1.13000               1.61994               0.76094  \n",
       "(l2):team2Inter       (l2):team2Juventus    (l2):team2Lazio       \n",
       "             0.99816               0.99433               0.96487  \n",
       "(l2):team2Milan       (l2):team2Napoli      (l2):team2Parma       \n",
       "             1.53931               1.27874               0.42579  \n",
       "(l2):team2Roma        (l2):team2Sampdoria   (l2):team2Torino      \n",
       "             1.03700               0.37623               1.16753  \n",
       "(l2):team2Verona          (l3):(Intercept)  \n",
       "           -12.93196              -1.10255  \n",
       "\n"
      ]
     },
     "metadata": {},
     "output_type": "display_data"
    }
   ],
   "source": [
    "%R model = lm.bp(g1~team1+team2, g2~team1+team2, l1l2=~team1+team2, data=ita91)\n",
    "%R print(model)"
   ]
  },
  {
   "cell_type": "code",
   "execution_count": 50,
   "metadata": {},
   "outputs": [
    {
     "data": {
      "text/plain": [
       "Saturated   BivPois \n",
       " 4899.038  1956.104 \n"
      ]
     },
     "metadata": {},
     "output_type": "display_data"
    }
   ],
   "source": [
    "%R print(model$BIC)"
   ]
  },
  {
   "cell_type": "code",
   "execution_count": 15,
   "metadata": {
    "collapsed": true
   },
   "outputs": [],
   "source": [
    "%%R\n",
    "data('rnaseq')\n",
    "rnaseq['totalReads'] = log(rnaseq['totalReads'])\n",
    "rnaseq['X'] = apply(rnaseq[,c(1,2,3,4,5,6)], 1, sum)\n",
    "write.table(rnaseq[c(7,8,9,10,11)], 'rnaseq.csv', row.names=F)\n",
    "rnaseq = rnaseq[,-c(11)]"
   ]
  },
  {
   "cell_type": "code",
   "execution_count": 16,
   "metadata": {
    "collapsed": true
   },
   "outputs": [],
   "source": [
    "data = core.read_csv('rnaseq.csv', header=True)"
   ]
  },
  {
   "cell_type": "code",
   "execution_count": null,
   "metadata": {},
   "outputs": [
    {
     "data": {
      "text/plain": [
       "[-6537.059114151809, -13223.754412953454, -1339.360020084458, -1753.9600794771827, -1449.3337676626065]"
      ]
     },
     "execution_count": 17,
     "metadata": {},
     "output_type": "execute_result"
    }
   ],
   "source": [
    "dst = core.selection(data=data.X,\n",
    "                     estimators=[core.poisson_estimation('ml'),\n",
    "                                 core.binomial_estimation('ml', force=True),\n",
    "                                 core.negative_binomial_estimation('ml'),\n",
    "                                 core.logarithmic_estimation('ml'),\n",
    "                                 core.frequency_estimation(core.outcome_type.DISCRETE)])\n",
    "dst.scores"
   ]
  },
  {
   "cell_type": "code",
   "execution_count": null,
   "metadata": {
    "collapsed": true
   },
   "outputs": [],
   "source": [
    "reg = core.selection(data=data.extract(response=-1),\n",
    "                     estimators=[glm.poisson_estimation('Fisher'),\n",
    "                                 glm.binomial_estimation('SA'),\n",
    "                                 glm.negative_binomial_estimation('X2')])\n",
    "reg.scores"
   ]
  },
  {
   "cell_type": "code",
   "execution_count": null,
   "metadata": {
    "collapsed": true
   },
   "outputs": [],
   "source": [
    "%%R\n",
    "library(MGLM)\n",
    "library(bivpois)\n",
    "N = as.matrix(rnaseq[,c(1,2,3,4,5,6)])\n",
    "X = as.matrix(rnaseq[,c(7,8,9,10)])"
   ]
  },
  {
   "cell_type": "code",
   "execution_count": null,
   "metadata": {
    "collapsed": true
   },
   "outputs": [],
   "source": [
    "%R print(MGLMfit(N, dist=\"MN\"))"
   ]
  },
  {
   "cell_type": "code",
   "execution_count": null,
   "metadata": {
    "collapsed": true
   },
   "outputs": [],
   "source": [
    "%R print(MGLMreg(N ~ X, dist=\"MN\"))"
   ]
  },
  {
   "cell_type": "code",
   "execution_count": null,
   "metadata": {
    "collapsed": true
   },
   "outputs": [],
   "source": [
    "%R print(MGLMfit(N, dist=\"DM\"))"
   ]
  },
  {
   "cell_type": "code",
   "execution_count": null,
   "metadata": {
    "collapsed": true
   },
   "outputs": [],
   "source": [
    "%R print(MGLMreg(N ~ X, dist=\"DM\"))"
   ]
  },
  {
   "cell_type": "code",
   "execution_count": null,
   "metadata": {
    "collapsed": true
   },
   "outputs": [],
   "source": [
    "%R print(MGLMfit(N, dist=\"GDM\"))"
   ]
  },
  {
   "cell_type": "code",
   "execution_count": null,
   "metadata": {
    "collapsed": true
   },
   "outputs": [],
   "source": [
    "%R print(MGLMreg(N ~ X, dist=\"GDM\"))"
   ]
  },
  {
   "cell_type": "code",
   "execution_count": null,
   "metadata": {
    "collapsed": true
   },
   "outputs": [],
   "source": [
    "%R print(MGLMreg(N ~ X, dist=\"NegMN\"))"
   ]
  },
  {
   "cell_type": "code",
   "execution_count": null,
   "metadata": {
    "collapsed": true
   },
   "outputs": [],
   "source": []
  }
 ],
 "metadata": {
  "kernelspec": {
   "display_name": "Python 2",
   "language": "python",
   "name": "python2"
  },
  "language_info": {
   "codemirror_mode": {
    "name": "ipython",
    "version": 2
   },
   "file_extension": ".py",
   "mimetype": "text/x-python",
   "name": "python",
   "nbconvert_exporter": "python",
   "pygments_lexer": "ipython2",
   "version": "2.7.13"
  },
  "toc": {
   "colors": {
    "hover_highlight": "#DAA520",
    "navigate_num": "#000000",
    "navigate_text": "#333333",
    "running_highlight": "#FF0000",
    "selected_highlight": "#FFD700",
    "sidebar_border": "#EEEEEE",
    "wrapper_background": "#FFFFFF"
   },
   "moveMenuLeft": true,
   "nav_menu": {
    "height": "45px",
    "width": "252px"
   },
   "navigate_menu": true,
   "number_sections": false,
   "sideBar": true,
   "threshold": 4,
   "toc_cell": false,
   "toc_section_display": "block",
   "toc_window_display": true,
   "widenNotebook": false
  }
 },
 "nbformat": 4,
 "nbformat_minor": 2
}
