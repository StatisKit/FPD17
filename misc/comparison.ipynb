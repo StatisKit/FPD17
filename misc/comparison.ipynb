{
 "cells": [
  {
   "cell_type": "markdown",
   "metadata": {},
   "source": [
    "# A Comparison of Regressions for Multivariate Count Data"
   ]
  },
  {
   "cell_type": "code",
   "execution_count": 1,
   "metadata": {
    "collapsed": true
   },
   "outputs": [],
   "source": [
    "import matplotlib\n",
    "%matplotlib nbagg\n",
    "from matplotlib import pyplot"
   ]
  },
  {
   "cell_type": "code",
   "execution_count": null,
   "metadata": {
    "collapsed": true
   },
   "outputs": [],
   "source": [
    "%load_ext rpy2.ipython"
   ]
  },
  {
   "cell_type": "code",
   "execution_count": null,
   "metadata": {
    "collapsed": true
   },
   "outputs": [],
   "source": [
    "%%R\n",
    "library(MGLM)\n",
    "data('rnaseq')\n",
    "rnaseq['X'] = apply(rnaseq[,c(1,2,3,4,5,6)], 1, sum)\n",
    "write.table(rnaseq[c(7,8,9,11)], 'rnaseq.csv', row.names=F)\n",
    "rnaseq"
   ]
  },
  {
   "cell_type": "code",
   "execution_count": 2,
   "metadata": {
    "collapsed": true
   },
   "outputs": [],
   "source": [
    "from statiskit import (linalg,\n",
    "                       core,\n",
    "                       glm)\n",
    "data = core.read_csv('rnaseq.csv', header=True)"
   ]
  },
  {
   "cell_type": "code",
   "execution_count": 3,
   "metadata": {},
   "outputs": [
    {
     "data": {
      "text/plain": [
       "[-6537.059114151809, -13223.754412953454, -1339.360020084458, -1753.9600794771827, -1449.3337676626065]"
      ]
     },
     "execution_count": 3,
     "metadata": {},
     "output_type": "execute_result"
    }
   ],
   "source": [
    "dst = core.selection(data=data.X,\n",
    "                     estimators=[core.poisson_estimation('ml'),\n",
    "                                 core.binomial_estimation('ml', force=True),\n",
    "                                 core.negative_binomial_estimation('ml'),\n",
    "                                 core.logarithmic_estimation('ml'),\n",
    "                                 core.frequency_estimation(core.outcome_type.DISCRETE)])\n",
    "dst.scores"
   ]
  },
  {
   "cell_type": "code",
   "execution_count": 6,
   "metadata": {},
   "outputs": [
    {
     "data": {
      "text/plain": [
       "[-6077.250913560258, -6565.87511120926, -1339.0406371870724]"
      ]
     },
     "execution_count": 6,
     "metadata": {},
     "output_type": "execute_result"
    }
   ],
   "source": [
    "reg = core.selection(data=data.extract(response=-1),\n",
    "                     estimators=[glm.poisson_estimation('Fisher'),\n",
    "                                 glm.binomial_estimation('SA'),\n",
    "                                 glm.negative_binomial_estimation('X2')])\n",
    "reg.scores"
   ]
  }
 ],
 "metadata": {
  "kernelspec": {
   "display_name": "Python 2",
   "language": "python",
   "name": "python2"
  },
  "language_info": {
   "codemirror_mode": {
    "name": "ipython",
    "version": 2
   },
   "file_extension": ".py",
   "mimetype": "text/x-python",
   "name": "python",
   "nbconvert_exporter": "python",
   "pygments_lexer": "ipython2",
   "version": "2.7.13"
  },
  "toc": {
   "colors": {
    "hover_highlight": "#DAA520",
    "navigate_num": "#000000",
    "navigate_text": "#333333",
    "running_highlight": "#FF0000",
    "selected_highlight": "#FFD700",
    "sidebar_border": "#EEEEEE",
    "wrapper_background": "#FFFFFF"
   },
   "moveMenuLeft": true,
   "nav_menu": {
    "height": "45px",
    "width": "252px"
   },
   "navigate_menu": true,
   "number_sections": false,
   "sideBar": true,
   "threshold": 4,
   "toc_cell": false,
   "toc_section_display": "block",
   "toc_window_display": true,
   "widenNotebook": false
  }
 },
 "nbformat": 4,
 "nbformat_minor": 2
}
