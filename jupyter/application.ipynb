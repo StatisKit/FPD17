{
 "cells": [
  {
   "cell_type": "markdown",
   "metadata": {},
   "source": [
    "# An application to mango patchiness analysis"
   ]
  },
  {
   "cell_type": "code",
   "execution_count": 1,
   "metadata": {
    "collapsed": true
   },
   "outputs": [],
   "source": [
    "import matplotlib\n",
    "%matplotlib nbagg\n",
    "from matplotlib import pyplot"
   ]
  },
  {
   "cell_type": "code",
   "execution_count": 2,
   "metadata": {
    "collapsed": true
   },
   "outputs": [],
   "source": [
    "import os\n",
    "figure = os.environ.get('FIGURE', 'svg')"
   ]
  },
  {
   "cell_type": "code",
   "execution_count": 3,
   "metadata": {
    "collapsed": true
   },
   "outputs": [],
   "source": [
    "from statiskit import (linalg,\n",
    "                       core)"
   ]
  },
  {
   "cell_type": "code",
   "execution_count": 4,
   "metadata": {
    "collapsed": true
   },
   "outputs": [],
   "source": [
    "from statiskit.data import core as data\n",
    "data = data.load('FPD17')"
   ]
  },
  {
   "cell_type": "code",
   "execution_count": 5,
   "metadata": {
    "collapsed": true
   },
   "outputs": [],
   "source": [
    "pi = [1.] * len(data.components)\n",
    "components = [core.SplittingDistribution(core.PoissonDistribution(1.),\n",
    "                                         core.MultinomialSplittingOperator(linalg.Vector(pi)))]\n",
    "for x in [1.1, 1.2, 1.3, 1.4]:\n",
    "    for index in range(len(data.components)):\n",
    "        pi = [1.] * len(data.components)\n",
    "        pi[index] = x\n",
    "        components.append(core.SplittingDistribution(core.PoissonDistribution(x),\n",
    "                                                     core.MultinomialSplittingOperator(linalg.Vector(pi))))"
   ]
  },
  {
   "cell_type": "code",
   "execution_count": 6,
   "metadata": {
    "collapsed": true
   },
   "outputs": [],
   "source": [
    "initializator = core.MixtureDistribution(*components,\n",
    "                                         pi = linalg.Vector([1.] * len(components)))"
   ]
  },
  {
   "cell_type": "code",
   "execution_count": 7,
   "metadata": {
    "collapsed": true
   },
   "outputs": [],
   "source": [
    "estimator = core.shifted_estimation(core.outcome_type.DISCRETE,\n",
    "                                    shift = 1,\n",
    "                                    estimator = core.selection(core.outcome_type.DISCRETE,\n",
    "                                                               estimators = [core.poisson_estimation('ml'),\n",
    "                                                                             core.binomial_estimation('ml'),\n",
    "                                                                             core.negative_binomial_estimation('ml')]))\n",
    "estimator = core.selection(core.outcome_type.DISCRETE,\n",
    "                           estimators = [estimator,\n",
    "                                         core.geometric_estimation('ml'),\n",
    "                                         core.logarithmic_estimation('ml')])"
   ]
  },
  {
   "cell_type": "code",
   "execution_count": null,
   "metadata": {
    "collapsed": true
   },
   "outputs": [],
   "source": [
    "estimator = core.splitting_estimation(sum = estimator,\n",
    "                                      splitting = core.splitting_selection('MN',\n",
    "                                                                           'DM'))"
   ]
  },
  {
   "cell_type": "code",
   "execution_count": null,
   "metadata": {
    "collapsed": true
   },
   "outputs": [],
   "source": [
    "results = [core.mixture_estimation(data, 'em',\n",
    "                                   initializator = initializator,\n",
    "                                   default_estimator = estimator)]"
   ]
  },
  {
   "cell_type": "code",
   "execution_count": null,
   "metadata": {
    "collapsed": true
   },
   "outputs": [],
   "source": [
    "import math\n",
    "def compute_norm(p,q):\n",
    "    sum = 0.\n",
    "    for i in range(len(p)):\n",
    "        sum += p[i] * math.log(p[i] / q[i]) + q[i] * math.log(q[i] / p[i])\n",
    "    return sum"
   ]
  },
  {
   "cell_type": "code",
   "execution_count": null,
   "metadata": {
    "collapsed": true
   },
   "outputs": [],
   "source": [
    "while len(components) > 2:\n",
    "    argmin = None\n",
    "    mini = float(\"inf\")\n",
    "    for i in range(results[-1].estimated.nb_states):\n",
    "        for j in range(i + 1, results[-1].estimated.nb_states):\n",
    "            norm = compute_norm(results[-1].estimated.observations[i].pi, results[-1].estimated.observations[j].pi)\n",
    "            if norm < mini:\n",
    "                mini = norm\n",
    "                if results[-1].estimated.pi[i] > results[-1].estimated.pi[j]:\n",
    "                    argmin = j\n",
    "                else:\n",
    "                    argmin = i\n",
    "    components.pop(min(argmin, len(components) - 1))\n",
    "    initializator = core.MixtureDistribution(*components,\n",
    "                                             pi = linalg.Vector([1.] * len(components)))\n",
    "    results.append(core.mixture_estimation(data, 'em',\n",
    "                                           initializator = initializator,\n",
    "                                           default_estimator=estimator,\n",
    "                                           minits=80))"
   ]
  },
  {
   "cell_type": "code",
   "execution_count": null,
   "metadata": {
    "collapsed": true
   },
   "outputs": [],
   "source": [
    "results.append(estimator(data, False))\n",
    "results = list(reversed(results))"
   ]
  },
  {
   "cell_type": "code",
   "execution_count": null,
   "metadata": {
    "collapsed": true
   },
   "outputs": [],
   "source": [
    "import math\n",
    "S = [result.estimated.loglikelihood(data) for result in results]\n",
    "U = [0] + [result.estimated.uncertainty(data) for result in results[1:]]\n",
    "D = [results[0].estimated.nb_parameters] + [result.estimated.nb_parameters for result in results[1:]]\n",
    "BIC = [2 * s - d * math.log(data.total) for s, d in zip(S, D)]\n",
    "C = [1] + [result.estimated.nb_states for result in results[1:]]"
   ]
  },
  {
   "cell_type": "code",
   "execution_count": null,
   "metadata": {},
   "outputs": [],
   "source": [
    "limit = 5\n",
    "fig = pyplot.figure(figsize=(8,2))\n",
    "axes = fig.add_subplot(111)\n",
    "axes.plot(C[:limit], BIC[:limit], color='#e6e6e6')\n",
    "axes.set_xticks(range(1, limit + 1))\n",
    "axes.set_xlabel('Number of mixture components')\n",
    "axes.set_ylabel('BIC')\n",
    "pyplot.tight_layout()\n",
    "fig.savefig('selection.' + figure)"
   ]
  },
  {
   "cell_type": "code",
   "execution_count": null,
   "metadata": {},
   "outputs": [],
   "source": [
    "fig = pyplot.figure(figsize=(5,2.5))\n",
    "axes = results[1].estimated.observations[0].sum.pdf_plot(color = 'b', fmt = 'o-', label=results[1].estimated.observations[0].sum._repr_latex_())\n",
    "results[1].estimated.observations[1].sum.pdf_plot(axes = axes, color = 'r', fmt = 'o-', label=results[1].estimated.observations[1].sum._repr_latex_(), qmin=1)\n",
    "axes.legend()"
   ]
  },
  {
   "cell_type": "code",
   "execution_count": null,
   "metadata": {},
   "outputs": [],
   "source": [
    "dist = results[1].estimated\n",
    "fig = pyplot.figure(figsize=(5,2.5))\n",
    "sum_dist = core.MixtureDistribution(dist.observations[0].sum,\n",
    "                                    dist.observations[1].sum,\n",
    "                                    pi = dist.pi)\n",
    "axes = sum_dist.pdf_plot(axes = fig.add_subplot(111),\n",
    "                         fmt = 'o-',\n",
    "                         norm = sum_data.total,\n",
    "                         qmin = sum_data.min.value,\n",
    "                         qmax = sum_data.max.value,\n",
    "                         states = [dict(fmt = '<--'),\n",
    "                                   dict(fmt = '>--')])\n",
    "axes = sum_data.pdf_plot(axes = axes, color='#e6e6e6')\n",
    "axes.set_xlabel('n')\n",
    "axes.set_ylabel('Frequency')\n",
    "pyplot.tight_layout()\n",
    "fig.savefig('sum.' + figure)"
   ]
  },
  {
   "cell_type": "code",
   "execution_count": null,
   "metadata": {},
   "outputs": [],
   "source": [
    "fig = pyplot.figure(figsize=(2,2))\n",
    "rep_dist = core.OrdinalDistribution('V', 'R', 'Q', ordered_pi = dist.observations[0].pi)\n",
    "axes = rep_dist.pdf_plot(axes = fig.add_subplot(111),\n",
    "                         fmt = 'pie')\n",
    "pyplot.tight_layout()\n",
    "fig.savefig('pi_0.' + figure)"
   ]
  },
  {
   "cell_type": "code",
   "execution_count": null,
   "metadata": {},
   "outputs": [],
   "source": [
    "fig = pyplot.figure(figsize=(2,2))\n",
    "rep_dist = core.OrdinalDistribution('V', 'R', 'Q', ordered_pi = dist.observations[1].pi)\n",
    "axes = rep_dist.pdf_plot(axes = fig.add_subplot(111),\n",
    "                         fmt = 'pie')\n",
    "pyplot.tight_layout()\n",
    "fig.savefig('pi_1.' + figure)"
   ]
  }
 ],
 "metadata": {
  "kernelspec": {
   "display_name": "Python 2",
   "language": "python",
   "name": "python2"
  },
  "language_info": {
   "codemirror_mode": {
    "name": "ipython",
    "version": 2
   },
   "file_extension": ".py",
   "mimetype": "text/x-python",
   "name": "python",
   "nbconvert_exporter": "python",
   "pygments_lexer": "ipython2",
   "version": "2.7.13"
  },
  "toc": {
   "colors": {
    "hover_highlight": "#DAA520",
    "navigate_num": "#000000",
    "navigate_text": "#333333",
    "running_highlight": "#FF0000",
    "selected_highlight": "#FFD700",
    "sidebar_border": "#EEEEEE",
    "wrapper_background": "#FFFFFF"
   },
   "moveMenuLeft": true,
   "nav_menu": {
    "height": "45px",
    "width": "252px"
   },
   "navigate_menu": true,
   "number_sections": false,
   "sideBar": true,
   "threshold": 4,
   "toc_cell": false,
   "toc_section_display": "block",
   "toc_window_display": true,
   "widenNotebook": false
  }
 },
 "nbformat": 4,
 "nbformat_minor": 2
}
