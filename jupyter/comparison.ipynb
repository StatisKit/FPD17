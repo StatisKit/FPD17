{
 "cells": [
  {
   "cell_type": "markdown",
   "metadata": {},
   "source": [
    "# A Comparison of Multivariate Models for Count Data"
   ]
  },
  {
   "cell_type": "code",
   "execution_count": 1,
   "metadata": {
    "collapsed": true
   },
   "outputs": [],
   "source": [
    "import matplotlib\n",
    "%matplotlib nbagg\n",
    "from matplotlib import pyplot"
   ]
  },
  {
   "cell_type": "code",
   "execution_count": 2,
   "metadata": {
    "collapsed": true
   },
   "outputs": [],
   "source": [
    "%reload_ext rpy2.ipython"
   ]
  },
  {
   "cell_type": "code",
   "execution_count": 3,
   "metadata": {
    "collapsed": true
   },
   "outputs": [],
   "source": [
    "%%R\n",
    "library(MGLM)\n",
    "library(bivpois)"
   ]
  },
  {
   "cell_type": "code",
   "execution_count": 4,
   "metadata": {},
   "outputs": [],
   "source": [
    "from statiskit import (linalg,\n",
    "                       core,\n",
    "                       glm)"
   ]
  },
  {
   "cell_type": "code",
   "execution_count": 5,
   "metadata": {
    "collapsed": true
   },
   "outputs": [],
   "source": [
    "%%R\n",
    "data('ex4.ita91')\n",
    "ita91 = ex4.ita91\n",
    "write.csv(ita91, 'ita91.csv', row.names=F)"
   ]
  },
  {
   "cell_type": "code",
   "execution_count": 6,
   "metadata": {
    "collapsed": true
   },
   "outputs": [],
   "source": [
    "data = core.read_csv('ita91.csv', sep=',', header=True)"
   ]
  },
  {
   "cell_type": "code",
   "execution_count": 7,
   "metadata": {
    "collapsed": true
   },
   "outputs": [],
   "source": [
    "mdata = data.extract(0,1)"
   ]
  },
  {
   "cell_type": "code",
   "execution_count": 8,
   "metadata": {
    "collapsed": true
   },
   "outputs": [],
   "source": [
    "mme = core.splitting_estimation(data = mdata,\n",
    "                                splitting = core.splitting_selection('MN',\n",
    "                                                                     'DM'),\n",
    "                                sum = core.selection(core.outcome_type.DISCRETE,\n",
    "                                                     estimators=[core.poisson_estimation('ml'),\n",
    "                                                                 core.binomial_estimation('ml', force=True),\n",
    "                                                                 core.negative_binomial_estimation('ml'),\n",
    "                                                                 core.shifted_estimation(core.outcome_type.DISCRETE,\n",
    "                                                                                         shift=-1,\n",
    "                                                                                         estimator=core.logarithmic_estimation('ml'))]))"
   ]
  },
  {
   "cell_type": "code",
   "execution_count": 9,
   "metadata": {},
   "outputs": [
    {
     "data": {
      "text/plain": [
       "[-565.3220940311769, -582.4311016773115, -565.9357309449964, -685.4209196019883]"
      ]
     },
     "execution_count": 9,
     "metadata": {},
     "output_type": "execute_result"
    }
   ],
   "source": [
    "mme.sum.scores"
   ]
  },
  {
   "cell_type": "code",
   "execution_count": 10,
   "metadata": {},
   "outputs": [
    {
     "data": {
      "text/plain": [
       "[-287.03973181566863, -289.8784145864973]"
      ]
     },
     "execution_count": 10,
     "metadata": {},
     "output_type": "execute_result"
    }
   ],
   "source": [
    "mme.splitting.scores"
   ]
  },
  {
   "cell_type": "code",
   "execution_count": 11,
   "metadata": {
    "collapsed": true
   },
   "outputs": [],
   "source": [
    "%%R\n",
    "N = as.matrix(ita91[,c(1,2)])\n",
    "X =  as.matrix(ita91[,c(3,4)])"
   ]
  },
  {
   "cell_type": "code",
   "execution_count": 12,
   "metadata": {},
   "outputs": [
    {
     "data": {
      "text/plain": [
       "        estimate         SE\n",
       "p_g1  0.08983118 0.04110484\n",
       "p_g2  0.06244363 0.02864577\n",
       "phi  12.64413393 6.78869549\n",
       "\n",
       "Distribution: Negative Multinomial\n",
       "Log-likelihood: -844.3806\n",
       "BIC: 1705.932\n",
       "AIC: 1694.761\n",
       "LRT test p value: NA\n",
       "Iterations: 4\n"
      ]
     },
     "metadata": {},
     "output_type": "display_data"
    }
   ],
   "source": [
    "%R print(MGLMfit(N, dist=\"NegMN\"))"
   ]
  },
  {
   "cell_type": "code",
   "execution_count": 13,
   "metadata": {},
   "outputs": [
    {
     "name": "stdout",
     "output_type": "stream",
     "text": [
      "\n",
      "Error in `[[<-.data.frame`(`*tmp*`, i, value = c(2L, 3L, 4L, 5L, 6L, 7L,  : \n",
      "  le tableau de remplacement a 612 lignes, le tableau remplacé en a 306\n"
     ]
    },
    {
     "name": "stderr",
     "output_type": "stream",
     "text": [
      "/home/pfernique/miniconda2/envs/FPD17/lib/python2.7/site-packages/rpy2/rinterface/__init__.py:186: RRuntimeWarning: Error in `[[<-.data.frame`(`*tmp*`, i, value = c(2L, 3L, 4L, 5L, 6L, 7L,  : \n",
      "  le tableau de remplacement a 612 lignes, le tableau remplacé en a 306\n",
      "\n",
      "  warnings.warn(x, RRuntimeWarning)\n",
      "/home/pfernique/miniconda2/envs/FPD17/lib/python2.7/site-packages/rpy2/rinterface/__init__.py:186: RRuntimeWarning: De plus : \n",
      "  warnings.warn(x, RRuntimeWarning)\n",
      "/home/pfernique/miniconda2/envs/FPD17/lib/python2.7/site-packages/rpy2/rinterface/__init__.py:186: RRuntimeWarning: Warning message:\n",
      "\n",
      "  warnings.warn(x, RRuntimeWarning)\n",
      "/home/pfernique/miniconda2/envs/FPD17/lib/python2.7/site-packages/rpy2/rinterface/__init__.py:186: RRuntimeWarning: In DMD.NegMN.fit(data = data, init = init, weight = weight, epsilon = epsilon,  :\n",
      "  warnings.warn(x, RRuntimeWarning)\n",
      "/home/pfernique/miniconda2/envs/FPD17/lib/python2.7/site-packages/rpy2/rinterface/__init__.py:186: RRuntimeWarning: \n",
      " \n",
      "  warnings.warn(x, RRuntimeWarning)\n",
      "/home/pfernique/miniconda2/envs/FPD17/lib/python2.7/site-packages/rpy2/rinterface/__init__.py:186: RRuntimeWarning:  The algorithm doesn't converge within 4 iterations\n",
      "\n",
      "  warnings.warn(x, RRuntimeWarning)\n"
     ]
    }
   ],
   "source": [
    "%R print(MGLMreg(N ~ X, dist=\"NegMN\"))"
   ]
  },
  {
   "cell_type": "code",
   "execution_count": 14,
   "metadata": {},
   "outputs": [
    {
     "data": {
      "text/plain": [
       "           iter         loglike Rel.Dif.loglike \n",
       "          1.000        -848.242           1.848 \n",
       "           iter         loglike Rel.Dif.loglike \n",
       "      2.000e+00      -8.454e+02       3.347e-03 \n",
       "           iter         loglike Rel.Dif.loglike \n",
       "      3.000e+00      -8.454e+02       4.269e-07 \n",
       "           iter         loglike Rel.Dif.loglike \n",
       "      4.000e+00      -8.454e+02       3.740e-07 \n",
       "           iter         loglike Rel.Dif.loglike \n",
       "      5.000e+00      -8.454e+02       3.275e-07 \n",
       "           iter         loglike Rel.Dif.loglike \n",
       "      6.000e+00      -8.454e+02       2.867e-07 \n",
       "           iter         loglike Rel.Dif.loglike \n",
       "      7.000e+00      -8.454e+02       2.508e-07 \n",
       "           iter         loglike Rel.Dif.loglike \n",
       "      8.000e+00      -8.454e+02       2.193e-07 \n",
       "           iter         loglike Rel.Dif.loglike \n",
       "      9.000e+00      -8.454e+02       1.917e-07 \n",
       "           iter         loglike Rel.Dif.loglike \n",
       "      1.000e+01      -8.454e+02       1.675e-07 \n",
       "           iter         loglike Rel.Dif.loglike \n",
       "      1.100e+01      -8.454e+02       1.463e-07 \n",
       "           iter         loglike Rel.Dif.loglike \n",
       "      1.200e+01      -8.454e+02       1.277e-07 \n",
       "           iter         loglike Rel.Dif.loglike \n",
       "      1.300e+01      -8.454e+02       1.115e-07 \n",
       "           iter         loglike Rel.Dif.loglike \n",
       "      1.400e+01      -8.454e+02       9.725e-08 \n",
       "           iter         loglike Rel.Dif.loglike \n",
       "      1.500e+01      -8.454e+02       8.483e-08 \n",
       "           iter         loglike Rel.Dif.loglike \n",
       "      1.600e+01      -8.454e+02       7.398e-08 \n",
       "           iter         loglike Rel.Dif.loglike \n",
       "      1.700e+01      -8.454e+02       6.450e-08 \n",
       "           iter         loglike Rel.Dif.loglike \n",
       "      1.800e+01      -8.454e+02       5.623e-08 \n",
       "           iter         loglike Rel.Dif.loglike \n",
       "      1.900e+01      -8.454e+02       4.900e-08 \n",
       "           iter         loglike Rel.Dif.loglike \n",
       "      2.000e+01      -8.454e+02       4.269e-08 \n",
       "           iter         loglike Rel.Dif.loglike \n",
       "      2.100e+01      -8.454e+02       3.719e-08 \n",
       "           iter         loglike Rel.Dif.loglike \n",
       "      2.200e+01      -8.454e+02       3.240e-08 \n",
       "           iter         loglike Rel.Dif.loglike \n",
       "      2.300e+01      -8.454e+02       2.821e-08 \n",
       "           iter         loglike Rel.Dif.loglike \n",
       "      2.400e+01      -8.454e+02       2.457e-08 \n",
       "           iter         loglike Rel.Dif.loglike \n",
       "      2.500e+01      -8.454e+02       2.139e-08 \n",
       "           iter         loglike Rel.Dif.loglike \n",
       "      2.600e+01      -8.454e+02       1.862e-08 \n",
       "           iter         loglike Rel.Dif.loglike \n",
       "      2.700e+01      -8.454e+02       1.620e-08 \n",
       "           iter         loglike Rel.Dif.loglike \n",
       "      2.800e+01      -8.454e+02       1.410e-08 \n",
       "           iter         loglike Rel.Dif.loglike \n",
       "      2.900e+01      -8.454e+02       1.227e-08 \n",
       "           iter         loglike Rel.Dif.loglike \n",
       "      3.000e+01      -8.454e+02       1.068e-08 \n",
       "           iter         loglike Rel.Dif.loglike \n",
       "      3.100e+01      -8.454e+02       9.290e-09 \n"
      ]
     },
     "metadata": {},
     "output_type": "display_data"
    },
    {
     "data": {
      "text/plain": [
       "\n",
       "Call:\n",
       "lm.bp(l1 = g1 ~ 1, l2 = g2 ~ 1, l1l2 = ~1, l3 = ~1, data = ita91, \n",
       "    common.intercept = FALSE, zeroL3 = FALSE, maxit = 300, pres = 1e-08, \n",
       "    verbose = FALSE)\n",
       "\n",
       "Coefficients:\n",
       "(l1):(Intercept)  (l2):(Intercept)  (l3):(Intercept)  \n",
       "          0.2184           -0.1796           -2.3458  \n",
       "\n"
      ]
     },
     "metadata": {},
     "output_type": "display_data"
    }
   ],
   "source": [
    "%R model = lm.bp(g1~1, g2~1, l1l2=~1, data=ita91)\n",
    "%R print(model)"
   ]
  },
  {
   "cell_type": "code",
   "execution_count": 15,
   "metadata": {},
   "outputs": [
    {
     "data": {
      "text/plain": [
       "Saturated   BivPois \n",
       " 4899.038  1710.050 \n"
      ]
     },
     "metadata": {},
     "output_type": "display_data"
    }
   ],
   "source": [
    "%R print(model$BIC)"
   ]
  },
  {
   "cell_type": "code",
   "execution_count": 16,
   "metadata": {},
   "outputs": [
    {
     "data": {
      "text/plain": [
       "           iter         loglike Rel.Dif.loglike \n",
       "           1.00         -759.82            1.76 \n",
       "           iter         loglike Rel.Dif.loglike \n",
       "      2.000e+00      -7.559e+02       5.182e-03 \n",
       "           iter         loglike Rel.Dif.loglike \n",
       "      3.000e+00      -7.555e+02       4.531e-04 \n",
       "           iter         loglike Rel.Dif.loglike \n",
       "      4.000e+00      -7.552e+02       4.379e-04 \n",
       "           iter         loglike Rel.Dif.loglike \n",
       "      5.000e+00      -7.549e+02       4.371e-04 \n",
       "           iter         loglike Rel.Dif.loglike \n",
       "      6.000e+00      -7.546e+02       4.337e-04 \n",
       "           iter         loglike Rel.Dif.loglike \n",
       "      7.000e+00      -7.542e+02       4.269e-04 \n",
       "           iter         loglike Rel.Dif.loglike \n",
       "      8.000e+00      -7.539e+02       4.168e-04 \n",
       "           iter         loglike Rel.Dif.loglike \n",
       "      9.000e+00      -7.536e+02       4.037e-04 \n",
       "           iter         loglike Rel.Dif.loglike \n",
       "      1.000e+01      -7.533e+02       3.880e-04 \n",
       "           iter         loglike Rel.Dif.loglike \n",
       "      1.100e+01      -7.530e+02       3.701e-04 \n",
       "           iter         loglike Rel.Dif.loglike \n",
       "      1.200e+01      -7.528e+02       3.504e-04 \n",
       "           iter         loglike Rel.Dif.loglike \n",
       "      1.300e+01      -7.525e+02       3.294e-04 \n",
       "           iter         loglike Rel.Dif.loglike \n",
       "      1.400e+01      -7.523e+02       3.076e-04 \n",
       "           iter         loglike Rel.Dif.loglike \n",
       "      1.500e+01      -7.521e+02       2.853e-04 \n",
       "           iter         loglike Rel.Dif.loglike \n",
       "      1.600e+01      -7.519e+02       2.629e-04 \n",
       "           iter         loglike Rel.Dif.loglike \n",
       "      1.700e+01      -7.517e+02       2.410e-04 \n",
       "           iter         loglike Rel.Dif.loglike \n",
       "      1.800e+01      -7.515e+02       2.197e-04 \n",
       "           iter         loglike Rel.Dif.loglike \n",
       "      1.900e+01      -7.514e+02       1.993e-04 \n",
       "           iter         loglike Rel.Dif.loglike \n",
       "       20.00000      -751.25377         0.00018 \n",
       "           iter         loglike Rel.Dif.loglike \n",
       "      2.100e+01      -7.511e+02       1.619e-04 \n",
       "           iter         loglike Rel.Dif.loglike \n",
       "      2.200e+01      -7.510e+02       1.452e-04 \n",
       "           iter         loglike Rel.Dif.loglike \n",
       "      2.300e+01      -7.509e+02       1.297e-04 \n",
       "           iter         loglike Rel.Dif.loglike \n",
       "      2.400e+01      -7.508e+02       1.155e-04 \n",
       "           iter         loglike Rel.Dif.loglike \n",
       "      2.500e+01      -7.508e+02       1.025e-04 \n",
       "           iter         loglike Rel.Dif.loglike \n",
       "      2.600e+01      -7.507e+02       9.075e-05 \n",
       "           iter         loglike Rel.Dif.loglike \n",
       "      2.700e+01      -7.506e+02       8.005e-05 \n",
       "           iter         loglike Rel.Dif.loglike \n",
       "      2.800e+01      -7.506e+02       7.038e-05 \n",
       "           iter         loglike Rel.Dif.loglike \n",
       "      2.900e+01      -7.505e+02       6.166e-05 \n",
       "           iter         loglike Rel.Dif.loglike \n",
       "      3.000e+01      -7.505e+02       5.382e-05 \n",
       "           iter         loglike Rel.Dif.loglike \n",
       "      3.100e+01      -7.505e+02       4.680e-05 \n",
       "           iter         loglike Rel.Dif.loglike \n",
       "      3.200e+01      -7.504e+02       4.055e-05 \n",
       "           iter         loglike Rel.Dif.loglike \n",
       "      3.300e+01      -7.504e+02       3.499e-05 \n",
       "           iter         loglike Rel.Dif.loglike \n",
       "      3.400e+01      -7.504e+02       3.008e-05 \n",
       "           iter         loglike Rel.Dif.loglike \n",
       "      3.500e+01      -7.504e+02       2.577e-05 \n",
       "           iter         loglike Rel.Dif.loglike \n",
       "      3.600e+01      -7.503e+02       2.199e-05 \n",
       "           iter         loglike Rel.Dif.loglike \n",
       "      3.700e+01      -7.503e+02       1.869e-05 \n",
       "           iter         loglike Rel.Dif.loglike \n",
       "      3.800e+01      -7.503e+02       1.584e-05 \n",
       "           iter         loglike Rel.Dif.loglike \n",
       "      3.900e+01      -7.503e+02       1.338e-05 \n",
       "           iter         loglike Rel.Dif.loglike \n",
       "      4.000e+01      -7.503e+02       1.126e-05 \n",
       "           iter         loglike Rel.Dif.loglike \n",
       "      4.100e+01      -7.503e+02       9.449e-06 \n",
       "           iter         loglike Rel.Dif.loglike \n",
       "      4.200e+01      -7.503e+02       7.908e-06 \n",
       "           iter         loglike Rel.Dif.loglike \n",
       "      4.300e+01      -7.503e+02       6.600e-06 \n",
       "           iter         loglike Rel.Dif.loglike \n",
       "      4.400e+01      -7.503e+02       5.495e-06 \n",
       "           iter         loglike Rel.Dif.loglike \n",
       "      4.500e+01      -7.503e+02       4.565e-06 \n",
       "           iter         loglike Rel.Dif.loglike \n",
       "      4.600e+01      -7.503e+02       3.784e-06 \n",
       "           iter         loglike Rel.Dif.loglike \n",
       "      4.700e+01      -7.503e+02       3.130e-06 \n",
       "           iter         loglike Rel.Dif.loglike \n",
       "      4.800e+01      -7.503e+02       2.585e-06 \n",
       "           iter         loglike Rel.Dif.loglike \n",
       "      4.900e+01      -7.503e+02       2.131e-06 \n",
       "           iter         loglike Rel.Dif.loglike \n",
       "      5.000e+01      -7.503e+02       1.754e-06 \n",
       "           iter         loglike Rel.Dif.loglike \n",
       "      5.100e+01      -7.503e+02       1.442e-06 \n",
       "           iter         loglike Rel.Dif.loglike \n",
       "      5.200e+01      -7.503e+02       1.184e-06 \n",
       "           iter         loglike Rel.Dif.loglike \n",
       "      5.300e+01      -7.503e+02       9.709e-07 \n",
       "           iter         loglike Rel.Dif.loglike \n",
       "      5.400e+01      -7.503e+02       7.953e-07 \n",
       "           iter         loglike Rel.Dif.loglike \n",
       "      5.500e+01      -7.503e+02       6.508e-07 \n",
       "           iter         loglike Rel.Dif.loglike \n",
       "      5.600e+01      -7.503e+02       5.325e-07 \n",
       "           iter         loglike Rel.Dif.loglike \n",
       "      5.700e+01      -7.503e+02       4.352e-07 \n",
       "           iter         loglike Rel.Dif.loglike \n",
       "      5.800e+01      -7.503e+02       3.554e-07 \n",
       "           iter         loglike Rel.Dif.loglike \n",
       "      5.900e+01      -7.503e+02       2.900e-07 \n",
       "           iter         loglike Rel.Dif.loglike \n",
       "      6.000e+01      -7.503e+02       2.365e-07 \n",
       "           iter         loglike Rel.Dif.loglike \n",
       "      6.100e+01      -7.503e+02       1.926e-07 \n",
       "           iter         loglike Rel.Dif.loglike \n",
       "      6.200e+01      -7.503e+02       1.574e-07 \n",
       "           iter         loglike Rel.Dif.loglike \n",
       "      6.300e+01      -7.503e+02       1.283e-07 \n",
       "           iter         loglike Rel.Dif.loglike \n",
       "      6.400e+01      -7.503e+02       1.045e-07 \n",
       "           iter         loglike Rel.Dif.loglike \n",
       "      6.500e+01      -7.503e+02       8.500e-08 \n",
       "           iter         loglike Rel.Dif.loglike \n",
       "      6.600e+01      -7.503e+02       6.910e-08 \n",
       "           iter         loglike Rel.Dif.loglike \n",
       "      6.700e+01      -7.503e+02       5.609e-08 \n",
       "           iter         loglike Rel.Dif.loglike \n",
       "      6.800e+01      -7.503e+02       4.604e-08 \n",
       "           iter         loglike Rel.Dif.loglike \n",
       "      6.900e+01      -7.503e+02       3.745e-08 \n",
       "           iter         loglike Rel.Dif.loglike \n",
       "      7.000e+01      -7.503e+02       3.044e-08 \n",
       "           iter         loglike Rel.Dif.loglike \n",
       "      7.100e+01      -7.503e+02       2.472e-08 \n",
       "           iter         loglike Rel.Dif.loglike \n",
       "      7.200e+01      -7.503e+02       2.004e-08 \n",
       "           iter         loglike Rel.Dif.loglike \n",
       "      7.300e+01      -7.503e+02       1.622e-08 \n",
       "           iter         loglike Rel.Dif.loglike \n",
       "      7.400e+01      -7.503e+02       1.312e-08 \n",
       "           iter         loglike Rel.Dif.loglike \n",
       "      7.500e+01      -7.503e+02       1.060e-08 \n",
       "           iter         loglike Rel.Dif.loglike \n",
       "      7.600e+01      -7.503e+02       9.035e-09 \n"
      ]
     },
     "metadata": {},
     "output_type": "display_data"
    },
    {
     "data": {
      "text/plain": [
       "\n",
       "Call:\n",
       "lm.bp(l1 = g1 ~ team1 + team2, l2 = g2 ~ team1 + team2, l1l2 = ~team1 + \n",
       "    team2, l3 = ~1, data = ita91, common.intercept = FALSE, zeroL3 = FALSE, \n",
       "    maxit = 300, pres = 1e-08, verbose = FALSE)\n",
       "\n",
       "Coefficients:\n",
       "    (l1):(Intercept)  (l1):team1Atalanta    (l1):team1Bari        \n",
       "            -0.24829               0.16367               0.05607  \n",
       "(l1):team1Cagliari    (l1):team1Cremonese   (l1):team1Fiorentina  \n",
       "             0.61254               0.37469               0.96217  \n",
       "(l1):team1Foggia      (l1):team1Genoa       (l1):team1Inter       \n",
       "             1.20051               0.69340              -0.16676  \n",
       "(l1):team1Juventus    (l1):team1Lazio       (l1):team1Milan       \n",
       "             0.95972               1.01397               1.53802  \n",
       "(l1):team1Napoli      (l1):team1Parma       (l1):team1Roma        \n",
       "             1.26216               0.56203               0.56769  \n",
       "(l1):team1Sampdoria   (l1):team1Torino      (l1):team1Verona      \n",
       "             1.00913               0.81364               0.56413  \n",
       "(l1):team2Atalanta    (l1):team2Bari        (l1):team2Cagliari    \n",
       "            -0.93915              -0.23165              -0.58150  \n",
       "(l1):team2Cremonese   (l1):team2Fiorentina  (l1):team2Foggia      \n",
       "            -0.23401              -0.31982              -0.05172  \n",
       "(l1):team2Genoa       (l1):team2Inter       (l1):team2Juventus    \n",
       "            -0.29727              -0.88256              -1.07899  \n",
       "(l1):team2Lazio       (l1):team2Milan       (l1):team2Napoli      \n",
       "            -0.60563              -2.72656              -0.38633  \n",
       "(l1):team2Parma       (l1):team2Roma        (l1):team2Sampdoria   \n",
       "            -0.84924              -0.74869              -0.95180  \n",
       "(l1):team2Torino      (l1):team2Verona          (l2):(Intercept)  \n",
       "            -1.31528               0.09250              -0.57786  \n",
       "(l2):team1Atalanta    (l2):team1Bari        (l2):team1Cagliari    \n",
       "            -0.72045              -0.68948              -0.92810  \n",
       "(l2):team1Cremonese   (l2):team1Fiorentina  (l2):team1Foggia      \n",
       "            -0.33597              -0.92470              -0.20454  \n",
       "(l2):team1Genoa       (l2):team1Inter       (l2):team1Juventus    \n",
       "            -0.50191              -1.40909             -12.88024  \n",
       "(l2):team1Lazio       (l2):team1Milan       (l2):team1Napoli      \n",
       "            -0.54250              -1.87688              -1.12641  \n",
       "(l2):team1Parma       (l2):team1Roma        (l2):team1Sampdoria   \n",
       "            -1.80402              -1.36446              -0.89023  \n",
       "(l2):team1Torino      (l2):team1Verona      (l2):team2Atalanta    \n",
       "            -2.32726              -0.57620               1.05020  \n",
       "(l2):team2Bari        (l2):team2Cagliari    (l2):team2Cremonese   \n",
       "             0.48595               0.57210               0.61704  \n",
       "(l2):team2Fiorentina  (l2):team2Foggia      (l2):team2Genoa       \n",
       "             1.13000               1.61994               0.76094  \n",
       "(l2):team2Inter       (l2):team2Juventus    (l2):team2Lazio       \n",
       "             0.99816               0.99433               0.96487  \n",
       "(l2):team2Milan       (l2):team2Napoli      (l2):team2Parma       \n",
       "             1.53931               1.27874               0.42579  \n",
       "(l2):team2Roma        (l2):team2Sampdoria   (l2):team2Torino      \n",
       "             1.03700               0.37623               1.16753  \n",
       "(l2):team2Verona          (l3):(Intercept)  \n",
       "           -12.93196              -1.10255  \n",
       "\n"
      ]
     },
     "metadata": {},
     "output_type": "display_data"
    }
   ],
   "source": [
    "%R model = lm.bp(g1~team1+team2, g2~team1+team2, l1l2=~team1+team2, data=ita91)\n",
    "%R print(model)"
   ]
  },
  {
   "cell_type": "code",
   "execution_count": 17,
   "metadata": {},
   "outputs": [
    {
     "data": {
      "text/plain": [
       "Saturated   BivPois \n",
       " 4899.038  1956.104 \n"
      ]
     },
     "metadata": {},
     "output_type": "display_data"
    }
   ],
   "source": [
    "%R print(model$BIC)"
   ]
  },
  {
   "cell_type": "code",
   "execution_count": 18,
   "metadata": {
    "collapsed": true
   },
   "outputs": [],
   "source": [
    "%%R\n",
    "data('rnaseq')\n",
    "rnaseq['totalReads'] = log(rnaseq['totalReads'])\n",
    "# rnaseq['X'] = apply(rnaseq[,c(1,2,3,4,5,6)], 1, sum)\n",
    "write.table(rnaseq, 'rnaseq.csv', row.names=F)\n",
    "# rnaseq = rnaseq[,-c(11)]"
   ]
  },
  {
   "cell_type": "code",
   "execution_count": 19,
   "metadata": {
    "collapsed": true
   },
   "outputs": [],
   "source": [
    "data = core.read_csv('rnaseq.csv', header=True)"
   ]
  },
  {
   "cell_type": "code",
   "execution_count": 20,
   "metadata": {
    "collapsed": true
   },
   "outputs": [],
   "source": [
    "mme = core.splitting_estimation(data = data.extract(0, 1, 2, 3 ,4, 5),\n",
    "                                splitting = core.splitting_selection('MN',\n",
    "                                                                     'DM'),\n",
    "                                sum = core.selection(core.outcome_type.DISCRETE,\n",
    "                                                     estimators=[core.poisson_estimation('ml'),\n",
    "                                                                 core.binomial_estimation('ml', force=True),\n",
    "                                                                 core.negative_binomial_estimation('ml'),\n",
    "                                                                 core.shifted_estimation(core.outcome_type.DISCRETE,\n",
    "                                                                                         shift=-1,\n",
    "                                                                                         estimator=core.logarithmic_estimation('ml'))]))"
   ]
  },
  {
   "cell_type": "code",
   "execution_count": 21,
   "metadata": {},
   "outputs": [
    {
     "data": {
      "text/plain": [
       "[-6537.059114151809, -13223.754412953454, -1339.360020084458, -1756.9627791576988]"
      ]
     },
     "execution_count": 21,
     "metadata": {},
     "output_type": "execute_result"
    }
   ],
   "source": [
    "mme.sum.scores"
   ]
  },
  {
   "cell_type": "code",
   "execution_count": 22,
   "metadata": {},
   "outputs": [
    {
     "data": {
      "text/plain": [
       "[-19352.98491770746, -4984.56057498688]"
      ]
     },
     "execution_count": 22,
     "metadata": {},
     "output_type": "execute_result"
    }
   ],
   "source": [
    "mme.splitting.scores"
   ]
  },
  {
   "cell_type": "code",
   "execution_count": 23,
   "metadata": {
    "collapsed": true
   },
   "outputs": [],
   "source": [
    "%%R\n",
    "library(MGLM)\n",
    "library(bivpois)\n",
    "N = as.matrix(rnaseq[,c(1,2,3,4,5,6)])\n",
    "X = as.matrix(rnaseq[,c(7,8,9,10)])"
   ]
  },
  {
   "cell_type": "code",
   "execution_count": 24,
   "metadata": {},
   "outputs": [
    {
     "data": {
      "text/plain": [
       "        estimate           SE\n",
       "p_X1  0.31148586 0.0013619556\n",
       "p_X2  0.10649139 0.0008502964\n",
       "p_X3  0.09837308 0.0008192291\n",
       "p_X4  0.35049562 0.0014253376\n",
       "p_X5  0.09426337 0.0008029165\n",
       "p_X6  0.02122027 0.0003891465\n",
       "phi  12.23256918 1.2292533050\n",
       "\n",
       "Distribution: Negative Multinomial\n",
       "Log-likelihood: -20673.71\n",
       "BIC: 41384.52\n",
       "AIC: 41361.43\n",
       "LRT test p value: NA\n",
       "Iterations: 3\n"
      ]
     },
     "metadata": {},
     "output_type": "display_data"
    }
   ],
   "source": [
    "%R print(MGLMfit(N, dist=\"NegMN\"))"
   ]
  },
  {
   "cell_type": "code",
   "execution_count": 25,
   "metadata": {},
   "outputs": [
    {
     "data": {
      "text/plain": [
       "Call: MGLMreg(formula = N ~ X, dist = \"NegMN\")\n",
       "\n",
       "Coefficients:\n",
       "$alpha\n",
       "                       X1            X2            X3            X4\n",
       "(Intercept) -13.587376137 -1.352181e+01 -22.380090898 -14.131338928\n",
       "XtotalReads   0.907715672  8.504124e-01   1.242922188   0.915257796\n",
       "Xtreatment   -0.753112730 -7.735067e-01   2.014641268   0.675195341\n",
       "Xgender      -0.060696325  7.021728e-03  -0.069502706   0.012498726\n",
       "Xage          0.002582547 -9.376888e-04   0.002915974  -0.002140646\n",
       "                       X5            X6\n",
       "(Intercept) -1.450769e+01 -18.526416540\n",
       "XtotalReads  8.999176e-01   1.020359613\n",
       "Xtreatment  -6.382956e-01  -0.730410081\n",
       "Xgender     -8.368181e-02  -0.093397437\n",
       "Xage        -8.241306e-04   0.008765665\n",
       "\n",
       "$phi\n",
       "         \n",
       "31.60591 \n",
       "\n",
       "\n",
       "Hypothesis test: \n",
       "             wald value    Pr(>wald)\n",
       "(Intercept)   385.75443 3.224960e-80\n",
       "XtotalReads   368.08192 2.020898e-76\n",
       "Xtreatment  18377.53053 0.000000e+00\n",
       "Xgender        54.84664 4.978064e-10\n",
       "Xage           79.70908 4.103032e-15\n",
       "\n",
       "Distribution: Negative Multinomial\n",
       "Log-likelihood: -8746.689\n",
       "BIC: 17657.63\n",
       "AIC: 17555.38\n",
       "Iterations: 35\n"
      ]
     },
     "metadata": {},
     "output_type": "display_data"
    }
   ],
   "source": [
    "%R print(MGLMreg(N ~ X, dist=\"NegMN\"))"
   ]
  },
  {
   "cell_type": "code",
   "execution_count": 26,
   "metadata": {},
   "outputs": [
    {
     "data": {
      "text/plain": [
       "          estimate        SE\n",
       "alpha_X1  3.741846 0.3670877\n",
       "alpha_X2  2.400909 0.8154314\n",
       "alpha_X3  1.558396 0.2331360\n",
       "alpha_X4  6.988354 1.1647638\n",
       "alpha_X5 20.689398 0.1492792\n",
       "beta_X1   8.026379 0.9665023\n",
       "beta_X2  11.038376 0.7259782\n",
       "beta_X3   8.961428 0.2645201\n",
       "beta_X4   2.702723 2.8717176\n",
       "beta_X5   4.854816 0.6482710\n",
       "\n",
       "Distribution: Generalized Dirichlet Multinomial\n",
       "Log-likelihood: -4841.231\n",
       "BIC: 9735.446\n",
       "AIC: 9702.463\n",
       "LRT test p value: <0.0001\n",
       "Iterations: 59\n"
      ]
     },
     "metadata": {},
     "output_type": "display_data"
    }
   ],
   "source": [
    "%R print(MGLMfit(N, dist=\"GDM\"))"
   ]
  },
  {
   "cell_type": "code",
   "execution_count": 27,
   "metadata": {},
   "outputs": [
    {
     "data": {
      "text/plain": [
       "Call: MGLMreg(formula = N ~ X, dist = \"GDM\")\n",
       "\n",
       "Coefficients:\n",
       "                alpha_X1     alpha_X2    alpha_X3      alpha_X4    alpha_X5\n",
       "(Intercept)  5.987992852 -7.056673213  0.45608810 -10.120737500  2.63939594\n",
       "XtotalReads -0.215098743  0.555972697  0.03955285   0.720358215 -0.01612137\n",
       "Xtreatment  -0.047690534 -0.329319924  0.97935928   0.099957634  0.06339341\n",
       "Xgender      0.233005806  0.374837886 -0.18642022  -0.202417040  0.14428946\n",
       "Xage         0.006661015 -0.004342996  0.01936118   0.008173279  0.01239665\n",
       "                 beta_X1       beta_X2    beta_X3     beta_X4     beta_X5\n",
       "(Intercept)  4.661089454 -9.7891269676  7.0950614 -9.53000784 -1.68761454\n",
       "XtotalReads -0.140896121  0.7138189416 -0.2229844  0.74314582  0.13398453\n",
       "Xtreatment   0.628878471  0.7461977539 -1.5916297 -0.92371233 -0.04244096\n",
       "Xgender      0.212071256  0.2732563514 -0.2331213 -0.27042831  0.12206235\n",
       "Xage         0.003223835  0.0004533068  0.0159450  0.01254059  0.01918839\n",
       "\n",
       "Hypothesis test: \n",
       "            wald value  Pr(>wald)\n",
       "(Intercept)   15.40109 0.11810852\n",
       "XtotalReads   11.04187 0.35426548\n",
       "Xtreatment  2549.23829 0.00000000\n",
       "Xgender       10.72122 0.37964596\n",
       "Xage          16.42846 0.08800668\n",
       "\n",
       "Distribution: Generalized Dirichlet Multinomial\n",
       "Log-likelihood: -4289.281\n",
       "BIC: 8843.479\n",
       "AIC: 8678.563\n",
       "Iterations: 46\n"
      ]
     },
     "metadata": {},
     "output_type": "display_data"
    }
   ],
   "source": [
    "%R print(MGLMreg(N ~ X, dist=\"GDM\"))"
   ]
  },
  {
   "cell_type": "code",
   "execution_count": 28,
   "metadata": {},
   "outputs": [],
   "source": [
    "%%R\n",
    "N[,c(1,2,3,4,5,6)] = N[,c(4,6,1,5,3,2)]"
   ]
  },
  {
   "cell_type": "code",
   "execution_count": 29,
   "metadata": {},
   "outputs": [
    {
     "data": {
      "text/plain": [
       "Call: MGLMreg(formula = N ~ X, dist = \"GDM\")\n",
       "\n",
       "Coefficients:\n",
       "                 alpha_X1     alpha_X2    alpha_X3    alpha_X4     alpha_X5\n",
       "(Intercept) -10.120737500  5.987992852  2.63939594  0.45608810 -7.056673213\n",
       "XtotalReads   0.720358215 -0.215098743 -0.01612137  0.03955285  0.555972697\n",
       "Xtreatment    0.099957634 -0.047690534  0.06339341  0.97935928 -0.329319924\n",
       "Xgender      -0.202417040  0.233005806  0.14428946 -0.18642022  0.374837886\n",
       "Xage          0.008173279  0.006661015  0.01239665  0.01936118 -0.004342996\n",
       "                beta_X1      beta_X2     beta_X3    beta_X4       beta_X5\n",
       "(Intercept) -9.53000784  4.661089454 -1.68761454  7.0950614 -9.7891269676\n",
       "XtotalReads  0.74314582 -0.140896121  0.13398453 -0.2229844  0.7138189416\n",
       "Xtreatment  -0.92371233  0.628878471 -0.04244096 -1.5916297  0.7461977539\n",
       "Xgender     -0.27042831  0.212071256  0.12206235 -0.2331213  0.2732563514\n",
       "Xage         0.01254059  0.003223835  0.01918839  0.0159450  0.0004533068\n",
       "\n",
       "Hypothesis test: \n",
       "            wald value  Pr(>wald)\n",
       "(Intercept)   15.40109 0.11810852\n",
       "XtotalReads   11.04187 0.35426548\n",
       "Xtreatment  2549.23829 0.00000000\n",
       "Xgender       10.72122 0.37964596\n",
       "Xage          16.42846 0.08800668\n",
       "\n",
       "Distribution: Generalized Dirichlet Multinomial\n",
       "Log-likelihood: -4289.281\n",
       "BIC: 8843.479\n",
       "AIC: 8678.563\n",
       "Iterations: 46\n"
      ]
     },
     "metadata": {},
     "output_type": "display_data"
    }
   ],
   "source": [
    "%R print(MGLMreg(N ~ X, dist=\"GDM\"))"
   ]
  },
  {
   "cell_type": "code",
   "execution_count": 30,
   "metadata": {},
   "outputs": [
    {
     "data": {
      "text/plain": [
       "        X1 X2  X3  X4  X5  X6\n",
       "  [1,] 114 20 295  54  19  65\n",
       "  [2,]  96  4 213  50  12 126\n",
       "  [3,] 245 19 322  42  23 147\n",
       "  [4,] 134  8 184  74   9  35\n",
       "  [5,]  74  7 376  39   4 104\n",
       "  [6,] 282 24 490 159  18  97\n",
       "  [7,] 153 10 149  66   8 158\n",
       "  [8,]  95 36 390  70   8  71\n",
       "  [9,] 289 25 343 136  19 118\n",
       " [10,]  82  8 233  48  11  80\n",
       " [11,] 125 12 259  64  17  41\n",
       " [12,] 111 23 202  96  12  59\n",
       " [13,] 156 19 134  86  17 134\n",
       " [14,] 246 15 317 144  13 165\n",
       " [15,] 179 26 491  98  20 114\n",
       " [16,] 160 18 207 117  19 133\n",
       " [17,] 157 25 454 162  15  98\n",
       " [18,] 131 36 192  96  18  50\n",
       " [19,] 120 18  87  25  16  72\n",
       " [20,] 121 38 497  51  12 118\n",
       " [21,] 105  9 191 118  15  62\n",
       " [22,] 171 14 351  76  12 105\n",
       " [23,] 167 34 254  75   9  65\n",
       " [24,] 205  7 192 115  17  95\n",
       " [25,] 101 11 326  25   6  49\n",
       " [26,] 173 12 485 112  22 129\n",
       " [27,] 185 18 282 106  10  90\n",
       " [28,]  61 14 203  67   5  64\n",
       " [29,]  78  7 203  74   5  59\n",
       " [30,] 151 24 275  61   9 122\n",
       " [31,] 131 17 318 136  16  61\n",
       " [32,]  83 15 178 109  16 117\n",
       " [33,] 139 23 534 124  14 126\n",
       " [34,] 101 22 230  47   6  75\n",
       " [35,] 175 19 221 132  10 166\n",
       " [36,] 128 27 169  94  12 134\n",
       " [37,] 124 10 199  57  21 141\n",
       " [38,]  97  8 222  48  15  81\n",
       " [39,] 185 11 202  77   6  86\n",
       " [40,] 110 12 326  81   8  71\n",
       " [41,] 115 30 219 127  14  92\n",
       " [42,] 137 17 248  38  22  74\n",
       " [43,] 173 31 219 107  19 127\n",
       " [44,] 105 29 310  64  15  69\n",
       " [45,] 154 12 318  81  12  69\n",
       " [46,] 412 14 711 112  19  96\n",
       " [47,] 244 20 116  57  20 111\n",
       " [48,]  98 23 145  34  14  73\n",
       " [49,] 277 41 342  71  16 113\n",
       " [50,] 203 23 493  68  14 126\n",
       " [51,] 193 34 201  56  21  94\n",
       " [52,] 174 40 166 147  20  95\n",
       " [53,] 170 27 298  55   8 124\n",
       " [54,] 194 22 356  92  17  59\n",
       " [55,] 123 23 152  43   6  93\n",
       " [56,] 319 18 287  97  18 140\n",
       " [57,] 122 25 213 102   3  78\n",
       " [58,] 231 22 592 138  13 107\n",
       " [59,] 151 13 213  31  10  36\n",
       " [60,] 138 28 375  95  18  80\n",
       " [61,]  98 10 246  40   5 108\n",
       " [62,] 124 18 278  80  16 153\n",
       " [63,] 165 14 180  69  12  60\n",
       " [64,] 177 10 372 107  10  42\n",
       " [65,] 154 14 426  55  15 142\n",
       " [66,]  72 16 202  61  11  68\n",
       " [67,] 111  7 128  81   3  97\n",
       " [68,] 135 15 507 157  13  75\n",
       " [69,] 112  8 287  88  17  93\n",
       " [70,] 186 39 286  80  29 102\n",
       " [71,] 272 38 509 183  15 136\n",
       " [72,] 149 13 366  75  16 110\n",
       " [73,] 132 22 246  92  18 167\n",
       " [74,] 178 17 411  42  12 103\n",
       " [75,] 191 31 362  65  32 146\n",
       " [76,] 246 16 195  91  12 172\n",
       " [77,] 132  6 226 120   5  24\n",
       " [78,] 151 23  84  56  14 110\n",
       " [79,] 139 23 185  43  20  76\n",
       " [80,]  96 12 311  74  11  99\n",
       " [81,]  54  7 172  88  14  58\n",
       " [82,] 190 19 353 106  15 118\n",
       " [83,] 204 23 161  55  24  74\n",
       " [84,] 129 19 161  61  15  74\n",
       " [85,] 179 27 281  66  29 186\n",
       " [86,] 133 10 235  79  11  83\n",
       " [87,] 130 12 149  72  16  91\n",
       " [88,] 177 23 190  88  21  97\n",
       " [89,] 181 17 453 135  20 138\n",
       " [90,] 136 12 217  70  13  59\n",
       " [91,]  90 26 236  98  19  84\n",
       " [92,] 258 39 380 106  16 137\n",
       " [93,]  77  5 177  50   6  72\n",
       " [94,] 133 28 442  56  20 137\n",
       " [95,] 156 25 331  95  21 140\n",
       " [96,]  87 16 347  68  13  73\n",
       " [97,] 148 23 401 114   9 111\n",
       " [98,] 228 12 321  96  14  88\n",
       " [99,] 122 10 258  67  28  88\n",
       "[100,] 288 21 350  66  28 139\n",
       "[101,] 401 10 119  58 187  21\n",
       "[102,] 518  7 314  58 222  51\n",
       "[103,] 231  9  70  41 132  35\n",
       "[104,] 267  9 168  73  63  39\n",
       "[105,] 265 11 143  23  34  44\n",
       "[106,] 307 20 191  42  75  42\n",
       "[107,] 330  4 246  43 216  46\n",
       "[108,] 481 22 160  60 127  53\n",
       "[109,] 334 19 137  36 149  64\n",
       "[110,] 257 10  66  53  97  15\n",
       "[111,] 542  5 189  75 147  62\n",
       "[112,] 230  3  67  25  62  36\n",
       "[113,] 220  7 192  40 128  32\n",
       "[114,] 305 14 183  37  86  55\n",
       "[115,] 482 12 101  54 161  36\n",
       "[116,] 455 16 130  27  87  32\n",
       "[117,] 314 15 176  88 187  73\n",
       "[118,] 257 19 229  43 123  52\n",
       "[119,] 289  8 176  29 140  43\n",
       "[120,] 324 11 159  26  86  28\n",
       "[121,] 396  4 101  39 111  23\n",
       "[122,] 304  4 171  25  52  67\n",
       "[123,] 419  9 259 101 207  87\n",
       "[124,] 188  8 107  27  64  28\n",
       "[125,] 401 12 109  36  58  75\n",
       "[126,] 141  6  62  23  50  30\n",
       "[127,] 323  5  57  33  32  38\n",
       "[128,] 504 13 221  77 250  59\n",
       "[129,] 202 13 166 109 136  50\n",
       "[130,] 260  9  73  62 113  48\n",
       "[131,] 467 16 100  36 233  56\n",
       "[132,] 454 18 221  53 156  65\n",
       "[133,] 244  7  29  29  61  38\n",
       "[134,] 478  3 144  40 137  91\n",
       "[135,] 322  9  84  48  98  43\n",
       "[136,] 198 14 198  19 148  43\n",
       "[137,] 294  2 132  39 110  52\n",
       "[138,] 399 16 155  46  88  73\n",
       "[139,] 573 28 147  40 181 127\n",
       "[140,] 298  4 140  87 109  91\n",
       "[141,] 421 17 148  20 127  48\n",
       "[142,] 201  4 135  54 217  72\n",
       "[143,] 192  7 130  38  76  48\n",
       "[144,] 358  7 115  71 226  93\n",
       "[145,] 259  8  99  37  66  32\n",
       "[146,] 314 11 159  67  89  91\n",
       "[147,] 422  9 116  54  35  28\n",
       "[148,] 206  6 123  52  93  52\n",
       "[149,] 249 26 260  32 225  43\n",
       "[150,] 501 15 143  40  80  38\n",
       "[151,] 668 16 189  50 134  48\n",
       "[152,] 592 10 191  32 189  72\n",
       "[153,] 172  9  65  38 101  52\n",
       "[154,] 540  8 145  47 116  31\n",
       "[155,] 365  8 126  61 142  71\n",
       "[156,] 323 19 122  79 102  41\n",
       "[157,] 289  8  66  37  91  40\n",
       "[158,] 159  5 122  37 178  40\n",
       "[159,] 424  8 149  46 115  64\n",
       "[160,] 263 14 124  41 112  34\n",
       "[161,] 320 14 215  46 204  40\n",
       "[162,] 175  7 191  48  56  32\n",
       "[163,] 429  7 217  52 132  32\n",
       "[164,] 373  4  38  20  96  32\n",
       "[165,] 398  9 122  61 100  32\n",
       "[166,] 354  6 166  79 106  62\n",
       "[167,] 137 12  87  34  32  33\n",
       "[168,] 147  5 102  32  79  35\n",
       "[169,] 337  8 213  54 127  80\n",
       "[170,] 207 14 109  18  78  31\n",
       "[171,] 282 13  97  44  73  23\n",
       "[172,] 288  8 145  68 176  31\n",
       "[173,] 224  5 114  28 127  22\n",
       "[174,] 557 11 133  57  87  54\n",
       "[175,] 380 12 227  20  73  25\n",
       "[176,] 236  6 235  69  57  67\n",
       "[177,] 178  7  93  40  86  47\n",
       "[178,] 345 12 145  90 185  55\n",
       "[179,] 188 15 123  37  88  20\n",
       "[180,] 312 10 134  64  87  60\n",
       "[181,] 319  8 171  64 259  45\n",
       "[182,] 133  7  86  41  70  25\n",
       "[183,] 145  5 106  28  60  44\n",
       "[184,] 199  7 198  30 108  34\n",
       "[185,] 469 22 286  54 255  67\n",
       "[186,] 235  7 158  47  94  33\n",
       "[187,] 327  5 112  46  95  40\n",
       "[188,] 361  2  92  41  94  57\n",
       "[189,] 353 16 129  38 141  67\n",
       "[190,] 684  9 230  62 225  58\n",
       "[191,] 190  5 101  38 141  32\n",
       "[192,] 179  7  79  28  59  39\n",
       "[193,] 498 17 144  77 225  61\n",
       "[194,] 324 18 239  60 168  49\n",
       "[195,] 212  5  97  38  88  36\n",
       "[196,] 346  6 126  66 171  51\n",
       "[197,] 610  8 190  44 125  93\n",
       "[198,] 325  8 187  66  68  59\n",
       "[199,] 355  9 105  34  91  32\n",
       "[200,] 211 13 173  34 156  59\n"
      ]
     },
     "metadata": {},
     "output_type": "display_data"
    }
   ],
   "source": [
    "%R print(N)"
   ]
  },
  {
   "cell_type": "code",
   "execution_count": null,
   "metadata": {
    "collapsed": true
   },
   "outputs": [],
   "source": []
  }
 ],
 "metadata": {
  "kernelspec": {
   "display_name": "Python 2",
   "language": "python",
   "name": "python2"
  },
  "language_info": {
   "codemirror_mode": {
    "name": "ipython",
    "version": 2
   },
   "file_extension": ".py",
   "mimetype": "text/x-python",
   "name": "python",
   "nbconvert_exporter": "python",
   "pygments_lexer": "ipython2",
   "version": "2.7.13"
  },
  "toc": {
   "colors": {
    "hover_highlight": "#DAA520",
    "navigate_num": "#000000",
    "navigate_text": "#333333",
    "running_highlight": "#FF0000",
    "selected_highlight": "#FFD700",
    "sidebar_border": "#EEEEEE",
    "wrapper_background": "#FFFFFF"
   },
   "moveMenuLeft": true,
   "nav_menu": {
    "height": "45px",
    "width": "252px"
   },
   "navigate_menu": true,
   "number_sections": false,
   "sideBar": true,
   "threshold": 4,
   "toc_cell": false,
   "toc_section_display": "block",
   "toc_window_display": true,
   "widenNotebook": false
  }
 },
 "nbformat": 4,
 "nbformat_minor": 2
}
