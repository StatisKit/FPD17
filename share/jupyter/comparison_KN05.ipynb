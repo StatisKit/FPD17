{
 "cells": [
  {
   "cell_type": "markdown",
   "metadata": {},
   "source": [
    "# A comparison of multivariate models for count data (KN05)\n",
    "\n",
    "In order to illustrate the variety of splitting models, we considered two datasets used in the literature to illustrate models for count data.\n",
    "We here focus on the first one, denoted in the following by `D` and consisting in outcomes of football games [[KN05](https://www.jstatsoft.org/article/view/v014i10)].\n",
    "The goal being to compare distributions and regressions models, comparisons were performed when considering all covariates or none of the covariates.\n",
    "Remark that variable selection (e.g., using regularization methods [[ZZZS17](https://doi.org/10.1080/10618600.2016.1154063)]) is possible, but is out of the scope of this paper."
   ]
  },
  {
   "cell_type": "markdown",
   "metadata": {},
   "source": [
    "First, we need:\n",
    "\n",
    "* to import the `bivpoiss` [[KN05](https://www.jstatsoft.org/article/view/v014i10)] and the `MGLM` [[ZZ17](https://cran.r-project.org/web/packages/MGLM/index.html)] and the `MASS` [[VR02](https://stat.ethz.ch/R-manual/R-devel/library/MASS/html/glm.nb.html)] libraries."
   ]
  },
  {
   "cell_type": "code",
   "execution_count": 1,
   "metadata": {},
   "outputs": [],
   "source": [
    "library(MGLM)\n",
    "library(bivpois)\n",
    "library(MASS)"
   ]
  },
  {
   "cell_type": "markdown",
   "metadata": {},
   "source": [
    "* to load the dataset."
   ]
  },
  {
   "cell_type": "code",
   "execution_count": 2,
   "metadata": {},
   "outputs": [],
   "source": [
    "data('ex4.ita91')\n",
    "D = ex4.ita91"
   ]
  },
  {
   "cell_type": "markdown",
   "metadata": {},
   "source": [
    "The `MGLM` library requires to separate responses and explanatories variables.\n",
    "`Y` and `X` corresponds reespectively ro the responses and explanatories datasets built from `D`."
   ]
  },
  {
   "cell_type": "code",
   "execution_count": 3,
   "metadata": {},
   "outputs": [],
   "source": [
    "Y = as.matrix(D[,c(1,2)])\n",
    "X = as.matrix(model.matrix(~team1+team2, data=D)[,-c(1)])"
   ]
  },
  {
   "cell_type": "markdown",
   "metadata": {},
   "source": [
    "Similarly, `S` corresponds to the dataset constructed using the sample totals of the `Y`."
   ]
  },
  {
   "cell_type": "code",
   "execution_count": 4,
   "metadata": {},
   "outputs": [],
   "source": [
    "S = rowSums(Y)"
   ]
  },
  {
   "cell_type": "markdown",
   "metadata": {},
   "source": [
    "Considering the `bivpoiss` and the `MGLM` libraries, we have only 2 *sensu stricto* multivariate distributions to infer on both datasets: \n",
    "\n",
    "1. the multivariate Poisson distribution,\n",
    "2. the negative multinomiale distribution.\n",
    "\n",
    "The maximum linkelihood estimations (MLEs) of:\n",
    "\n",
    "* the multivariate Poisson distribution is obtained as follows,"
   ]
  },
  {
   "cell_type": "code",
   "execution_count": 5,
   "metadata": {},
   "outputs": [
    {
     "name": "stdout",
     "output_type": "stream",
     "text": [
      "           iter         loglike Rel.Dif.loglike \n",
      "          1.000        -848.242           1.848 \n",
      "           iter         loglike Rel.Dif.loglike \n",
      "      2.000e+00      -8.454e+02       3.347e-03 \n",
      "           iter         loglike Rel.Dif.loglike \n",
      "      3.000e+00      -8.454e+02       4.269e-07 \n",
      "           iter         loglike Rel.Dif.loglike \n",
      "      4.000e+00      -8.454e+02       3.740e-07 \n",
      "           iter         loglike Rel.Dif.loglike \n",
      "      5.000e+00      -8.454e+02       3.275e-07 \n",
      "           iter         loglike Rel.Dif.loglike \n",
      "      6.000e+00      -8.454e+02       2.867e-07 \n",
      "           iter         loglike Rel.Dif.loglike \n",
      "      7.000e+00      -8.454e+02       2.508e-07 \n",
      "           iter         loglike Rel.Dif.loglike \n",
      "      8.000e+00      -8.454e+02       2.193e-07 \n",
      "           iter         loglike Rel.Dif.loglike \n",
      "      9.000e+00      -8.454e+02       1.917e-07 \n",
      "           iter         loglike Rel.Dif.loglike \n",
      "      1.000e+01      -8.454e+02       1.675e-07 \n",
      "           iter         loglike Rel.Dif.loglike \n",
      "      1.100e+01      -8.454e+02       1.463e-07 \n",
      "           iter         loglike Rel.Dif.loglike \n",
      "      1.200e+01      -8.454e+02       1.277e-07 \n",
      "           iter         loglike Rel.Dif.loglike \n",
      "      1.300e+01      -8.454e+02       1.115e-07 \n",
      "           iter         loglike Rel.Dif.loglike \n",
      "      1.400e+01      -8.454e+02       9.725e-08 \n",
      "           iter         loglike Rel.Dif.loglike \n",
      "      1.500e+01      -8.454e+02       8.483e-08 \n",
      "           iter         loglike Rel.Dif.loglike \n",
      "      1.600e+01      -8.454e+02       7.398e-08 \n",
      "           iter         loglike Rel.Dif.loglike \n",
      "      1.700e+01      -8.454e+02       6.450e-08 \n",
      "           iter         loglike Rel.Dif.loglike \n",
      "      1.800e+01      -8.454e+02       5.623e-08 \n",
      "           iter         loglike Rel.Dif.loglike \n",
      "      1.900e+01      -8.454e+02       4.900e-08 \n",
      "           iter         loglike Rel.Dif.loglike \n",
      "      2.000e+01      -8.454e+02       4.269e-08 \n",
      "           iter         loglike Rel.Dif.loglike \n",
      "      2.100e+01      -8.454e+02       3.719e-08 \n",
      "           iter         loglike Rel.Dif.loglike \n",
      "      2.200e+01      -8.454e+02       3.240e-08 \n",
      "           iter         loglike Rel.Dif.loglike \n",
      "      2.300e+01      -8.454e+02       2.821e-08 \n",
      "           iter         loglike Rel.Dif.loglike \n",
      "      2.400e+01      -8.454e+02       2.457e-08 \n",
      "           iter         loglike Rel.Dif.loglike \n",
      "      2.500e+01      -8.454e+02       2.139e-08 \n",
      "           iter         loglike Rel.Dif.loglike \n",
      "      2.600e+01      -8.454e+02       1.862e-08 \n",
      "           iter         loglike Rel.Dif.loglike \n",
      "      2.700e+01      -8.454e+02       1.620e-08 \n",
      "           iter         loglike Rel.Dif.loglike \n",
      "      2.800e+01      -8.454e+02       1.410e-08 \n",
      "           iter         loglike Rel.Dif.loglike \n",
      "      2.900e+01      -8.454e+02       1.227e-08 \n",
      "           iter         loglike Rel.Dif.loglike \n",
      "      3.000e+01      -8.454e+02       1.068e-08 \n",
      "           iter         loglike Rel.Dif.loglike \n",
      "      3.100e+01      -8.454e+02       9.290e-09 \n",
      "\n",
      "Call:\n",
      "lm.bp(l1 = g1 ~ 1, l2 = g2 ~ 1, l1l2 = ~1, l3 = ~1, data = D, \n",
      "    common.intercept = FALSE, zeroL3 = FALSE, maxit = 300, pres = 1e-08, \n",
      "    verbose = FALSE)\n",
      "\n",
      "Coefficients:\n",
      "(l1):(Intercept)  (l2):(Intercept)  (l3):(Intercept)  \n",
      "          0.2184           -0.1796           -2.3458  \n",
      "\n",
      "Saturated   BivPois \n",
      " 4899.038  1710.050 \n"
     ]
    }
   ],
   "source": [
    "MPD = lm.bp(g1~1, g2~1, l1l2=~1, data=D)\n",
    "print(MPD)\n",
    "print(MPD$BIC)"
   ]
  },
  {
   "cell_type": "markdown",
   "metadata": {},
   "source": [
    "* the multivariate Poisson regression is obtained as follows,"
   ]
  },
  {
   "cell_type": "code",
   "execution_count": 6,
   "metadata": {},
   "outputs": [
    {
     "name": "stdout",
     "output_type": "stream",
     "text": [
      "           iter         loglike Rel.Dif.loglike \n",
      "           1.00         -759.82            1.76 \n",
      "           iter         loglike Rel.Dif.loglike \n",
      "      2.000e+00      -7.559e+02       5.182e-03 \n",
      "           iter         loglike Rel.Dif.loglike \n",
      "      3.000e+00      -7.555e+02       4.531e-04 \n",
      "           iter         loglike Rel.Dif.loglike \n",
      "      4.000e+00      -7.552e+02       4.379e-04 \n",
      "           iter         loglike Rel.Dif.loglike \n",
      "      5.000e+00      -7.549e+02       4.371e-04 \n",
      "           iter         loglike Rel.Dif.loglike \n",
      "      6.000e+00      -7.546e+02       4.337e-04 \n",
      "           iter         loglike Rel.Dif.loglike \n",
      "      7.000e+00      -7.542e+02       4.269e-04 \n",
      "           iter         loglike Rel.Dif.loglike \n",
      "      8.000e+00      -7.539e+02       4.168e-04 \n",
      "           iter         loglike Rel.Dif.loglike \n",
      "      9.000e+00      -7.536e+02       4.037e-04 \n",
      "           iter         loglike Rel.Dif.loglike \n",
      "      1.000e+01      -7.533e+02       3.880e-04 \n",
      "           iter         loglike Rel.Dif.loglike \n",
      "      1.100e+01      -7.530e+02       3.701e-04 \n",
      "           iter         loglike Rel.Dif.loglike \n",
      "      1.200e+01      -7.528e+02       3.504e-04 \n",
      "           iter         loglike Rel.Dif.loglike \n",
      "      1.300e+01      -7.525e+02       3.294e-04 \n",
      "           iter         loglike Rel.Dif.loglike \n",
      "      1.400e+01      -7.523e+02       3.076e-04 \n",
      "           iter         loglike Rel.Dif.loglike \n",
      "      1.500e+01      -7.521e+02       2.853e-04 \n",
      "           iter         loglike Rel.Dif.loglike \n",
      "      1.600e+01      -7.519e+02       2.629e-04 \n",
      "           iter         loglike Rel.Dif.loglike \n",
      "      1.700e+01      -7.517e+02       2.410e-04 \n",
      "           iter         loglike Rel.Dif.loglike \n",
      "      1.800e+01      -7.515e+02       2.197e-04 \n",
      "           iter         loglike Rel.Dif.loglike \n",
      "      1.900e+01      -7.514e+02       1.993e-04 \n",
      "           iter         loglike Rel.Dif.loglike \n",
      "       20.00000      -751.25377         0.00018 \n",
      "           iter         loglike Rel.Dif.loglike \n",
      "      2.100e+01      -7.511e+02       1.619e-04 \n",
      "           iter         loglike Rel.Dif.loglike \n",
      "      2.200e+01      -7.510e+02       1.452e-04 \n",
      "           iter         loglike Rel.Dif.loglike \n",
      "      2.300e+01      -7.509e+02       1.297e-04 \n",
      "           iter         loglike Rel.Dif.loglike \n",
      "      2.400e+01      -7.508e+02       1.155e-04 \n",
      "           iter         loglike Rel.Dif.loglike \n",
      "      2.500e+01      -7.508e+02       1.025e-04 \n",
      "           iter         loglike Rel.Dif.loglike \n",
      "      2.600e+01      -7.507e+02       9.075e-05 \n",
      "           iter         loglike Rel.Dif.loglike \n",
      "      2.700e+01      -7.506e+02       8.005e-05 \n",
      "           iter         loglike Rel.Dif.loglike \n",
      "      2.800e+01      -7.506e+02       7.038e-05 \n",
      "           iter         loglike Rel.Dif.loglike \n",
      "      2.900e+01      -7.505e+02       6.166e-05 \n",
      "           iter         loglike Rel.Dif.loglike \n",
      "      3.000e+01      -7.505e+02       5.382e-05 \n",
      "           iter         loglike Rel.Dif.loglike \n",
      "      3.100e+01      -7.505e+02       4.680e-05 \n",
      "           iter         loglike Rel.Dif.loglike \n",
      "      3.200e+01      -7.504e+02       4.055e-05 \n",
      "           iter         loglike Rel.Dif.loglike \n",
      "      3.300e+01      -7.504e+02       3.499e-05 \n",
      "           iter         loglike Rel.Dif.loglike \n",
      "      3.400e+01      -7.504e+02       3.008e-05 \n",
      "           iter         loglike Rel.Dif.loglike \n",
      "      3.500e+01      -7.504e+02       2.577e-05 \n",
      "           iter         loglike Rel.Dif.loglike \n",
      "      3.600e+01      -7.503e+02       2.199e-05 \n",
      "           iter         loglike Rel.Dif.loglike \n",
      "      3.700e+01      -7.503e+02       1.869e-05 \n",
      "           iter         loglike Rel.Dif.loglike \n",
      "      3.800e+01      -7.503e+02       1.584e-05 \n",
      "           iter         loglike Rel.Dif.loglike \n",
      "      3.900e+01      -7.503e+02       1.338e-05 \n",
      "           iter         loglike Rel.Dif.loglike \n",
      "      4.000e+01      -7.503e+02       1.126e-05 \n",
      "           iter         loglike Rel.Dif.loglike \n",
      "      4.100e+01      -7.503e+02       9.449e-06 \n",
      "           iter         loglike Rel.Dif.loglike \n",
      "      4.200e+01      -7.503e+02       7.908e-06 \n",
      "           iter         loglike Rel.Dif.loglike \n",
      "      4.300e+01      -7.503e+02       6.600e-06 \n",
      "           iter         loglike Rel.Dif.loglike \n",
      "      4.400e+01      -7.503e+02       5.495e-06 \n",
      "           iter         loglike Rel.Dif.loglike \n",
      "      4.500e+01      -7.503e+02       4.565e-06 \n",
      "           iter         loglike Rel.Dif.loglike \n",
      "      4.600e+01      -7.503e+02       3.784e-06 \n",
      "           iter         loglike Rel.Dif.loglike \n",
      "      4.700e+01      -7.503e+02       3.130e-06 \n",
      "           iter         loglike Rel.Dif.loglike \n",
      "      4.800e+01      -7.503e+02       2.585e-06 \n",
      "           iter         loglike Rel.Dif.loglike \n",
      "      4.900e+01      -7.503e+02       2.131e-06 \n",
      "           iter         loglike Rel.Dif.loglike \n",
      "      5.000e+01      -7.503e+02       1.754e-06 \n",
      "           iter         loglike Rel.Dif.loglike \n",
      "      5.100e+01      -7.503e+02       1.442e-06 \n",
      "           iter         loglike Rel.Dif.loglike \n",
      "      5.200e+01      -7.503e+02       1.184e-06 \n",
      "           iter         loglike Rel.Dif.loglike \n",
      "      5.300e+01      -7.503e+02       9.709e-07 \n",
      "           iter         loglike Rel.Dif.loglike \n",
      "      5.400e+01      -7.503e+02       7.953e-07 \n",
      "           iter         loglike Rel.Dif.loglike \n",
      "      5.500e+01      -7.503e+02       6.508e-07 \n",
      "           iter         loglike Rel.Dif.loglike \n",
      "      5.600e+01      -7.503e+02       5.325e-07 \n",
      "           iter         loglike Rel.Dif.loglike \n",
      "      5.700e+01      -7.503e+02       4.352e-07 \n",
      "           iter         loglike Rel.Dif.loglike \n",
      "      5.800e+01      -7.503e+02       3.554e-07 \n",
      "           iter         loglike Rel.Dif.loglike \n",
      "      5.900e+01      -7.503e+02       2.900e-07 \n",
      "           iter         loglike Rel.Dif.loglike \n",
      "      6.000e+01      -7.503e+02       2.365e-07 \n",
      "           iter         loglike Rel.Dif.loglike \n",
      "      6.100e+01      -7.503e+02       1.926e-07 \n",
      "           iter         loglike Rel.Dif.loglike \n",
      "      6.200e+01      -7.503e+02       1.574e-07 \n",
      "           iter         loglike Rel.Dif.loglike \n",
      "      6.300e+01      -7.503e+02       1.283e-07 \n",
      "           iter         loglike Rel.Dif.loglike \n",
      "      6.400e+01      -7.503e+02       1.045e-07 \n",
      "           iter         loglike Rel.Dif.loglike \n",
      "      6.500e+01      -7.503e+02       8.500e-08 \n",
      "           iter         loglike Rel.Dif.loglike \n",
      "      6.600e+01      -7.503e+02       6.910e-08 \n",
      "           iter         loglike Rel.Dif.loglike \n",
      "      6.700e+01      -7.503e+02       5.609e-08 \n",
      "           iter         loglike Rel.Dif.loglike \n",
      "      6.800e+01      -7.503e+02       4.604e-08 \n",
      "           iter         loglike Rel.Dif.loglike \n",
      "      6.900e+01      -7.503e+02       3.745e-08 \n",
      "           iter         loglike Rel.Dif.loglike \n",
      "      7.000e+01      -7.503e+02       3.044e-08 \n",
      "           iter         loglike Rel.Dif.loglike \n",
      "      7.100e+01      -7.503e+02       2.472e-08 \n",
      "           iter         loglike Rel.Dif.loglike \n",
      "      7.200e+01      -7.503e+02       2.004e-08 \n",
      "           iter         loglike Rel.Dif.loglike \n",
      "      7.300e+01      -7.503e+02       1.622e-08 \n",
      "           iter         loglike Rel.Dif.loglike \n",
      "      7.400e+01      -7.503e+02       1.312e-08 \n",
      "           iter         loglike Rel.Dif.loglike \n",
      "      7.500e+01      -7.503e+02       1.060e-08 \n",
      "           iter         loglike Rel.Dif.loglike \n",
      "      7.600e+01      -7.503e+02       9.035e-09 \n",
      "\n",
      "Call:\n",
      "lm.bp(l1 = g1 ~ team1 + team2, l2 = g2 ~ team1 + team2, l1l2 = ~team1 + \n",
      "    team2, l3 = ~1, data = D, common.intercept = FALSE, zeroL3 = FALSE, \n",
      "    maxit = 300, pres = 1e-08, verbose = FALSE)\n",
      "\n",
      "Coefficients:\n",
      "    (l1):(Intercept)  (l1):team1Atalanta    (l1):team1Bari        \n",
      "            -0.24829               0.16367               0.05607  \n",
      "(l1):team1Cagliari    (l1):team1Cremonese   (l1):team1Fiorentina  \n",
      "             0.61254               0.37469               0.96217  \n",
      "(l1):team1Foggia      (l1):team1Genoa       (l1):team1Inter       \n",
      "             1.20051               0.69340              -0.16676  \n",
      "(l1):team1Juventus    (l1):team1Lazio       (l1):team1Milan       \n",
      "             0.95972               1.01397               1.53802  \n",
      "(l1):team1Napoli      (l1):team1Parma       (l1):team1Roma        \n",
      "             1.26216               0.56203               0.56769  \n",
      "(l1):team1Sampdoria   (l1):team1Torino      (l1):team1Verona      \n",
      "             1.00913               0.81364               0.56413  \n",
      "(l1):team2Atalanta    (l1):team2Bari        (l1):team2Cagliari    \n",
      "            -0.93915              -0.23165              -0.58150  \n",
      "(l1):team2Cremonese   (l1):team2Fiorentina  (l1):team2Foggia      \n",
      "            -0.23401              -0.31982              -0.05172  \n",
      "(l1):team2Genoa       (l1):team2Inter       (l1):team2Juventus    \n",
      "            -0.29727              -0.88256              -1.07899  \n",
      "(l1):team2Lazio       (l1):team2Milan       (l1):team2Napoli      \n",
      "            -0.60563              -2.72656              -0.38633  \n",
      "(l1):team2Parma       (l1):team2Roma        (l1):team2Sampdoria   \n",
      "            -0.84924              -0.74869              -0.95180  \n",
      "(l1):team2Torino      (l1):team2Verona          (l2):(Intercept)  \n",
      "            -1.31528               0.09250              -0.57786  \n",
      "(l2):team1Atalanta    (l2):team1Bari        (l2):team1Cagliari    \n",
      "            -0.72045              -0.68948              -0.92810  \n",
      "(l2):team1Cremonese   (l2):team1Fiorentina  (l2):team1Foggia      \n",
      "            -0.33597              -0.92470              -0.20454  \n",
      "(l2):team1Genoa       (l2):team1Inter       (l2):team1Juventus    \n",
      "            -0.50191              -1.40909             -12.88024  \n",
      "(l2):team1Lazio       (l2):team1Milan       (l2):team1Napoli      \n",
      "            -0.54250              -1.87688              -1.12641  \n",
      "(l2):team1Parma       (l2):team1Roma        (l2):team1Sampdoria   \n",
      "            -1.80402              -1.36446              -0.89023  \n",
      "(l2):team1Torino      (l2):team1Verona      (l2):team2Atalanta    \n",
      "            -2.32726              -0.57620               1.05020  \n",
      "(l2):team2Bari        (l2):team2Cagliari    (l2):team2Cremonese   \n",
      "             0.48595               0.57210               0.61704  \n",
      "(l2):team2Fiorentina  (l2):team2Foggia      (l2):team2Genoa       \n",
      "             1.13000               1.61994               0.76094  \n",
      "(l2):team2Inter       (l2):team2Juventus    (l2):team2Lazio       \n",
      "             0.99816               0.99433               0.96487  \n",
      "(l2):team2Milan       (l2):team2Napoli      (l2):team2Parma       \n",
      "             1.53931               1.27874               0.42579  \n",
      "(l2):team2Roma        (l2):team2Sampdoria   (l2):team2Torino      \n",
      "             1.03700               0.37623               1.16753  \n",
      "(l2):team2Verona          (l3):(Intercept)  \n",
      "           -12.93196              -1.10255  \n",
      "\n"
     ]
    },
    {
     "name": "stdout",
     "output_type": "stream",
     "text": [
      "Saturated   BivPois \n",
      " 4899.038  1956.104 \n"
     ]
    }
   ],
   "source": [
    "MPR = lm.bp(g1~team1+team2, g2~team1+team2, l1l2=~team1+team2, data=D)\n",
    "print(MPR)\n",
    "print(MPR$BIC)"
   ]
  },
  {
   "cell_type": "markdown",
   "metadata": {},
   "source": [
    "* the negative multinomial distribution is obtained as follows,"
   ]
  },
  {
   "cell_type": "code",
   "execution_count": 7,
   "metadata": {},
   "outputs": [
    {
     "name": "stderr",
     "output_type": "stream",
     "text": [
      "Warning message in DMD.NegMN.fit(data = data, init = init, weight = weight, epsilon = epsilon, :\n",
      "“The algorithm doesn't converge within 4 iterations”"
     ]
    },
    {
     "name": "stdout",
     "output_type": "stream",
     "text": [
      "        estimate         SE\n",
      "p_g1  0.08983118 0.04110484\n",
      "p_g2  0.06244363 0.02864577\n",
      "phi  12.64413393 6.78869549\n",
      "\n",
      "Distribution: Negative Multinomial\n",
      "Log-likelihood: -844.3806\n",
      "BIC: 1705.932\n",
      "AIC: 1694.761\n",
      "LRT test p value: NA\n",
      "Iterations: 4\n"
     ]
    }
   ],
   "source": [
    "NMD = MGLMfit(Y, dist='NegMN')\n",
    "print(NMD)"
   ]
  },
  {
   "cell_type": "markdown",
   "metadata": {},
   "source": [
    "* the negative multinomial regression is obtained as follows,"
   ]
  },
  {
   "cell_type": "code",
   "execution_count": 8,
   "metadata": {},
   "outputs": [
    {
     "name": "stderr",
     "output_type": "stream",
     "text": [
      "Warning message in DMD.NegMN.fit(Y, weight = weight):\n",
      "“The algorithm doesn't converge within 4 iterations”Warning message in DMD.NegMN.Alpha.reg(Y = structure(c(1, 2, 2, 3, 1, 1, 1, 2, 1, :\n",
      "“The algorithm doesn't converge within 14 iterations. The norm of the gradient is  2564.20667890698  Please interpret hessian matrix and MLE with caution. \n",
      "”Warning message in DMD.NegMN.Alpha.reg(Y = structure(c(1, 2, 2, 3, 1, 1, 1, 2, 1, :\n",
      "“The estimate is a saddle point.\n",
      "”"
     ]
    },
    {
     "name": "stdout",
     "output_type": "stream",
     "text": [
      "Call: MGLMreg(formula = Y ~ X, dist = \"NegMN\")\n",
      "\n",
      "Coefficients:\n",
      "$alpha\n",
      "                     g1           g2\n",
      "(Intercept)  0.70511757  0.307472139\n",
      "Xteam11     -0.45418646  0.769092272\n",
      "Xteam12     -0.69059094 -0.212226573\n",
      "Xteam13     -0.70084124 -0.026092734\n",
      "Xteam14     -0.33486422 -0.347006604\n",
      "Xteam15     -0.66776228  0.126868590\n",
      "Xteam16     -0.15993849 -0.211032307\n",
      "Xteam17      0.23290793  0.248862382\n",
      "Xteam18      0.74521867  1.083146368\n",
      "Xteam19     -0.95776820 -0.554338592\n",
      "Xteam110     0.06856470 -1.030773857\n",
      "Xteam111     0.11166414  0.160832474\n",
      "Xteam112     0.50899326 -0.678737669\n",
      "Xteam113     0.27138261 -0.190488123\n",
      "Xteam114    -0.17767262 -0.531121225\n",
      "Xteam115    -0.39184354 -0.650651194\n",
      "Xteam116    -0.10476743 -0.323051556\n",
      "Xteam117     0.06170081 -0.645166465\n",
      "Xteam21      0.56942772 -0.159860124\n",
      "Xteam22     -0.41343695  0.083043958\n",
      "Xteam23      0.33170507 -0.337055135\n",
      "Xteam24     -0.25939131 -0.597761597\n",
      "Xteam25      0.18730270 -0.174723002\n",
      "Xteam26      0.21820723  0.201683605\n",
      "Xteam27      0.53943068  0.736321815\n",
      "Xteam28      0.28510481 -0.009472776\n",
      "Xteam29     -0.34522000 -0.027832201\n",
      "Xteam210    -0.34160797  0.078933287\n",
      "Xteam211    -0.12112690 -0.147482353\n",
      "Xteam212    -0.68064374  0.692444741\n",
      "Xteam213     0.30194931  0.501542567\n",
      "Xteam214    -0.30266540 -0.481060196\n",
      "Xteam215    -0.19695427  0.202478279\n",
      "Xteam216    -0.23241311 -0.001780793\n",
      "Xteam217    -0.69089369 -0.032123799\n",
      "\n",
      "$phi\n",
      "          \n",
      "0.8201901 \n",
      "\n",
      "\n",
      "Hypothesis test: \n",
      "            wald value Pr(>wald)\n",
      "(Intercept)         NA        NA\n",
      "Xteam11             NA        NA\n",
      "Xteam12             NA        NA\n",
      "Xteam13             NA        NA\n",
      "Xteam14             NA        NA\n",
      "Xteam15             NA        NA\n",
      "Xteam16             NA        NA\n",
      "Xteam17             NA        NA\n",
      "Xteam18             NA        NA\n",
      "Xteam19             NA        NA\n",
      "Xteam110            NA        NA\n",
      "Xteam111            NA        NA\n",
      "Xteam112            NA        NA\n",
      "Xteam113            NA        NA\n",
      "Xteam114            NA        NA\n",
      "Xteam115            NA        NA\n",
      "Xteam116            NA        NA\n",
      "Xteam117            NA        NA\n",
      "Xteam21             NA        NA\n",
      "Xteam22             NA        NA\n",
      "Xteam23             NA        NA\n",
      "Xteam24             NA        NA\n",
      "Xteam25             NA        NA\n",
      "Xteam26             NA        NA\n",
      "Xteam27             NA        NA\n",
      "Xteam28             NA        NA\n",
      "Xteam29             NA        NA\n",
      "Xteam210            NA        NA\n",
      "Xteam211            NA        NA\n",
      "Xteam212            NA        NA\n",
      "Xteam213            NA        NA\n",
      "Xteam214            NA        NA\n",
      "Xteam215            NA        NA\n",
      "Xteam216            NA        NA\n",
      "Xteam217            NA        NA\n",
      "\n",
      "Distribution: Negative Multinomial\n",
      "Log-likelihood: NA\n",
      "BIC: 2176.325\n",
      "AIC: 1911.951\n",
      "Iterations: 14\n"
     ]
    }
   ],
   "source": [
    "NMR = MGLMreg(Y ~ X, dist='NegMN')\n",
    "print(NMR)"
   ]
  },
  {
   "cell_type": "markdown",
   "metadata": {},
   "source": [
    "Note that for the `MLGM` library, lines where the sample total is `0` must be removed for singular distributions."
   ]
  },
  {
   "cell_type": "code",
   "execution_count": 9,
   "metadata": {},
   "outputs": [],
   "source": [
    "Y = Y[S > 0,]\n",
    "X = X[S > 0,]"
   ]
  },
  {
   "cell_type": "markdown",
   "metadata": {},
   "source": [
    "But, as stated in the article, the `MGLM` library provides the MLEs of:\n",
    "\n",
    "* the singular multinomial distribution obtained as follows,"
   ]
  },
  {
   "cell_type": "code",
   "execution_count": 10,
   "metadata": {},
   "outputs": [
    {
     "name": "stdout",
     "output_type": "stream",
     "text": [
      "          estimate         SE\n",
      "alpha_g1 0.5989072 0.02993883\n",
      "alpha_g2 0.4010928 0.02993883\n",
      "\n",
      "Distribution: Multinomial\n",
      "Log-likelihood: -284.2943\n",
      "BIC: 574.1796\n",
      "AIC: 570.5886\n",
      "LRT test p value: \n",
      "Iterations: \n"
     ]
    }
   ],
   "source": [
    "MND = MGLMfit(Y, dist='MN')\n",
    "print(MND)"
   ]
  },
  {
   "cell_type": "markdown",
   "metadata": {},
   "source": [
    "* the singular multinomial regression (Note that this estimation is not working properly in `R`. It has therefore been commented, to uncomment, please change the next cell metadata from `Raw NbConvert` to `Code`)"
   ]
  },
  {
   "cell_type": "raw",
   "metadata": {},
   "source": [
    "MNR = MGLMreg(Y ~ X, dist='MN')\n",
    "print(MNR)"
   ]
  },
  {
   "cell_type": "markdown",
   "metadata": {},
   "source": [
    "* the singular Dirichlet multinomial distribution (Note that the singular generalized Dirichlet multinomial distribution is not considered after since when there is only 2 response variables, generalized Dirichlet multinomial models are equivalent to Dirichlet multinomial models)"
   ]
  },
  {
   "cell_type": "code",
   "execution_count": 11,
   "metadata": {},
   "outputs": [
    {
     "name": "stdout",
     "output_type": "stream",
     "text": [
      "         estimate       SE\n",
      "alpha_g1 93.66414 443.3854\n",
      "alpha_g2 65.04395 308.1834\n",
      "\n",
      "Distribution: Dirichlet Multinomial\n",
      "Log-likelihood: -284.1546\n",
      "BIC: 579.4912\n",
      "AIC: 572.3092\n",
      "LRT test p value: 0.597\n",
      "Iterations: 20\n"
     ]
    }
   ],
   "source": [
    "DMD = MGLMfit(Y, dist='DM')\n",
    "print(DMD)"
   ]
  },
  {
   "cell_type": "markdown",
   "metadata": {},
   "source": [
    "* the singular Dirichlet multinomial regression (Note that the singular generalized Dirichlet multinomial regression is not considered after since when there is only 2 response variables, generalized Dirichlet multinomial models are equivalent to Dirichlet multinomial models)"
   ]
  },
  {
   "cell_type": "code",
   "execution_count": 12,
   "metadata": {},
   "outputs": [
    {
     "name": "stderr",
     "output_type": "stream",
     "text": [
      "Warning message in DMD.DM.reg(Y = structure(c(1, 2, 2, 3, 1, 1, 1, 2, 1, 1, 4, 5, :\n",
      "“The algorithm doesn't converge within 150 iterations. The norm of the gradient is 0.925310895478155 . Please interpret hessian matrix and MLE with caution. \n",
      "”"
     ]
    },
    {
     "name": "stdout",
     "output_type": "stream",
     "text": [
      "Call: MGLMreg(formula = Y ~ X, dist = \"DM\")\n",
      "\n",
      "Coefficients:\n",
      "                    g1          g2\n",
      "(Intercept)  6.4422442  6.06191555\n",
      "Xteam11     -2.7348584 -1.49039287\n",
      "Xteam12     -2.2923168 -1.85277642\n",
      "Xteam13     -2.9635235 -2.26797443\n",
      "Xteam14     -1.8096093 -1.74084758\n",
      "Xteam15      2.8159873  3.61485146\n",
      "Xteam16     -3.7814115 -3.67706124\n",
      "Xteam17      2.8026461  2.76080874\n",
      "Xteam18      2.1707128  2.50584131\n",
      "Xteam19      2.2368886  2.67785722\n",
      "Xteam110     1.8164244  0.64704692\n",
      "Xteam111     1.0744597  1.11599903\n",
      "Xteam112     3.1255086  1.89130786\n",
      "Xteam113    -0.7086641 -1.16900405\n",
      "Xteam114     1.2421985  0.82964302\n",
      "Xteam115     0.4410521 -0.01560528\n",
      "Xteam116    -6.3728359 -6.36001393\n",
      "Xteam117     0.4421646 -0.31752048\n",
      "Xteam21     -1.3030100 -2.02106733\n",
      "Xteam22     -4.8435076 -4.23232189\n",
      "Xteam23      2.1900109  1.46003826\n",
      "Xteam24      2.0522868  1.64784601\n",
      "Xteam25      2.8541760  2.48677671\n",
      "Xteam26     -5.9332996 -5.87916326\n",
      "Xteam27      1.3522271  1.53586256\n",
      "Xteam28      2.3333430  1.96265932\n",
      "Xteam29     -2.1850962 -1.71437762\n",
      "Xteam210    -3.9945346 -3.56162705\n",
      "Xteam211     0.7505357  0.66659668\n",
      "Xteam212    -2.8500535 -1.46599484\n",
      "Xteam213     1.6051172  1.78247506\n",
      "Xteam214    -0.6444078 -0.86445740\n",
      "Xteam215     1.1530574  1.58779978\n",
      "Xteam216    -0.1398741  0.14849348\n",
      "Xteam217    -1.2152600 -0.62624793\n",
      "\n",
      "Hypothesis test: \n",
      "             wald value    Pr(>wald)\n",
      "(Intercept) 17.48261749 0.0001598446\n",
      "Xteam11     14.05272653 0.0008881559\n",
      "Xteam12      1.45987608 0.4819388502\n",
      "Xteam13      4.13950807 0.1262168225\n",
      "Xteam14      0.62422921 0.7318976453\n",
      "Xteam15      5.18673327 0.0747678995\n",
      "Xteam16      3.66508187 0.1600064850\n",
      "Xteam17      0.48542873 0.7844955604\n",
      "Xteam18      1.37756806 0.5021863415\n",
      "Xteam19      1.20792384 0.5466415888\n",
      "Xteam110     7.68045831 0.0214886765\n",
      "Xteam111     0.16049123 0.9228896438\n",
      "Xteam112    11.59273778 0.0030385681\n",
      "Xteam113     2.01039807 0.3659717866\n",
      "Xteam114     1.24159119 0.5375166232\n",
      "Xteam115     1.14824240 0.5631995908\n",
      "Xteam116     6.79625293 0.0334358546\n",
      "Xteam117     3.52283738 0.1718009582\n",
      "Xteam21      3.77738213 0.1512696812\n",
      "Xteam22      2.74849636 0.2530297569\n",
      "Xteam23      4.05911249 0.1313938146\n",
      "Xteam24      1.13787049 0.5661279060\n",
      "Xteam25      1.13238437 0.5676829589\n",
      "Xteam26      0.26856822 0.8743416184\n",
      "Xteam27      0.45252367 0.7975092567\n",
      "Xteam28      1.18863862 0.5519381370\n",
      "Xteam29      1.56404603 0.4574795865\n",
      "Xteam210     1.39103739 0.4988156485\n",
      "Xteam211     0.05563979 0.9725635148\n",
      "Xteam212    14.90247984 0.0005807211\n",
      "Xteam213     0.34293306 0.8424284639\n",
      "Xteam214     0.29281183 0.8638069979\n",
      "Xteam215     1.71262736 0.4247248712\n",
      "Xteam216     0.56193414 0.7550531999\n",
      "Xteam217     2.13502715 0.3438624440\n",
      "\n",
      "Distribution: Dirichlet Multinomial\n",
      "Log-likelihood: -222.3773\n",
      "BIC: 836.1237\n",
      "AIC: 584.7546\n",
      "Iterations: 150\n"
     ]
    }
   ],
   "source": [
    "DMR = MGLMreg(Y ~ X, dist='DM')\n",
    "print(DMR)"
   ]
  },
  {
   "cell_type": "markdown",
   "metadata": {},
   "source": [
    "And, in the context of splitting distributions, each of these singular distribution can be combined with an univariate model of the sum to define a discrete multivariate model."
   ]
  },
  {
   "cell_type": "code",
   "execution_count": 13,
   "metadata": {},
   "outputs": [],
   "source": [
    "X = as.matrix(model.matrix(~team1+team2, data=D)[,-c(1)])"
   ]
  },
  {
   "cell_type": "markdown",
   "metadata": {},
   "source": [
    "For example, we can use usual MLEs or MMEs of:\n",
    "\n",
    "* Poisson distribution,"
   ]
  },
  {
   "cell_type": "code",
   "execution_count": 14,
   "metadata": {},
   "outputs": [
    {
     "data": {
      "text/plain": [
       "\n",
       "Call:\n",
       "glm(formula = S ~ 1, family = \"poisson\")\n",
       "\n",
       "Deviance Residuals: \n",
       "    Min       1Q   Median       3Q      Max  \n",
       "-2.1313  -0.9496  -0.1838   0.4606   3.7666  \n",
       "\n",
       "Coefficients:\n",
       "            Estimate Std. Error z value Pr(>|z|)    \n",
       "(Intercept)  0.82033    0.03793   21.63   <2e-16 ***\n",
       "---\n",
       "Signif. codes:  0 ‘***’ 0.001 ‘**’ 0.01 ‘*’ 0.05 ‘.’ 0.1 ‘ ’ 1\n",
       "\n",
       "(Dispersion parameter for poisson family taken to be 1)\n",
       "\n",
       "    Null deviance: 395.81  on 305  degrees of freedom\n",
       "Residual deviance: 395.81  on 305  degrees of freedom\n",
       "AIC: 1126.9\n",
       "\n",
       "Number of Fisher Scoring iterations: 5\n"
      ]
     },
     "metadata": {},
     "output_type": "display_data"
    },
    {
     "data": {
      "text/html": [
       "1130.64418806235"
      ],
      "text/latex": [
       "1130.64418806235"
      ],
      "text/markdown": [
       "1130.64418806235"
      ],
      "text/plain": [
       "[1] 1130.644"
      ]
     },
     "metadata": {},
     "output_type": "display_data"
    }
   ],
   "source": [
    "UPD = glm(S~1, family=\"poisson\")\n",
    "summary(UPD)\n",
    "BIC(UPD)"
   ]
  },
  {
   "cell_type": "markdown",
   "metadata": {},
   "source": [
    "* Poisson regression,"
   ]
  },
  {
   "cell_type": "code",
   "execution_count": 15,
   "metadata": {},
   "outputs": [
    {
     "data": {
      "text/plain": [
       "\n",
       "Call:\n",
       "glm(formula = S ~ X, family = \"poisson\")\n",
       "\n",
       "Deviance Residuals: \n",
       "    Min       1Q   Median       3Q      Max  \n",
       "-2.4770  -0.7873  -0.1263   0.5485   2.6815  \n",
       "\n",
       "Coefficients:\n",
       "            Estimate Std. Error z value Pr(>|z|)    \n",
       "(Intercept)  0.77256    0.03973  19.445  < 2e-16 ***\n",
       "Xteam11      0.19281    0.14620   1.319  0.18724    \n",
       "Xteam12     -0.23550    0.17667  -1.333  0.18255    \n",
       "Xteam13     -0.10249    0.16656  -0.615  0.53832    \n",
       "Xteam14     -0.14444    0.16886  -0.855  0.39233    \n",
       "Xteam15     -0.04363    0.16215  -0.269  0.78785    \n",
       "Xteam16      0.09305    0.15261   0.610  0.54207    \n",
       "Xteam17      0.41570    0.13349   3.114  0.00185 ** \n",
       "Xteam18      0.08842    0.15259   0.579  0.56227    \n",
       "Xteam19     -0.50320    0.20057  -2.509  0.01211 *  \n",
       "Xteam110    -0.08397    0.16425  -0.511  0.60919    \n",
       "Xteam111     0.27535    0.13916   1.979  0.04785 *  \n",
       "Xteam112     0.34790    0.13558   2.566  0.01029 *  \n",
       "Xteam113     0.25770    0.14192   1.816  0.06940 .  \n",
       "Xteam114    -0.17974    0.17132  -1.049  0.29410    \n",
       "Xteam115    -0.29568    0.18260  -1.619  0.10540    \n",
       "Xteam116    -0.00302    0.15802  -0.019  0.98475    \n",
       "Xteam117    -0.11899    0.16648  -0.715  0.47476    \n",
       "Xteam21      0.24927    0.14184   1.757  0.07886 .  \n",
       "Xteam22     -0.11972    0.16645  -0.719  0.47197    \n",
       "Xteam23      0.02385    0.15609   0.153  0.87858    \n",
       "Xteam24     -0.20783    0.17390  -1.195  0.23205    \n",
       "Xteam25      0.05228    0.15427   0.339  0.73469    \n",
       "Xteam26      0.15562    0.14762   1.054  0.29180    \n",
       "Xteam27      0.50663    0.12730   3.980 6.89e-05 ***\n",
       "Xteam28      0.08471    0.15254   0.555  0.57867    \n",
       "Xteam29     -0.16001    0.16877  -0.948  0.34308    \n",
       "Xteam210    -0.17302    0.17132  -1.010  0.31254    \n",
       "Xteam211    -0.11936    0.16895  -0.706  0.47989    \n",
       "Xteam212     0.12759    0.15094   0.845  0.39795    \n",
       "Xteam213     0.25399    0.14187   1.790  0.07341 .  \n",
       "Xteam214    -0.31132    0.18252  -1.706  0.08806 .  \n",
       "Xteam215     0.04019    0.15421   0.261  0.79439    \n",
       "Xteam216    -0.20034    0.17394  -1.152  0.24939    \n",
       "Xteam217    -0.30835    0.18253  -1.689  0.09116 .  \n",
       "---\n",
       "Signif. codes:  0 ‘***’ 0.001 ‘**’ 0.01 ‘*’ 0.05 ‘.’ 0.1 ‘ ’ 1\n",
       "\n",
       "(Dispersion parameter for poisson family taken to be 1)\n",
       "\n",
       "    Null deviance: 395.81  on 305  degrees of freedom\n",
       "Residual deviance: 329.22  on 271  degrees of freedom\n",
       "AIC: 1128.3\n",
       "\n",
       "Number of Fisher Scoring iterations: 5\n"
      ]
     },
     "metadata": {},
     "output_type": "display_data"
    },
    {
     "data": {
      "text/html": [
       "1258.6506139884"
      ],
      "text/latex": [
       "1258.6506139884"
      ],
      "text/markdown": [
       "1258.6506139884"
      ],
      "text/plain": [
       "[1] 1258.651"
      ]
     },
     "metadata": {},
     "output_type": "display_data"
    }
   ],
   "source": [
    "UPR = glm(S~X, family=\"poisson\")\n",
    "summary(UPR)\n",
    "BIC(UPR)"
   ]
  },
  {
   "cell_type": "markdown",
   "metadata": {},
   "source": [
    "* Binomial distribution (since the MLE of the binommial distribution index parameter is not available in **R**, we use the MMEs),"
   ]
  },
  {
   "cell_type": "code",
   "execution_count": 16,
   "metadata": {},
   "outputs": [
    {
     "data": {
      "text/plain": [
       "\n",
       "Call:\n",
       "glm(formula = BS ~ 1, family = \"binomial\")\n",
       "\n",
       "Deviance Residuals: \n",
       "    Min       1Q   Median       3Q      Max  \n",
       "-2.2700  -1.0490  -0.2078   0.5321   5.4447  \n",
       "\n",
       "Coefficients:\n",
       "            Estimate Std. Error z value Pr(>|z|)    \n",
       "(Intercept) -1.22462    0.04315  -28.38   <2e-16 ***\n",
       "---\n",
       "Signif. codes:  0 ‘***’ 0.001 ‘**’ 0.01 ‘*’ 0.05 ‘.’ 0.1 ‘ ’ 1\n",
       "\n",
       "(Dispersion parameter for binomial family taken to be 1)\n",
       "\n",
       "    Null deviance: 518.52  on 305  degrees of freedom\n",
       "Residual deviance: 518.52  on 305  degrees of freedom\n",
       "AIC: 1162\n",
       "\n",
       "Number of Fisher Scoring iterations: 4\n"
      ]
     },
     "metadata": {},
     "output_type": "display_data"
    },
    {
     "name": "stdout",
     "output_type": "stream",
     "text": [
      "[1] 1165.688\n"
     ]
    }
   ],
   "source": [
    "index = max(round((mean(S) ^ 2)/(mean(S) - var(S))), max(S))\n",
    "BS = cbind(S, index - S)\n",
    "BD = glm(BS~1, family=\"binomial\")\n",
    "summary(BD)\n",
    "print(BIC(BD))"
   ]
  },
  {
   "cell_type": "markdown",
   "metadata": {},
   "source": [
    "* Binomial regression (the index parameter of the binomial regression is assumed to be known and equal to the MME for binomial distribution),"
   ]
  },
  {
   "cell_type": "code",
   "execution_count": 17,
   "metadata": {},
   "outputs": [
    {
     "data": {
      "text/plain": [
       "\n",
       "Call:\n",
       "glm(formula = BS ~ X, family = \"binomial\")\n",
       "\n",
       "Deviance Residuals: \n",
       "    Min       1Q   Median       3Q      Max  \n",
       "-2.7021  -0.9095  -0.1385   0.6404   4.4761  \n",
       "\n",
       "Coefficients:\n",
       "            Estimate Std. Error z value Pr(>|z|)    \n",
       "(Intercept) -1.26873    0.04481 -28.312  < 2e-16 ***\n",
       "Xteam11      0.24900    0.17150   1.452 0.146530    \n",
       "Xteam12     -0.30813    0.19628  -1.570 0.116450    \n",
       "Xteam13     -0.14140    0.18775  -0.753 0.451365    \n",
       "Xteam14     -0.19512    0.18958  -1.029 0.303373    \n",
       "Xteam15     -0.06605    0.18410  -0.359 0.719776    \n",
       "Xteam16      0.11360    0.17646   0.644 0.519710    \n",
       "Xteam17      0.56357    0.16218   3.475 0.000511 ***\n",
       "Xteam18      0.10743    0.17646   0.609 0.542631    \n",
       "Xteam19     -0.62897    0.21734  -2.894 0.003805 ** \n",
       "Xteam110    -0.11839    0.18576  -0.637 0.523926    \n",
       "Xteam111     0.36749    0.16647   2.207 0.027280 *  \n",
       "Xteam112     0.47175    0.16410   2.875 0.004042 ** \n",
       "Xteam113     0.33974    0.16837   2.018 0.043616 *  \n",
       "Xteam114    -0.23953    0.19159  -1.250 0.211216    \n",
       "Xteam115    -0.38077    0.20146  -1.890 0.058756 .  \n",
       "Xteam116    -0.01382    0.18067  -0.076 0.939031    \n",
       "Xteam117    -0.16316    0.18752  -0.870 0.384252    \n",
       "Xteam21      0.33039    0.16851   1.961 0.049914 *  \n",
       "Xteam22     -0.16316    0.18763  -0.870 0.384514    \n",
       "Xteam23      0.02273    0.17927   0.127 0.899107    \n",
       "Xteam24     -0.27345    0.19396  -1.410 0.158590    \n",
       "Xteam25      0.06046    0.17786   0.340 0.733900    \n",
       "Xteam26      0.20010    0.17277   1.158 0.246779    \n",
       "Xteam27      0.71037    0.15891   4.470 7.81e-06 ***\n",
       "Xteam28      0.10382    0.17653   0.588 0.556442    \n",
       "Xteam29     -0.21428    0.18937  -1.132 0.257830    \n",
       "Xteam210    -0.22989    0.19180  -1.199 0.230672    \n",
       "Xteam211    -0.16043    0.18974  -0.846 0.397813    \n",
       "Xteam212     0.16102    0.17508   0.920 0.357744    \n",
       "Xteam213     0.33646    0.16847   1.997 0.045814 *  \n",
       "Xteam214    -0.40047    0.20137  -1.989 0.046732 *  \n",
       "Xteam215     0.04426    0.17767   0.249 0.803288    \n",
       "Xteam216    -0.26359    0.19404  -1.358 0.174323    \n",
       "Xteam217    -0.39664    0.20141  -1.969 0.048918 *  \n",
       "---\n",
       "Signif. codes:  0 ‘***’ 0.001 ‘**’ 0.01 ‘*’ 0.05 ‘.’ 0.1 ‘ ’ 1\n",
       "\n",
       "(Dispersion parameter for binomial family taken to be 1)\n",
       "\n",
       "    Null deviance: 518.52  on 305  degrees of freedom\n",
       "Residual deviance: 430.97  on 271  degrees of freedom\n",
       "AIC: 1142.4\n",
       "\n",
       "Number of Fisher Scoring iterations: 4\n"
      ]
     },
     "metadata": {},
     "output_type": "display_data"
    },
    {
     "name": "stdout",
     "output_type": "stream",
     "text": [
      "[1] 1272.746\n"
     ]
    }
   ],
   "source": [
    "BR = glm(BS~X, family=\"binomial\")\n",
    "summary(BR)\n",
    "print(BIC(BR))"
   ]
  },
  {
   "cell_type": "markdown",
   "metadata": {},
   "source": [
    "* Negative binomial distribution,"
   ]
  },
  {
   "cell_type": "code",
   "execution_count": 18,
   "metadata": {},
   "outputs": [
    {
     "data": {
      "text/plain": [
       "\n",
       "Call:\n",
       "glm.nb(formula = S ~ 1, init.theta = 12.64429557, link = log)\n",
       "\n",
       "Deviance Residuals: \n",
       "    Min       1Q   Median       3Q      Max  \n",
       "-2.0439  -0.8890  -0.1697   0.4209   3.2767  \n",
       "\n",
       "Coefficients:\n",
       "            Estimate Std. Error z value Pr(>|z|)    \n",
       "(Intercept)   0.8203     0.0412   19.91   <2e-16 ***\n",
       "---\n",
       "Signif. codes:  0 ‘***’ 0.001 ‘**’ 0.01 ‘*’ 0.05 ‘.’ 0.1 ‘ ’ 1\n",
       "\n",
       "(Dispersion parameter for Negative Binomial(12.6443) family taken to be 1)\n",
       "\n",
       "    Null deviance: 341.94  on 305  degrees of freedom\n",
       "Residual deviance: 341.94  on 305  degrees of freedom\n",
       "AIC: 1124.4\n",
       "\n",
       "Number of Fisher Scoring iterations: 1\n",
       "\n",
       "\n",
       "              Theta:  12.64 \n",
       "          Std. Err.:  6.79 \n",
       "\n",
       " 2 x log-likelihood:  -1120.405 "
      ]
     },
     "metadata": {},
     "output_type": "display_data"
    },
    {
     "data": {
      "text/html": [
       "1131.85255959696"
      ],
      "text/latex": [
       "1131.85255959696"
      ],
      "text/markdown": [
       "1131.85255959696"
      ],
      "text/plain": [
       "[1] 1131.853"
      ]
     },
     "metadata": {},
     "output_type": "display_data"
    }
   ],
   "source": [
    "NBD = glm.nb(S~1)\n",
    "summary(NBD)\n",
    "BIC(NBD)"
   ]
  },
  {
   "cell_type": "markdown",
   "metadata": {},
   "source": [
    "* Negative binomial regression,"
   ]
  },
  {
   "cell_type": "code",
   "execution_count": 19,
   "metadata": {},
   "outputs": [
    {
     "name": "stderr",
     "output_type": "stream",
     "text": [
      "Warning message in theta.ml(Y, mu, sum(w), w, limit = control$maxit, trace = control$trace > :\n",
      "“iteration limit reached”Warning message in theta.ml(Y, mu, sum(w), w, limit = control$maxit, trace = control$trace > :\n",
      "“iteration limit reached”"
     ]
    },
    {
     "data": {
      "text/plain": [
       "\n",
       "Call:\n",
       "glm.nb(formula = S ~ X, init.theta = 14952.79742, link = log)\n",
       "\n",
       "Deviance Residuals: \n",
       "    Min       1Q   Median       3Q      Max  \n",
       "-2.4769  -0.7872  -0.1263   0.5484   2.6810  \n",
       "\n",
       "Coefficients:\n",
       "             Estimate Std. Error z value Pr(>|z|)    \n",
       "(Intercept)  0.772556   0.039734  19.443  < 2e-16 ***\n",
       "Xteam11      0.192821   0.146214   1.319  0.18725    \n",
       "Xteam12     -0.235509   0.176687  -1.333  0.18256    \n",
       "Xteam13     -0.102495   0.166567  -0.615  0.53833    \n",
       "Xteam14     -0.144447   0.168874  -0.855  0.39235    \n",
       "Xteam15     -0.043631   0.162157  -0.269  0.78788    \n",
       "Xteam16      0.093045   0.152626   0.610  0.54211    \n",
       "Xteam17      0.415699   0.133509   3.114  0.00185 ** \n",
       "Xteam18      0.088427   0.152603   0.579  0.56228    \n",
       "Xteam19     -0.503199   0.200580  -2.509  0.01212 *  \n",
       "Xteam110    -0.083974   0.164262  -0.511  0.60920    \n",
       "Xteam111     0.275343   0.139171   1.978  0.04788 *  \n",
       "Xteam112     0.347897   0.135591   2.566  0.01029 *  \n",
       "Xteam113     0.257697   0.141934   1.816  0.06943 .  \n",
       "Xteam114    -0.179743   0.171328  -1.049  0.29413    \n",
       "Xteam115    -0.295676   0.182613  -1.619  0.10542    \n",
       "Xteam116    -0.003017   0.158036  -0.019  0.98477    \n",
       "Xteam117    -0.119001   0.166493  -0.715  0.47476    \n",
       "Xteam21      0.249282   0.141859   1.757  0.07887 .  \n",
       "Xteam22     -0.119732   0.166465  -0.719  0.47198    \n",
       "Xteam23      0.023844   0.156105   0.153  0.87860    \n",
       "Xteam24     -0.207843   0.173916  -1.195  0.23206    \n",
       "Xteam25      0.052283   0.154285   0.339  0.73471    \n",
       "Xteam26      0.155626   0.147637   1.054  0.29183    \n",
       "Xteam27      0.506632   0.127311   3.979 6.91e-05 ***\n",
       "Xteam28      0.084726   0.152558   0.555  0.57864    \n",
       "Xteam29     -0.160008   0.168781  -0.948  0.34312    \n",
       "Xteam210    -0.173011   0.171334  -1.010  0.31260    \n",
       "Xteam211    -0.119364   0.168963  -0.706  0.47991    \n",
       "Xteam212     0.127586   0.150954   0.845  0.39800    \n",
       "Xteam213     0.253985   0.141885   1.790  0.07344 .  \n",
       "Xteam214    -0.311325   0.182527  -1.706  0.08808 .  \n",
       "Xteam215     0.040187   0.154226   0.261  0.79442    \n",
       "Xteam216    -0.200345   0.173948  -1.152  0.24942    \n",
       "Xteam217    -0.308350   0.182539  -1.689  0.09118 .  \n",
       "---\n",
       "Signif. codes:  0 ‘***’ 0.001 ‘**’ 0.01 ‘*’ 0.05 ‘.’ 0.1 ‘ ’ 1\n",
       "\n",
       "(Dispersion parameter for Negative Binomial(14952.8) family taken to be 1)\n",
       "\n",
       "    Null deviance: 395.76  on 305  degrees of freedom\n",
       "Residual deviance: 329.17  on 271  degrees of freedom\n",
       "AIC: 1130.3\n",
       "\n",
       "Number of Fisher Scoring iterations: 1\n",
       "\n",
       "\n",
       "              Theta:  14953 \n",
       "          Std. Err.:  229948 \n",
       "Warning while fitting theta: iteration limit reached \n",
       "\n",
       " 2 x log-likelihood:  -1058.326 "
      ]
     },
     "metadata": {},
     "output_type": "display_data"
    },
    {
     "data": {
      "text/html": [
       "1264.37544414996"
      ],
      "text/latex": [
       "1264.37544414996"
      ],
      "text/markdown": [
       "1264.37544414996"
      ],
      "text/plain": [
       "[1] 1264.375"
      ]
     },
     "metadata": {},
     "output_type": "display_data"
    }
   ],
   "source": [
    "NBR = glm.nb(S~X)\n",
    "summary(NBR)\n",
    "BIC(NBR)"
   ]
  }
 ],
 "metadata": {
  "kernelspec": {
   "display_name": "R",
   "language": "R",
   "name": "ir"
  },
  "language_info": {
   "codemirror_mode": "r",
   "file_extension": ".r",
   "mimetype": "text/x-r-source",
   "name": "R",
   "pygments_lexer": "r",
   "version": "3.4.3"
  },
  "toc": {
   "colors": {
    "hover_highlight": "#DAA520",
    "navigate_num": "#000000",
    "navigate_text": "#333333",
    "running_highlight": "#FF0000",
    "selected_highlight": "#FFD700",
    "sidebar_border": "#EEEEEE",
    "wrapper_background": "#FFFFFF"
   },
   "moveMenuLeft": true,
   "nav_menu": {
    "height": "45px",
    "width": "252px"
   },
   "navigate_menu": true,
   "number_sections": false,
   "sideBar": true,
   "threshold": 4,
   "toc_cell": false,
   "toc_section_display": "block",
   "toc_window_display": true,
   "widenNotebook": false
  }
 },
 "nbformat": 4,
 "nbformat_minor": 2
}
