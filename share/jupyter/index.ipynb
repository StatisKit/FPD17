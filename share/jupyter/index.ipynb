{
 "cells": [
  {
   "cell_type": "markdown",
   "metadata": {},
   "source": [
    "# Splitting Models for Multivariate Count Data\n",
    "\n",
    "This **Jupyter** notebook lists all notebooks available to illustrate the modeling apporoach presented in the eponymous article.\n",
    "\n",
    "It can be used to re-execute all these notebooks at once.\n",
    "Note that most of the following notebooks are saving results in figures.\n",
    "The modeling approach proposed is illustrated:"
   ]
  },
  {
   "cell_type": "markdown",
   "metadata": {},
   "source": [
    "* By a comparison of splitting distributions to usual discrete multivariate distributions on two different datasets (one concerning [football games](comparison_KN05.ipynb) and the other [RNA-seq data](comparison_ZZ17.ipynb))."
   ]
  },
  {
   "cell_type": "code",
   "execution_count": 4,
   "metadata": {
    "collapsed": true
   },
   "outputs": [],
   "source": [
    "comparison_KN05 = !jupyter nbconvert --to notebook comparison_KN05.ipynb --output comparison_KN05.ipynb"
   ]
  },
  {
   "cell_type": "code",
   "execution_count": null,
   "metadata": {},
   "outputs": [],
   "source": [
    "comparison_ZZ17 = !jupyter nbconvert --to notebook comparison_ZZ17.ipynb --output comparison_ZZ17.ipynb"
   ]
  },
  {
   "cell_type": "markdown",
   "metadata": {},
   "source": [
    "* By an [application](application.ipynb) of splitting distributions to the analyses of the mango tree patchiness at the whole population scale."
   ]
  },
  {
   "cell_type": "code",
   "execution_count": 5,
   "metadata": {
    "collapsed": true
   },
   "outputs": [],
   "source": [
    "application = !jupyter nbconvert --to notebook application.ipynb --output application.ipynb"
   ]
  },
  {
   "cell_type": "markdown",
   "metadata": {},
   "source": [
    "Note that all notebooks are executed inplace.\n",
    "Therefore by following the links presented, you should be able to investigate results of the last execution."
   ]
  }
 ],
 "metadata": {
  "kernelspec": {
   "display_name": "Python 3",
   "language": "python",
   "name": "python3"
  },
  "language_info": {
   "codemirror_mode": {
    "name": "ipython",
    "version": 3
   },
   "file_extension": ".py",
   "mimetype": "text/x-python",
   "name": "python",
   "nbconvert_exporter": "python",
   "pygments_lexer": "ipython3",
   "version": "3.6.4"
  },
  "toc": {
   "colors": {
    "hover_highlight": "#DAA520",
    "navigate_num": "#000000",
    "navigate_text": "#333333",
    "running_highlight": "#FF0000",
    "selected_highlight": "#FFD700",
    "sidebar_border": "#EEEEEE",
    "wrapper_background": "#FFFFFF"
   },
   "moveMenuLeft": true,
   "nav_menu": {
    "height": "45px",
    "width": "252px"
   },
   "navigate_menu": true,
   "number_sections": false,
   "sideBar": true,
   "threshold": 4,
   "toc_cell": false,
   "toc_section_display": "block",
   "toc_window_display": true,
   "widenNotebook": false
  }
 },
 "nbformat": 4,
 "nbformat_minor": 2
}
