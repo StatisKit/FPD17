{
 "cells": [
  {
   "cell_type": "markdown",
   "metadata": {},
   "source": [
    "# A Comparison of Multivariate Models for Count Data"
   ]
  },
  {
   "cell_type": "code",
   "execution_count": 1,
   "metadata": {
    "collapsed": true
   },
   "outputs": [],
   "source": [
    "import matplotlib\n",
    "%matplotlib nbagg\n",
    "from matplotlib import pyplot"
   ]
  },
  {
   "cell_type": "code",
   "execution_count": 2,
   "metadata": {
    "collapsed": true
   },
   "outputs": [],
   "source": [
    "%reload_ext rpy2.ipython"
   ]
  },
  {
   "cell_type": "code",
   "execution_count": 3,
   "metadata": {
    "collapsed": true
   },
   "outputs": [],
   "source": [
    "%%R\n",
    "library(MGLM)\n",
    "library(bivpois)"
   ]
  },
  {
   "cell_type": "code",
   "execution_count": 4,
   "metadata": {
    "collapsed": true
   },
   "outputs": [],
   "source": [
    "from statiskit import (linalg,\n",
    "                       core,\n",
    "                       glm)"
   ]
  },
  {
   "cell_type": "code",
   "execution_count": 5,
   "metadata": {
    "collapsed": true
   },
   "outputs": [],
   "source": [
    "%%R\n",
    "data('ex4.ita91')\n",
    "ita91 = ex4.ita91\n",
    "write.csv(ita91, 'ita91.csv', row.names=F)"
   ]
  },
  {
   "cell_type": "code",
   "execution_count": 6,
   "metadata": {
    "collapsed": true
   },
   "outputs": [],
   "source": [
    "data = core.read_csv('ita91.csv', sep=',', header=True)"
   ]
  },
  {
   "cell_type": "code",
   "execution_count": 7,
   "metadata": {
    "collapsed": true
   },
   "outputs": [],
   "source": [
    "mdata = data.extract(0,1)"
   ]
  },
  {
   "cell_type": "code",
   "execution_count": 8,
   "metadata": {
    "collapsed": true
   },
   "outputs": [],
   "source": [
    "mme = core.splitting_estimation(data = mdata,\n",
    "                                splitting = core.splitting_selection('MN',\n",
    "                                                                     'DM'),\n",
    "                                sum = core.selection(core.outcome_type.DISCRETE,\n",
    "                                                     estimators=[core.poisson_estimation('ml'),\n",
    "                                                                 core.binomial_estimation('ml', force=True),\n",
    "                                                                 core.negative_binomial_estimation('ml'),\n",
    "                                                                 core.shifted_estimation(core.outcome_type.DISCRETE,\n",
    "                                                                                         shift=-1,\n",
    "                                                                                         estimator=core.logarithmic_estimation('ml'))]))"
   ]
  },
  {
   "cell_type": "code",
   "execution_count": 9,
   "metadata": {},
   "outputs": [
    {
     "data": {
      "text/plain": [
       "[-565.3220940311769, -582.4311016773115, -565.9357309449964, -685.4209196019883]"
      ]
     },
     "execution_count": 9,
     "metadata": {},
     "output_type": "execute_result"
    }
   ],
   "source": [
    "mme.sum.scores"
   ]
  },
  {
   "cell_type": "code",
   "execution_count": 10,
   "metadata": {},
   "outputs": [
    {
     "data": {
      "text/plain": [
       "[-287.03973181566863, -289.8784145864973]"
      ]
     },
     "execution_count": 10,
     "metadata": {},
     "output_type": "execute_result"
    }
   ],
   "source": [
    "mme.splitting.scores"
   ]
  },
  {
   "cell_type": "code",
   "execution_count": 11,
   "metadata": {
    "collapsed": true
   },
   "outputs": [],
   "source": [
    "%%R\n",
    "N = as.matrix(ita91[,c(1,2)])\n",
    "X =  as.matrix(ita91[,c(3,4)])"
   ]
  },
  {
   "cell_type": "code",
   "execution_count": 12,
   "metadata": {},
   "outputs": [
    {
     "data": {
      "text/plain": [
       "        estimate         SE\n",
       "p_g1  0.08983118 0.04110484\n",
       "p_g2  0.06244363 0.02864577\n",
       "phi  12.64413393 6.78869549\n",
       "\n",
       "Distribution: Negative Multinomial\n",
       "Log-likelihood: -844.3806\n",
       "BIC: 1705.932\n",
       "AIC: 1694.761\n",
       "LRT test p value: NA\n",
       "Iterations: 4\n"
      ]
     },
     "metadata": {},
     "output_type": "display_data"
    }
   ],
   "source": [
    "%R print(MGLMfit(N, dist='NegMN'))"
   ]
  },
  {
   "cell_type": "code",
   "execution_count": 13,
   "metadata": {},
   "outputs": [
    {
     "name": "stdout",
     "output_type": "stream",
     "text": [
      "\n",
      "Error in `[[<-.data.frame`(`*tmp*`, i, value = c(2L, 3L, 4L, 5L, 6L, 7L,  : \n",
      "  replacement has 612 rows, data has 306\n"
     ]
    },
    {
     "name": "stderr",
     "output_type": "stream",
     "text": [
      "/home/pfernique/.miniconda/envs/FPD17/lib/python2.7/site-packages/rpy2/rinterface/__init__.py:186: RRuntimeWarning: Error in `[[<-.data.frame`(`*tmp*`, i, value = c(2L, 3L, 4L, 5L, 6L, 7L,  : \n",
      "  replacement has 612 rows, data has 306\n",
      "\n",
      "  warnings.warn(x, RRuntimeWarning)\n",
      "/home/pfernique/.miniconda/envs/FPD17/lib/python2.7/site-packages/rpy2/rinterface/__init__.py:186: RRuntimeWarning: In addition: \n",
      "  warnings.warn(x, RRuntimeWarning)\n",
      "/home/pfernique/.miniconda/envs/FPD17/lib/python2.7/site-packages/rpy2/rinterface/__init__.py:186: RRuntimeWarning: Warning message:\n",
      "\n",
      "  warnings.warn(x, RRuntimeWarning)\n",
      "/home/pfernique/.miniconda/envs/FPD17/lib/python2.7/site-packages/rpy2/rinterface/__init__.py:186: RRuntimeWarning: In DMD.NegMN.fit(data = data, init = init, weight = weight, epsilon = epsilon,  :\n",
      "  warnings.warn(x, RRuntimeWarning)\n",
      "/home/pfernique/.miniconda/envs/FPD17/lib/python2.7/site-packages/rpy2/rinterface/__init__.py:186: RRuntimeWarning: \n",
      " \n",
      "  warnings.warn(x, RRuntimeWarning)\n",
      "/home/pfernique/.miniconda/envs/FPD17/lib/python2.7/site-packages/rpy2/rinterface/__init__.py:186: RRuntimeWarning:  The algorithm doesn't converge within 4 iterations\n",
      "\n",
      "  warnings.warn(x, RRuntimeWarning)\n"
     ]
    }
   ],
   "source": [
    "%R print(MGLMreg(N ~ X, dist='NegMN'))"
   ]
  },
  {
   "cell_type": "code",
   "execution_count": 14,
   "metadata": {},
   "outputs": [
    {
     "data": {
      "text/plain": [
       "           iter         loglike Rel.Dif.loglike \n",
       "          1.000        -848.242           1.848 \n",
       "           iter         loglike Rel.Dif.loglike \n",
       "      2.000e+00      -8.454e+02       3.347e-03 \n",
       "           iter         loglike Rel.Dif.loglike \n",
       "      3.000e+00      -8.454e+02       4.269e-07 \n",
       "           iter         loglike Rel.Dif.loglike \n",
       "      4.000e+00      -8.454e+02       3.740e-07 \n",
       "           iter         loglike Rel.Dif.loglike \n",
       "      5.000e+00      -8.454e+02       3.275e-07 \n",
       "           iter         loglike Rel.Dif.loglike \n",
       "      6.000e+00      -8.454e+02       2.867e-07 \n",
       "           iter         loglike Rel.Dif.loglike \n",
       "      7.000e+00      -8.454e+02       2.508e-07 \n",
       "           iter         loglike Rel.Dif.loglike \n",
       "      8.000e+00      -8.454e+02       2.193e-07 \n",
       "           iter         loglike Rel.Dif.loglike \n",
       "      9.000e+00      -8.454e+02       1.917e-07 \n",
       "           iter         loglike Rel.Dif.loglike \n",
       "      1.000e+01      -8.454e+02       1.675e-07 \n",
       "           iter         loglike Rel.Dif.loglike \n",
       "      1.100e+01      -8.454e+02       1.463e-07 \n",
       "           iter         loglike Rel.Dif.loglike \n",
       "      1.200e+01      -8.454e+02       1.277e-07 \n",
       "           iter         loglike Rel.Dif.loglike \n",
       "      1.300e+01      -8.454e+02       1.115e-07 \n",
       "           iter         loglike Rel.Dif.loglike \n",
       "      1.400e+01      -8.454e+02       9.725e-08 \n",
       "           iter         loglike Rel.Dif.loglike \n",
       "      1.500e+01      -8.454e+02       8.483e-08 \n",
       "           iter         loglike Rel.Dif.loglike \n",
       "      1.600e+01      -8.454e+02       7.398e-08 \n",
       "           iter         loglike Rel.Dif.loglike \n",
       "      1.700e+01      -8.454e+02       6.450e-08 \n",
       "           iter         loglike Rel.Dif.loglike \n",
       "      1.800e+01      -8.454e+02       5.623e-08 \n",
       "           iter         loglike Rel.Dif.loglike \n",
       "      1.900e+01      -8.454e+02       4.900e-08 \n",
       "           iter         loglike Rel.Dif.loglike \n",
       "      2.000e+01      -8.454e+02       4.269e-08 \n",
       "           iter         loglike Rel.Dif.loglike \n",
       "      2.100e+01      -8.454e+02       3.719e-08 \n",
       "           iter         loglike Rel.Dif.loglike \n",
       "      2.200e+01      -8.454e+02       3.240e-08 \n",
       "           iter         loglike Rel.Dif.loglike \n",
       "      2.300e+01      -8.454e+02       2.821e-08 \n",
       "           iter         loglike Rel.Dif.loglike \n",
       "      2.400e+01      -8.454e+02       2.457e-08 \n",
       "           iter         loglike Rel.Dif.loglike \n",
       "      2.500e+01      -8.454e+02       2.139e-08 \n",
       "           iter         loglike Rel.Dif.loglike \n",
       "      2.600e+01      -8.454e+02       1.862e-08 \n",
       "           iter         loglike Rel.Dif.loglike \n",
       "      2.700e+01      -8.454e+02       1.620e-08 \n",
       "           iter         loglike Rel.Dif.loglike \n",
       "      2.800e+01      -8.454e+02       1.410e-08 \n",
       "           iter         loglike Rel.Dif.loglike \n",
       "      2.900e+01      -8.454e+02       1.227e-08 \n",
       "           iter         loglike Rel.Dif.loglike \n",
       "      3.000e+01      -8.454e+02       1.068e-08 \n",
       "           iter         loglike Rel.Dif.loglike \n",
       "      3.100e+01      -8.454e+02       9.290e-09 \n"
      ]
     },
     "metadata": {},
     "output_type": "display_data"
    },
    {
     "data": {
      "text/plain": [
       "\n",
       "Call:\n",
       "lm.bp(l1 = g1 ~ 1, l2 = g2 ~ 1, l1l2 = ~1, l3 = ~1, data = ita91, \n",
       "    common.intercept = FALSE, zeroL3 = FALSE, maxit = 300, pres = 1e-08, \n",
       "    verbose = FALSE)\n",
       "\n",
       "Coefficients:\n",
       "(l1):(Intercept)  (l2):(Intercept)  (l3):(Intercept)  \n",
       "          0.2184           -0.1796           -2.3458  \n",
       "\n"
      ]
     },
     "metadata": {},
     "output_type": "display_data"
    }
   ],
   "source": [
    "%R model = lm.bp(g1~1, g2~1, l1l2=~1, data=ita91)\n",
    "%R print(model)"
   ]
  },
  {
   "cell_type": "code",
   "execution_count": 15,
   "metadata": {},
   "outputs": [
    {
     "data": {
      "text/plain": [
       "Saturated   BivPois \n",
       " 4899.038  1710.050 \n"
      ]
     },
     "metadata": {},
     "output_type": "display_data"
    }
   ],
   "source": [
    "%R print(model$BIC)"
   ]
  },
  {
   "cell_type": "code",
   "execution_count": 16,
   "metadata": {},
   "outputs": [
    {
     "data": {
      "text/plain": [
       "           iter         loglike Rel.Dif.loglike \n",
       "           1.00         -759.82            1.76 \n",
       "           iter         loglike Rel.Dif.loglike \n",
       "      2.000e+00      -7.559e+02       5.182e-03 \n",
       "           iter         loglike Rel.Dif.loglike \n",
       "      3.000e+00      -7.555e+02       4.531e-04 \n",
       "           iter         loglike Rel.Dif.loglike \n",
       "      4.000e+00      -7.552e+02       4.379e-04 \n",
       "           iter         loglike Rel.Dif.loglike \n",
       "      5.000e+00      -7.549e+02       4.371e-04 \n",
       "           iter         loglike Rel.Dif.loglike \n",
       "      6.000e+00      -7.546e+02       4.337e-04 \n",
       "           iter         loglike Rel.Dif.loglike \n",
       "      7.000e+00      -7.542e+02       4.269e-04 \n",
       "           iter         loglike Rel.Dif.loglike \n",
       "      8.000e+00      -7.539e+02       4.168e-04 \n",
       "           iter         loglike Rel.Dif.loglike \n",
       "      9.000e+00      -7.536e+02       4.037e-04 \n",
       "           iter         loglike Rel.Dif.loglike \n",
       "      1.000e+01      -7.533e+02       3.880e-04 \n",
       "           iter         loglike Rel.Dif.loglike \n",
       "      1.100e+01      -7.530e+02       3.701e-04 \n",
       "           iter         loglike Rel.Dif.loglike \n",
       "      1.200e+01      -7.528e+02       3.504e-04 \n",
       "           iter         loglike Rel.Dif.loglike \n",
       "      1.300e+01      -7.525e+02       3.294e-04 \n",
       "           iter         loglike Rel.Dif.loglike \n",
       "      1.400e+01      -7.523e+02       3.076e-04 \n",
       "           iter         loglike Rel.Dif.loglike \n",
       "      1.500e+01      -7.521e+02       2.853e-04 \n",
       "           iter         loglike Rel.Dif.loglike \n",
       "      1.600e+01      -7.519e+02       2.629e-04 \n",
       "           iter         loglike Rel.Dif.loglike \n",
       "      1.700e+01      -7.517e+02       2.410e-04 \n",
       "           iter         loglike Rel.Dif.loglike \n",
       "      1.800e+01      -7.515e+02       2.197e-04 \n",
       "           iter         loglike Rel.Dif.loglike \n",
       "      1.900e+01      -7.514e+02       1.993e-04 \n",
       "           iter         loglike Rel.Dif.loglike \n",
       "       20.00000      -751.25377         0.00018 \n",
       "           iter         loglike Rel.Dif.loglike \n",
       "      2.100e+01      -7.511e+02       1.619e-04 \n",
       "           iter         loglike Rel.Dif.loglike \n",
       "      2.200e+01      -7.510e+02       1.452e-04 \n",
       "           iter         loglike Rel.Dif.loglike \n",
       "      2.300e+01      -7.509e+02       1.297e-04 \n",
       "           iter         loglike Rel.Dif.loglike \n",
       "      2.400e+01      -7.508e+02       1.155e-04 \n",
       "           iter         loglike Rel.Dif.loglike \n",
       "      2.500e+01      -7.508e+02       1.025e-04 \n",
       "           iter         loglike Rel.Dif.loglike \n",
       "      2.600e+01      -7.507e+02       9.075e-05 \n",
       "           iter         loglike Rel.Dif.loglike \n",
       "      2.700e+01      -7.506e+02       8.005e-05 \n",
       "           iter         loglike Rel.Dif.loglike \n",
       "      2.800e+01      -7.506e+02       7.038e-05 \n",
       "           iter         loglike Rel.Dif.loglike \n",
       "      2.900e+01      -7.505e+02       6.166e-05 \n",
       "           iter         loglike Rel.Dif.loglike \n",
       "      3.000e+01      -7.505e+02       5.382e-05 \n",
       "           iter         loglike Rel.Dif.loglike \n",
       "      3.100e+01      -7.505e+02       4.680e-05 \n",
       "           iter         loglike Rel.Dif.loglike \n",
       "      3.200e+01      -7.504e+02       4.055e-05 \n",
       "           iter         loglike Rel.Dif.loglike \n",
       "      3.300e+01      -7.504e+02       3.499e-05 \n",
       "           iter         loglike Rel.Dif.loglike \n",
       "      3.400e+01      -7.504e+02       3.008e-05 \n",
       "           iter         loglike Rel.Dif.loglike \n",
       "      3.500e+01      -7.504e+02       2.577e-05 \n",
       "           iter         loglike Rel.Dif.loglike \n",
       "      3.600e+01      -7.503e+02       2.199e-05 \n",
       "           iter         loglike Rel.Dif.loglike \n",
       "      3.700e+01      -7.503e+02       1.869e-05 \n",
       "           iter         loglike Rel.Dif.loglike \n",
       "      3.800e+01      -7.503e+02       1.584e-05 \n",
       "           iter         loglike Rel.Dif.loglike \n",
       "      3.900e+01      -7.503e+02       1.338e-05 \n",
       "           iter         loglike Rel.Dif.loglike \n",
       "      4.000e+01      -7.503e+02       1.126e-05 \n",
       "           iter         loglike Rel.Dif.loglike \n",
       "      4.100e+01      -7.503e+02       9.449e-06 \n",
       "           iter         loglike Rel.Dif.loglike \n",
       "      4.200e+01      -7.503e+02       7.908e-06 \n",
       "           iter         loglike Rel.Dif.loglike \n",
       "      4.300e+01      -7.503e+02       6.600e-06 \n",
       "           iter         loglike Rel.Dif.loglike \n",
       "      4.400e+01      -7.503e+02       5.495e-06 \n",
       "           iter         loglike Rel.Dif.loglike \n",
       "      4.500e+01      -7.503e+02       4.565e-06 \n",
       "           iter         loglike Rel.Dif.loglike \n",
       "      4.600e+01      -7.503e+02       3.784e-06 \n",
       "           iter         loglike Rel.Dif.loglike \n",
       "      4.700e+01      -7.503e+02       3.130e-06 \n",
       "           iter         loglike Rel.Dif.loglike \n",
       "      4.800e+01      -7.503e+02       2.585e-06 \n",
       "           iter         loglike Rel.Dif.loglike \n",
       "      4.900e+01      -7.503e+02       2.131e-06 \n",
       "           iter         loglike Rel.Dif.loglike \n",
       "      5.000e+01      -7.503e+02       1.754e-06 \n",
       "           iter         loglike Rel.Dif.loglike \n",
       "      5.100e+01      -7.503e+02       1.442e-06 \n",
       "           iter         loglike Rel.Dif.loglike \n",
       "      5.200e+01      -7.503e+02       1.184e-06 \n",
       "           iter         loglike Rel.Dif.loglike \n",
       "      5.300e+01      -7.503e+02       9.709e-07 \n",
       "           iter         loglike Rel.Dif.loglike \n",
       "      5.400e+01      -7.503e+02       7.953e-07 \n",
       "           iter         loglike Rel.Dif.loglike \n",
       "      5.500e+01      -7.503e+02       6.508e-07 \n",
       "           iter         loglike Rel.Dif.loglike \n",
       "      5.600e+01      -7.503e+02       5.325e-07 \n",
       "           iter         loglike Rel.Dif.loglike \n",
       "      5.700e+01      -7.503e+02       4.352e-07 \n",
       "           iter         loglike Rel.Dif.loglike \n",
       "      5.800e+01      -7.503e+02       3.554e-07 \n",
       "           iter         loglike Rel.Dif.loglike \n",
       "      5.900e+01      -7.503e+02       2.900e-07 \n",
       "           iter         loglike Rel.Dif.loglike \n",
       "      6.000e+01      -7.503e+02       2.365e-07 \n",
       "           iter         loglike Rel.Dif.loglike \n",
       "      6.100e+01      -7.503e+02       1.926e-07 \n",
       "           iter         loglike Rel.Dif.loglike \n",
       "      6.200e+01      -7.503e+02       1.574e-07 \n",
       "           iter         loglike Rel.Dif.loglike \n",
       "      6.300e+01      -7.503e+02       1.283e-07 \n",
       "           iter         loglike Rel.Dif.loglike \n",
       "      6.400e+01      -7.503e+02       1.045e-07 \n",
       "           iter         loglike Rel.Dif.loglike \n",
       "      6.500e+01      -7.503e+02       8.500e-08 \n",
       "           iter         loglike Rel.Dif.loglike \n",
       "      6.600e+01      -7.503e+02       6.910e-08 \n",
       "           iter         loglike Rel.Dif.loglike \n",
       "      6.700e+01      -7.503e+02       5.609e-08 \n",
       "           iter         loglike Rel.Dif.loglike \n",
       "      6.800e+01      -7.503e+02       4.604e-08 \n",
       "           iter         loglike Rel.Dif.loglike \n",
       "      6.900e+01      -7.503e+02       3.745e-08 \n",
       "           iter         loglike Rel.Dif.loglike \n",
       "      7.000e+01      -7.503e+02       3.044e-08 \n",
       "           iter         loglike Rel.Dif.loglike \n",
       "      7.100e+01      -7.503e+02       2.472e-08 \n",
       "           iter         loglike Rel.Dif.loglike \n",
       "      7.200e+01      -7.503e+02       2.004e-08 \n",
       "           iter         loglike Rel.Dif.loglike \n",
       "      7.300e+01      -7.503e+02       1.622e-08 \n",
       "           iter         loglike Rel.Dif.loglike \n",
       "      7.400e+01      -7.503e+02       1.312e-08 \n",
       "           iter         loglike Rel.Dif.loglike \n",
       "      7.500e+01      -7.503e+02       1.060e-08 \n",
       "           iter         loglike Rel.Dif.loglike \n",
       "      7.600e+01      -7.503e+02       9.035e-09 \n"
      ]
     },
     "metadata": {},
     "output_type": "display_data"
    },
    {
     "data": {
      "text/plain": [
       "\n",
       "Call:\n",
       "lm.bp(l1 = g1 ~ team1 + team2, l2 = g2 ~ team1 + team2, l1l2 = ~team1 + \n",
       "    team2, l3 = ~1, data = ita91, common.intercept = FALSE, zeroL3 = FALSE, \n",
       "    maxit = 300, pres = 1e-08, verbose = FALSE)\n",
       "\n",
       "Coefficients:\n",
       "    (l1):(Intercept)  (l1):team1Atalanta    (l1):team1Bari        \n",
       "            -0.24829               0.16367               0.05607  \n",
       "(l1):team1Cagliari    (l1):team1Cremonese   (l1):team1Fiorentina  \n",
       "             0.61254               0.37469               0.96217  \n",
       "(l1):team1Foggia      (l1):team1Genoa       (l1):team1Inter       \n",
       "             1.20051               0.69340              -0.16676  \n",
       "(l1):team1Juventus    (l1):team1Lazio       (l1):team1Milan       \n",
       "             0.95972               1.01397               1.53802  \n",
       "(l1):team1Napoli      (l1):team1Parma       (l1):team1Roma        \n",
       "             1.26216               0.56203               0.56769  \n",
       "(l1):team1Sampdoria   (l1):team1Torino      (l1):team1Verona      \n",
       "             1.00913               0.81364               0.56413  \n",
       "(l1):team2Atalanta    (l1):team2Bari        (l1):team2Cagliari    \n",
       "            -0.93915              -0.23165              -0.58150  \n",
       "(l1):team2Cremonese   (l1):team2Fiorentina  (l1):team2Foggia      \n",
       "            -0.23401              -0.31982              -0.05172  \n",
       "(l1):team2Genoa       (l1):team2Inter       (l1):team2Juventus    \n",
       "            -0.29727              -0.88256              -1.07899  \n",
       "(l1):team2Lazio       (l1):team2Milan       (l1):team2Napoli      \n",
       "            -0.60563              -2.72656              -0.38633  \n",
       "(l1):team2Parma       (l1):team2Roma        (l1):team2Sampdoria   \n",
       "            -0.84924              -0.74869              -0.95180  \n",
       "(l1):team2Torino      (l1):team2Verona          (l2):(Intercept)  \n",
       "            -1.31528               0.09250              -0.57786  \n",
       "(l2):team1Atalanta    (l2):team1Bari        (l2):team1Cagliari    \n",
       "            -0.72045              -0.68948              -0.92810  \n",
       "(l2):team1Cremonese   (l2):team1Fiorentina  (l2):team1Foggia      \n",
       "            -0.33597              -0.92470              -0.20454  \n",
       "(l2):team1Genoa       (l2):team1Inter       (l2):team1Juventus    \n",
       "            -0.50191              -1.40909             -12.88024  \n",
       "(l2):team1Lazio       (l2):team1Milan       (l2):team1Napoli      \n",
       "            -0.54250              -1.87688              -1.12641  \n",
       "(l2):team1Parma       (l2):team1Roma        (l2):team1Sampdoria   \n",
       "            -1.80402              -1.36446              -0.89023  \n",
       "(l2):team1Torino      (l2):team1Verona      (l2):team2Atalanta    \n",
       "            -2.32726              -0.57620               1.05020  \n",
       "(l2):team2Bari        (l2):team2Cagliari    (l2):team2Cremonese   \n",
       "             0.48595               0.57210               0.61704  \n",
       "(l2):team2Fiorentina  (l2):team2Foggia      (l2):team2Genoa       \n",
       "             1.13000               1.61994               0.76094  \n",
       "(l2):team2Inter       (l2):team2Juventus    (l2):team2Lazio       \n",
       "             0.99816               0.99433               0.96487  \n",
       "(l2):team2Milan       (l2):team2Napoli      (l2):team2Parma       \n",
       "             1.53931               1.27874               0.42579  \n",
       "(l2):team2Roma        (l2):team2Sampdoria   (l2):team2Torino      \n",
       "             1.03700               0.37623               1.16753  \n",
       "(l2):team2Verona          (l3):(Intercept)  \n",
       "           -12.93196              -1.10255  \n",
       "\n"
      ]
     },
     "metadata": {},
     "output_type": "display_data"
    }
   ],
   "source": [
    "%R model = lm.bp(g1~team1+team2, g2~team1+team2, l1l2=~team1+team2, data=ita91)\n",
    "%R print(model)"
   ]
  },
  {
   "cell_type": "code",
   "execution_count": 17,
   "metadata": {},
   "outputs": [
    {
     "data": {
      "text/plain": [
       "Saturated   BivPois \n",
       " 4899.038  1956.104 \n"
      ]
     },
     "metadata": {},
     "output_type": "display_data"
    }
   ],
   "source": [
    "%R print(model$BIC)"
   ]
  },
  {
   "cell_type": "code",
   "execution_count": 18,
   "metadata": {
    "collapsed": true
   },
   "outputs": [],
   "source": [
    "%%R\n",
    "data('rnaseq')\n",
    "rnaseq['totalReads'] = log(rnaseq['totalReads'])\n",
    "# rnaseq['X'] = apply(rnaseq[,c(1,2,3,4,5,6)], 1, sum)\n",
    "write.table(rnaseq, 'rnaseq.csv', row.names=F)\n",
    "# rnaseq = rnaseq[,-c(11)]"
   ]
  },
  {
   "cell_type": "code",
   "execution_count": 19,
   "metadata": {
    "collapsed": true
   },
   "outputs": [],
   "source": [
    "data = core.read_csv('rnaseq.csv', header=True)"
   ]
  },
  {
   "cell_type": "code",
   "execution_count": 20,
   "metadata": {
    "collapsed": true
   },
   "outputs": [],
   "source": [
    "mme = core.splitting_estimation(data = data.extract(0, 1, 2, 3 ,4, 5),\n",
    "                                splitting = core.splitting_selection('MN',\n",
    "                                                                     'DM'),\n",
    "                                sum = core.selection(core.outcome_type.DISCRETE,\n",
    "                                                     estimators=[core.poisson_estimation('ml'),\n",
    "                                                                 core.binomial_estimation('ml', force=True),\n",
    "                                                                 core.negative_binomial_estimation('ml'),\n",
    "                                                                 core.shifted_estimation(core.outcome_type.DISCRETE,\n",
    "                                                                                         shift=-1,\n",
    "                                                                                         estimator=core.logarithmic_estimation('ml'))]))"
   ]
  },
  {
   "cell_type": "code",
   "execution_count": 21,
   "metadata": {},
   "outputs": [
    {
     "data": {
      "text/plain": [
       "[-6537.059114151809, -13223.754412953454, -1339.360020084458, -1756.9627791576988]"
      ]
     },
     "execution_count": 21,
     "metadata": {},
     "output_type": "execute_result"
    }
   ],
   "source": [
    "mme.sum.scores"
   ]
  },
  {
   "cell_type": "code",
   "execution_count": 22,
   "metadata": {},
   "outputs": [
    {
     "data": {
      "text/plain": [
       "[-19352.98491770746, -4984.56057498688]"
      ]
     },
     "execution_count": 22,
     "metadata": {},
     "output_type": "execute_result"
    }
   ],
   "source": [
    "mme.splitting.scores"
   ]
  },
  {
   "cell_type": "code",
   "execution_count": 23,
   "metadata": {
    "collapsed": true
   },
   "outputs": [],
   "source": [
    "%%R\n",
    "library(MGLM)\n",
    "library(bivpois)\n",
    "N = as.matrix(rnaseq[,c(1,2,3,4,5,6)])\n",
    "X = as.matrix(rnaseq[,c(7,8,9,10)])"
   ]
  },
  {
   "cell_type": "code",
   "execution_count": 24,
   "metadata": {},
   "outputs": [
    {
     "data": {
      "text/plain": [
       "        estimate           SE\n",
       "p_X1  0.31148586 0.0013619556\n",
       "p_X2  0.10649139 0.0008502964\n",
       "p_X3  0.09837308 0.0008192291\n",
       "p_X4  0.35049562 0.0014253376\n",
       "p_X5  0.09426337 0.0008029165\n",
       "p_X6  0.02122027 0.0003891465\n",
       "phi  12.23256918 1.2292533050\n",
       "\n",
       "Distribution: Negative Multinomial\n",
       "Log-likelihood: -20673.71\n",
       "BIC: 41384.52\n",
       "AIC: 41361.43\n",
       "LRT test p value: NA\n",
       "Iterations: 3\n"
      ]
     },
     "metadata": {},
     "output_type": "display_data"
    }
   ],
   "source": [
    "%R print(MGLMfit(N, dist='NegMN'))"
   ]
  },
  {
   "cell_type": "code",
   "execution_count": 25,
   "metadata": {},
   "outputs": [
    {
     "data": {
      "text/plain": [
       "Call: MGLMreg(formula = N ~ X, dist = \"NegMN\")\n",
       "\n",
       "Coefficients:\n",
       "$alpha\n",
       "                       X1            X2            X3            X4\n",
       "(Intercept) -13.587376137 -1.352181e+01 -22.380090898 -14.131338928\n",
       "XtotalReads   0.907715672  8.504124e-01   1.242922188   0.915257796\n",
       "Xtreatment   -0.753112730 -7.735067e-01   2.014641268   0.675195341\n",
       "Xgender      -0.060696325  7.021728e-03  -0.069502706   0.012498726\n",
       "Xage          0.002582547 -9.376888e-04   0.002915974  -0.002140646\n",
       "                       X5            X6\n",
       "(Intercept) -1.450769e+01 -18.526416540\n",
       "XtotalReads  8.999176e-01   1.020359613\n",
       "Xtreatment  -6.382956e-01  -0.730410081\n",
       "Xgender     -8.368181e-02  -0.093397437\n",
       "Xage        -8.241306e-04   0.008765665\n",
       "\n",
       "$phi\n",
       "         \n",
       "31.60591 \n",
       "\n",
       "\n",
       "Hypothesis test: \n",
       "             wald value    Pr(>wald)\n",
       "(Intercept)   385.75443 3.224960e-80\n",
       "XtotalReads   368.08192 2.020898e-76\n",
       "Xtreatment  18377.53053 0.000000e+00\n",
       "Xgender        54.84664 4.978064e-10\n",
       "Xage           79.70908 4.103032e-15\n",
       "\n",
       "Distribution: Negative Multinomial\n",
       "Log-likelihood: -8746.689\n",
       "BIC: 17657.63\n",
       "AIC: 17555.38\n",
       "Iterations: 35\n"
      ]
     },
     "metadata": {},
     "output_type": "display_data"
    }
   ],
   "source": [
    "%R print(MGLMreg(N ~ X, dist='NegMN'))"
   ]
  },
  {
   "cell_type": "code",
   "execution_count": 26,
   "metadata": {},
   "outputs": [
    {
     "data": {
      "text/plain": [
       "          estimate        SE\n",
       "alpha_X1  3.741846 0.3670877\n",
       "alpha_X2  2.400909 0.8154314\n",
       "alpha_X3  1.558396 0.2331360\n",
       "alpha_X4  6.988354 1.1647638\n",
       "alpha_X5 20.689398 0.1492792\n",
       "beta_X1   8.026379 0.9665023\n",
       "beta_X2  11.038376 0.7259782\n",
       "beta_X3   8.961428 0.2645201\n",
       "beta_X4   2.702723 2.8717176\n",
       "beta_X5   4.854816 0.6482710\n",
       "\n",
       "Distribution: Generalized Dirichlet Multinomial\n",
       "Log-likelihood: -4841.231\n",
       "BIC: 9735.446\n",
       "AIC: 9702.463\n",
       "LRT test p value: <0.0001\n",
       "Iterations: 59\n"
      ]
     },
     "metadata": {},
     "output_type": "display_data"
    }
   ],
   "source": [
    "%R print(MGLMfit(N, dist='GDM'))"
   ]
  },
  {
   "cell_type": "code",
   "execution_count": 27,
   "metadata": {},
   "outputs": [
    {
     "data": {
      "text/plain": [
       "Call: MGLMreg(formula = N ~ X, dist = \"GDM\")\n",
       "\n",
       "Coefficients:\n",
       "                alpha_X1     alpha_X2    alpha_X3      alpha_X4    alpha_X5\n",
       "(Intercept)  5.987992852 -7.056673213  0.45608810 -10.120737500  2.63939594\n",
       "XtotalReads -0.215098743  0.555972697  0.03955285   0.720358215 -0.01612137\n",
       "Xtreatment  -0.047690534 -0.329319924  0.97935928   0.099957634  0.06339341\n",
       "Xgender      0.233005806  0.374837886 -0.18642022  -0.202417040  0.14428946\n",
       "Xage         0.006661015 -0.004342996  0.01936118   0.008173279  0.01239665\n",
       "                 beta_X1       beta_X2    beta_X3     beta_X4     beta_X5\n",
       "(Intercept)  4.661089454 -9.7891269676  7.0950614 -9.53000784 -1.68761454\n",
       "XtotalReads -0.140896121  0.7138189416 -0.2229844  0.74314582  0.13398453\n",
       "Xtreatment   0.628878471  0.7461977539 -1.5916297 -0.92371233 -0.04244096\n",
       "Xgender      0.212071256  0.2732563514 -0.2331213 -0.27042831  0.12206235\n",
       "Xage         0.003223835  0.0004533068  0.0159450  0.01254059  0.01918839\n",
       "\n",
       "Hypothesis test: \n",
       "            wald value  Pr(>wald)\n",
       "(Intercept)   15.40109 0.11810852\n",
       "XtotalReads   11.04187 0.35426548\n",
       "Xtreatment  2549.23829 0.00000000\n",
       "Xgender       10.72122 0.37964596\n",
       "Xage          16.42846 0.08800668\n",
       "\n",
       "Distribution: Generalized Dirichlet Multinomial\n",
       "Log-likelihood: -4289.281\n",
       "BIC: 8843.479\n",
       "AIC: 8678.563\n",
       "Iterations: 46\n"
      ]
     },
     "metadata": {},
     "output_type": "display_data"
    }
   ],
   "source": [
    "%R print(MGLMreg(N ~ X, dist='GDM'))"
   ]
  }
 ],
 "metadata": {
  "kernelspec": {
   "display_name": "Python 2",
   "language": "python",
   "name": "python2"
  },
  "language_info": {
   "codemirror_mode": {
    "name": "ipython",
    "version": 2
   },
   "file_extension": ".py",
   "mimetype": "text/x-python",
   "name": "python",
   "nbconvert_exporter": "python",
   "pygments_lexer": "ipython2",
   "version": "2.7.13"
  },
  "toc": {
   "colors": {
    "hover_highlight": "#DAA520",
    "navigate_num": "#000000",
    "navigate_text": "#333333",
    "running_highlight": "#FF0000",
    "selected_highlight": "#FFD700",
    "sidebar_border": "#EEEEEE",
    "wrapper_background": "#FFFFFF"
   },
   "moveMenuLeft": true,
   "nav_menu": {
    "height": "45px",
    "width": "252px"
   },
   "navigate_menu": true,
   "number_sections": false,
   "sideBar": true,
   "threshold": 4,
   "toc_cell": false,
   "toc_section_display": "block",
   "toc_window_display": true,
   "widenNotebook": false
  }
 },
 "nbformat": 4,
 "nbformat_minor": 2
}
