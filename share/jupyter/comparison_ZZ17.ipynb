{
 "cells": [
  {
   "cell_type": "markdown",
   "metadata": {},
   "source": [
    "# A comparison of multivariate models for count data (ZZ17)\n",
    "\n",
    "In order to illustrate the variety of splitting models, we considered two datasets used in the literature to illustrate models for count data.\n",
    "We here focus on the second one, denoted in the following by `D`, consists in simulated data mimicking data obtained from sequencing techonologies such as RNA-seq data [[ZZZS17](https://doi.org/10.1080/10618600.2016.1154063)].\n",
    "The goal being to compare distributions and regressions models, comparisons were performed when considering all covariates or none of the covariates.\n",
    "Remark that variable selection (e.g., using regularization methods [[ZZZS17](https://doi.org/10.1080/10618600.2016.1154063)]) is possible, but is out of the scope of this paper."
   ]
  },
  {
   "cell_type": "markdown",
   "metadata": {},
   "source": [
    "First, we need:\n",
    "\n",
    "* to import the `bivpoiss` [[KN05](https://www.jstatsoft.org/article/view/v014i10)] and the `MGLM` [[ZZ17](https://cran.r-project.org/web/packages/MGLM/index.html)] and the `MASS` [[VR02](https://stat.ethz.ch/R-manual/R-devel/library/MASS/html/glm.nb.html)] libraries."
   ]
  },
  {
   "cell_type": "code",
   "execution_count": null,
   "metadata": {},
   "outputs": [],
   "source": [
    "library(MGLM)\n",
    "library(bivpois)\n",
    "library(MASS)"
   ]
  },
  {
   "cell_type": "markdown",
   "metadata": {},
   "source": [
    "* to load the dataset."
   ]
  },
  {
   "cell_type": "code",
   "execution_count": null,
   "metadata": {},
   "outputs": [],
   "source": [
    "data('rnaseq')\n",
    "rnaseq['totalReads'] = log(rnaseq['totalReads'])\n",
    "D = rnaseq"
   ]
  },
  {
   "cell_type": "markdown",
   "metadata": {},
   "source": [
    "The `MGLM` library requires to separate responses and explanatories variables.\n",
    "`Y` and `X` corresponds reespectively ro the responses and explanatories datasets built from `D`."
   ]
  },
  {
   "cell_type": "code",
   "execution_count": null,
   "metadata": {},
   "outputs": [],
   "source": [
    "Y = as.matrix(D[,c(1,2,3,4,5,6)])\n",
    "X = as.matrix(D[,c(7,8,9,10)])"
   ]
  },
  {
   "cell_type": "markdown",
   "metadata": {},
   "source": [
    "Similarly, `S` corresponds to the dataset constructed using the sample totals of the `Y`."
   ]
  },
  {
   "cell_type": "code",
   "execution_count": null,
   "metadata": {},
   "outputs": [],
   "source": [
    "S = rowSums(Y)"
   ]
  },
  {
   "cell_type": "markdown",
   "metadata": {},
   "source": [
    "Considering the `bivpoiss` and the `MGLM` libraries, we have only 2 *sensu stricto* multivariate distributions to infer on both datasets: \n",
    "\n",
    "1. the multivariate Poisson distribution,\n",
    "2. the negative multinomiale distribution.\n",
    "\n",
    "The maximum linkelihood estimations (MLEs) of:\n",
    "\n",
    "* the multivariate Poisson distribution or regression cannot be obtained since multivariate Poisson MLEs in `bivpois` do not handle more than 2 response variables."
   ]
  },
  {
   "cell_type": "markdown",
   "metadata": {},
   "source": [
    "* the negative multinomial distribution is obtained as follows,"
   ]
  },
  {
   "cell_type": "code",
   "execution_count": null,
   "metadata": {},
   "outputs": [],
   "source": [
    "NMD = MGLMfit(Y, dist='NegMN')\n",
    "print(NMD)"
   ]
  },
  {
   "cell_type": "markdown",
   "metadata": {},
   "source": [
    "* the negative multinomial regression is obtained as follows,"
   ]
  },
  {
   "cell_type": "code",
   "execution_count": null,
   "metadata": {},
   "outputs": [],
   "source": [
    "NMR = MGLMreg(Y ~ X, dist='NegMN')\n",
    "print(NMR)"
   ]
  },
  {
   "cell_type": "markdown",
   "metadata": {},
   "source": [
    "But, as stated in the article, the `MGLM` library provides the MLEs of:\n",
    "\n",
    "* the singular multinomial distribution obtained as follows,"
   ]
  },
  {
   "cell_type": "code",
   "execution_count": null,
   "metadata": {},
   "outputs": [],
   "source": [
    "MND = MGLMfit(Y, dist='MN')\n",
    "print(MND)"
   ]
  },
  {
   "cell_type": "markdown",
   "metadata": {},
   "source": [
    "* the singular multinomial regression (Note that this estimation is not working properly in `R`. It has therefore been commented, to uncomment, please change the next cell metadata from `Raw NbConvert` to `Code`)"
   ]
  },
  {
   "cell_type": "code",
   "execution_count": null,
   "metadata": {},
   "outputs": [],
   "source": [
    "MNR = MGLMreg(Y ~ X, dist='MN')\n",
    "print(MNR)"
   ]
  },
  {
   "cell_type": "markdown",
   "metadata": {},
   "source": [
    "* the singular Dirichlet multinomial distribution (Note that the singular generalized Dirichlet multinomial distribution is not considered after since when there is only 2 response variables, generalized Dirichlet multinomial models are equivalent to Dirichlet multinomial models)"
   ]
  },
  {
   "cell_type": "code",
   "execution_count": null,
   "metadata": {},
   "outputs": [],
   "source": [
    "DMD = MGLMfit(Y, dist='DM')\n",
    "print(DMD)"
   ]
  },
  {
   "cell_type": "markdown",
   "metadata": {},
   "source": [
    "* the singular Dirichlet multinomial regression (Note that the singular generalized Dirichlet multinomial regression is not considered after since when there is only 2 response variables, generalized Dirichlet multinomial models are equivalent to Dirichlet multinomial models)"
   ]
  },
  {
   "cell_type": "code",
   "execution_count": null,
   "metadata": {},
   "outputs": [],
   "source": [
    "DMR = MGLMreg(Y ~ X, dist='DM')\n",
    "print(DMR)"
   ]
  },
  {
   "cell_type": "markdown",
   "metadata": {},
   "source": [
    "And, in the context of splitting distributions, each of these singular distribution can be combined with an univariate model of the sum to define a discrete multivariate model."
   ]
  },
  {
   "cell_type": "markdown",
   "metadata": {},
   "source": [
    "For example, we can use usual MLEs or MMEs of:\n",
    "\n",
    "* Poisson distribution,"
   ]
  },
  {
   "cell_type": "code",
   "execution_count": null,
   "metadata": {},
   "outputs": [],
   "source": [
    "UPD = glm(S~1, family=\"poisson\")\n",
    "summary(UPD)\n",
    "BIC(UPD)"
   ]
  },
  {
   "cell_type": "markdown",
   "metadata": {},
   "source": [
    "* Poisson regression,"
   ]
  },
  {
   "cell_type": "code",
   "execution_count": null,
   "metadata": {},
   "outputs": [],
   "source": [
    "UPR = glm(S~X, family=\"poisson\")\n",
    "summary(UPR)\n",
    "BIC(UPR)"
   ]
  },
  {
   "cell_type": "markdown",
   "metadata": {},
   "source": [
    "* Binomial distribution (since the MLE of the binommial distribution index parameter is not available in **R**, we use the MMEs),"
   ]
  },
  {
   "cell_type": "code",
   "execution_count": null,
   "metadata": {},
   "outputs": [],
   "source": [
    "index = max(round((mean(S) ^ 2)/(mean(S) - var(S))), max(S))\n",
    "BS = cbind(S, index - S)\n",
    "BD = glm(BS~1, family=\"binomial\")\n",
    "summary(BD)\n",
    "print(BIC(BD))"
   ]
  },
  {
   "cell_type": "markdown",
   "metadata": {},
   "source": [
    "* Binomial regression (the index parameter of the binomial regression is assumed to be known and equal to the MME for binomial distribution),"
   ]
  },
  {
   "cell_type": "code",
   "execution_count": null,
   "metadata": {},
   "outputs": [],
   "source": [
    "index = max(round((mean(S) ^ 2)/(mean(S) - var(S))), max(S))\n",
    "BS = cbind(S, index - S)\n",
    "BD = glm(BS~X, family=\"binomial\")\n",
    "summary(BD)\n",
    "print(BIC(BD))"
   ]
  },
  {
   "cell_type": "markdown",
   "metadata": {},
   "source": [
    "* Negative binomial distribution,"
   ]
  },
  {
   "cell_type": "code",
   "execution_count": null,
   "metadata": {},
   "outputs": [],
   "source": [
    "NBR = glm.nb(S~1)\n",
    "summary(NBR)\n",
    "BIC(NBR)"
   ]
  },
  {
   "cell_type": "markdown",
   "metadata": {},
   "source": [
    "* Negative binomial regression,"
   ]
  },
  {
   "cell_type": "code",
   "execution_count": null,
   "metadata": {},
   "outputs": [],
   "source": [
    "NBR = glm.nb(S~X)\n",
    "summary(NBR)\n",
    "BIC(NBR)"
   ]
  }
 ],
 "metadata": {
  "kernelspec": {
   "display_name": "R",
   "language": "R",
   "name": "ir"
  },
  "language_info": {
   "codemirror_mode": "r",
   "file_extension": ".r",
   "mimetype": "text/x-r-source",
   "name": "R",
   "pygments_lexer": "r",
   "version": "3.4.2"
  },
  "toc": {
   "colors": {
    "hover_highlight": "#DAA520",
    "navigate_num": "#000000",
    "navigate_text": "#333333",
    "running_highlight": "#FF0000",
    "selected_highlight": "#FFD700",
    "sidebar_border": "#EEEEEE",
    "wrapper_background": "#FFFFFF"
   },
   "moveMenuLeft": true,
   "nav_menu": {
    "height": "45px",
    "width": "252px"
   },
   "navigate_menu": true,
   "number_sections": false,
   "sideBar": true,
   "threshold": 4,
   "toc_cell": false,
   "toc_section_display": "block",
   "toc_window_display": true,
   "widenNotebook": false
  }
 },
 "nbformat": 4,
 "nbformat_minor": 2
}
