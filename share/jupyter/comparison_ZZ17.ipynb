{
 "cells": [
  {
   "cell_type": "markdown",
   "metadata": {},
   "source": [
    "# A comparison of multivariate models for count data (ZZ17)\n",
    "\n",
    "In order to illustrate the variety of splitting models, we considered two datasets used in the literature to illustrate models for count data.\n",
    "We here focus on the second one, denoted in the following by `D`, consists in simulated data mimicking data obtained from sequencing techonologies such as RNA-seq data [[ZZZS17](https://doi.org/10.1080/10618600.2016.1154063)].\n",
    "The goal being to compare distributions and regressions models, comparisons were performed when considering all covariates or none of the covariates.\n",
    "Remark that variable selection (e.g., using regularization methods [[ZZZS17](https://doi.org/10.1080/10618600.2016.1154063)]) is possible, but is out of the scope of this paper."
   ]
  },
  {
   "cell_type": "markdown",
   "metadata": {},
   "source": [
    "First, we need:\n",
    "\n",
    "* to import the `bivpoiss` [[KN05](https://www.jstatsoft.org/article/view/v014i10)] and the `MGLM` [[ZZ17](https://cran.r-project.org/web/packages/MGLM/index.html)] and the `MASS` [[VR02](https://stat.ethz.ch/R-manual/R-devel/library/MASS/html/glm.nb.html)] libraries."
   ]
  },
  {
   "cell_type": "code",
   "execution_count": 19,
   "metadata": {},
   "outputs": [],
   "source": [
    "library(MGLM)\n",
    "library(bivpois)\n",
    "library(MASS)"
   ]
  },
  {
   "cell_type": "markdown",
   "metadata": {},
   "source": [
    "* to load the dataset."
   ]
  },
  {
   "cell_type": "code",
   "execution_count": 20,
   "metadata": {},
   "outputs": [],
   "source": [
    "data('rnaseq')\n",
    "rnaseq['totalReads'] = log(rnaseq['totalReads'])\n",
    "D = rnaseq"
   ]
  },
  {
   "cell_type": "markdown",
   "metadata": {},
   "source": [
    "The `MGLM` library requires to separate responses and explanatories variables.\n",
    "`Y` and `X` corresponds reespectively ro the responses and explanatories datasets built from `D`."
   ]
  },
  {
   "cell_type": "code",
   "execution_count": 21,
   "metadata": {},
   "outputs": [],
   "source": [
    "Y = as.matrix(D[,c(1,2,3,4,5,6)])\n",
    "X = as.matrix(D[,c(7,8,9,10)])"
   ]
  },
  {
   "cell_type": "markdown",
   "metadata": {},
   "source": [
    "Similarly, `S` corresponds to the dataset constructed using the sample totals of the `Y`."
   ]
  },
  {
   "cell_type": "code",
   "execution_count": 22,
   "metadata": {},
   "outputs": [],
   "source": [
    "S = rowSums(Y)"
   ]
  },
  {
   "cell_type": "markdown",
   "metadata": {},
   "source": [
    "Considering the `bivpoiss` and the `MGLM` libraries, we have only 2 *sensu stricto* multivariate distributions to infer on both datasets: \n",
    "\n",
    "1. the multivariate Poisson distribution,\n",
    "2. the negative multinomiale distribution.\n",
    "\n",
    "The maximum linkelihood estimations (MLEs) of:\n",
    "\n",
    "* the multivariate Poisson distribution or regression cannot be obtained since multivariate Poisson MLEs in `bivpois` do not handle more than 2 response variables."
   ]
  },
  {
   "cell_type": "markdown",
   "metadata": {},
   "source": [
    "* the negative multinomial distribution is obtained as follows,"
   ]
  },
  {
   "cell_type": "code",
   "execution_count": 23,
   "metadata": {},
   "outputs": [
    {
     "name": "stdout",
     "output_type": "stream",
     "text": [
      "        estimate           SE\n",
      "p_X1  0.31148586 0.0013619556\n",
      "p_X2  0.10649139 0.0008502964\n",
      "p_X3  0.09837308 0.0008192291\n",
      "p_X4  0.35049562 0.0014253376\n",
      "p_X5  0.09426337 0.0008029165\n",
      "p_X6  0.02122027 0.0003891465\n",
      "phi  12.23256918 1.2292533050\n",
      "\n",
      "Distribution: Negative Multinomial\n",
      "Log-likelihood: -20673.71\n",
      "BIC: 41384.52\n",
      "AIC: 41361.43\n",
      "LRT test p value: NA\n",
      "Iterations: 3\n"
     ]
    }
   ],
   "source": [
    "NMD = MGLMfit(Y, dist='NegMN')\n",
    "print(NMD)"
   ]
  },
  {
   "cell_type": "markdown",
   "metadata": {},
   "source": [
    "* the negative multinomial regression is obtained as follows,"
   ]
  },
  {
   "cell_type": "code",
   "execution_count": 24,
   "metadata": {},
   "outputs": [
    {
     "name": "stderr",
     "output_type": "stream",
     "text": [
      "Warning message in DMD.NegMN.Alpha.reg(Y = structure(c(295, 213, 322, 184, 376, :\n",
      "“The algorithm doesn't converge within 35 iterations. The norm of the gradient is  200.051475894594  Please interpret hessian matrix and MLE with caution. \n",
      "”"
     ]
    },
    {
     "name": "stdout",
     "output_type": "stream",
     "text": [
      "Call: MGLMreg(formula = Y ~ X, dist = \"NegMN\")\n",
      "\n",
      "Coefficients:\n",
      "$alpha\n",
      "                       X1            X2            X3            X4\n",
      "(Intercept) -13.587376137 -1.352181e+01 -22.380090898 -14.131338928\n",
      "XtotalReads   0.907715672  8.504124e-01   1.242922188   0.915257796\n",
      "Xtreatment   -0.753112730 -7.735067e-01   2.014641268   0.675195341\n",
      "Xgender      -0.060696325  7.021728e-03  -0.069502706   0.012498726\n",
      "Xage          0.002582547 -9.376888e-04   0.002915974  -0.002140646\n",
      "                       X5            X6\n",
      "(Intercept) -1.450769e+01 -18.526416540\n",
      "XtotalReads  8.999176e-01   1.020359613\n",
      "Xtreatment  -6.382956e-01  -0.730410081\n",
      "Xgender     -8.368181e-02  -0.093397437\n",
      "Xage        -8.241306e-04   0.008765665\n",
      "\n",
      "$phi\n",
      "         \n",
      "31.60591 \n",
      "\n",
      "\n",
      "Hypothesis test: \n",
      "             wald value    Pr(>wald)\n",
      "(Intercept)   385.75443 3.224960e-80\n",
      "XtotalReads   368.08192 2.020898e-76\n",
      "Xtreatment  18377.53053 0.000000e+00\n",
      "Xgender        54.84664 4.978064e-10\n",
      "Xage           79.70908 4.103032e-15\n",
      "\n",
      "Distribution: Negative Multinomial\n",
      "Log-likelihood: -8746.689\n",
      "BIC: 17657.63\n",
      "AIC: 17555.38\n",
      "Iterations: 35\n"
     ]
    }
   ],
   "source": [
    "NMR = MGLMreg(Y ~ X, dist='NegMN')\n",
    "print(NMR)"
   ]
  },
  {
   "cell_type": "markdown",
   "metadata": {},
   "source": [
    "But, as stated in the article, the `MGLM` library provides the MLEs of:\n",
    "\n",
    "* the singular multinomial distribution obtained as follows,"
   ]
  },
  {
   "cell_type": "code",
   "execution_count": 25,
   "metadata": {},
   "outputs": [
    {
     "name": "stdout",
     "output_type": "stream",
     "text": [
      "           estimate         SE\n",
      "alpha_X1 0.31787518 0.03292647\n",
      "alpha_X2 0.11246732 0.02234037\n",
      "alpha_X3 0.09729872 0.02095611\n",
      "alpha_X4 0.35093667 0.03374760\n",
      "alpha_X5 0.09895906 0.02111471\n",
      "alpha_X6 0.02246305 0.01047818\n",
      "\n",
      "Distribution: Multinomial\n",
      "Log-likelihood: -19370.71\n",
      "BIC: 38767.91\n",
      "AIC: 38751.42\n",
      "LRT test p value: \n",
      "Iterations: \n"
     ]
    }
   ],
   "source": [
    "MND = MGLMfit(Y, dist='MN')\n",
    "print(MND)"
   ]
  },
  {
   "cell_type": "markdown",
   "metadata": {},
   "source": [
    "* the singular multinomial regression (Note that this estimation is not working properly in `R`. It has therefore been commented, to uncomment, please change the next cell metadata from `Raw NbConvert` to `Code`)"
   ]
  },
  {
   "cell_type": "code",
   "execution_count": 26,
   "metadata": {},
   "outputs": [
    {
     "name": "stdout",
     "output_type": "stream",
     "text": [
      "Call: MGLMreg(formula = Y ~ X, dist = \"MN\")\n",
      "\n",
      "Coefficients:\n",
      "                      X1           X2           X3          X4           X5\n",
      "(Intercept)  4.942732041  5.009649150 -3.792216067  4.43543383  4.027689144\n",
      "XtotalReads -0.112845142 -0.170222056  0.219276996 -0.10726028 -0.120928058\n",
      "Xtreatment  -0.022654652 -0.043099372  2.745276755  1.40574185  0.092245537\n",
      "Xgender      0.032675527  0.100389059  0.020663497  0.10385929  0.009513895\n",
      "Xage        -0.006187245 -0.009708565 -0.005907363 -0.01094467 -0.009599361\n",
      "\n",
      "Hypothesis test: \n",
      "             wald value    Pr(>wald)\n",
      "(Intercept)   144.88789 1.634268e-29\n",
      "XtotalReads    69.92572 1.061922e-13\n",
      "Xtreatment  18364.13260 0.000000e+00\n",
      "Xgender        52.33670 4.601575e-10\n",
      "Xage           79.91023 8.762650e-16\n",
      "\n",
      "Distribution: Multinomial\n",
      "Log-likelihood: -7506.393\n",
      "BIC: 15145.24\n",
      "AIC: 15062.79\n",
      "Iterations: 6\n"
     ]
    }
   ],
   "source": [
    "MNR = MGLMreg(Y ~ X, dist='MN')\n",
    "print(MNR)"
   ]
  },
  {
   "cell_type": "markdown",
   "metadata": {},
   "source": [
    "* the singular Dirichlet multinomial distribution"
   ]
  },
  {
   "cell_type": "code",
   "execution_count": 27,
   "metadata": {},
   "outputs": [
    {
     "name": "stdout",
     "output_type": "stream",
     "text": [
      "          estimate         SE\n",
      "alpha_X1 6.1281170 0.32788775\n",
      "alpha_X2 2.4136468 0.13967619\n",
      "alpha_X3 1.6256266 0.09942399\n",
      "alpha_X4 6.8229292 0.36256781\n",
      "alpha_X5 2.2142361 0.12923252\n",
      "alpha_X6 0.7840283 0.05136868\n",
      "\n",
      "Distribution: Dirichlet Multinomial\n",
      "Log-likelihood: -4968.666\n",
      "BIC: 9969.121\n",
      "AIC: 9949.331\n",
      "LRT test p value: <0.0001\n",
      "Iterations: 6\n"
     ]
    }
   ],
   "source": [
    "DMD = MGLMfit(Y, dist='DM')\n",
    "print(DMD)"
   ]
  },
  {
   "cell_type": "markdown",
   "metadata": {},
   "source": [
    "* the singular Dirichlet multinomial regression"
   ]
  },
  {
   "cell_type": "code",
   "execution_count": 28,
   "metadata": {},
   "outputs": [
    {
     "name": "stdout",
     "output_type": "stream",
     "text": [
      "Call: MGLMreg(formula = Y ~ X, dist = \"DM\")\n",
      "\n",
      "Coefficients:\n",
      "                     X1           X2           X3           X4           X5\n",
      "(Intercept) -0.89584994 -1.096920833 -8.997413980 -1.736871487 -1.774226549\n",
      "XtotalReads  0.22198795  0.186918573  0.536571928  0.252679409  0.216671706\n",
      "Xtreatment  -0.67929126 -0.686880554  1.835585178  0.707954021 -0.546469027\n",
      "Xgender     -0.02617726  0.040244490 -0.052841946  0.023177795 -0.058339470\n",
      "Xage         0.01024465  0.005226678  0.009134239  0.004252438  0.006090452\n",
      "                     X6\n",
      "(Intercept) -5.64682236\n",
      "XtotalReads  0.34727128\n",
      "Xtreatment  -0.54313366\n",
      "Xgender     -0.03913945\n",
      "Xage         0.01164235\n",
      "\n",
      "Hypothesis test: \n",
      "             wald value  Pr(>wald)\n",
      "(Intercept)   14.579069 0.02379579\n",
      "XtotalReads    8.502549 0.20354699\n",
      "Xtreatment  1851.437449 0.00000000\n",
      "Xgender        4.133364 0.65863419\n",
      "Xage          13.131512 0.04099442\n",
      "\n",
      "Distribution: Dirichlet Multinomial\n",
      "Log-likelihood: -4386.941\n",
      "BIC: 8932.831\n",
      "AIC: 8833.882\n",
      "Iterations: 9\n"
     ]
    }
   ],
   "source": [
    "DMR = MGLMreg(Y ~ X, dist='DM')\n",
    "print(DMR)"
   ]
  },
  {
   "cell_type": "markdown",
   "metadata": {},
   "source": [
    "* the singular generalized Dirichlet multinomial distribution"
   ]
  },
  {
   "cell_type": "code",
   "execution_count": 29,
   "metadata": {},
   "outputs": [
    {
     "name": "stdout",
     "output_type": "stream",
     "text": [
      "          estimate        SE\n",
      "alpha_X1  3.741846 0.3670877\n",
      "alpha_X2  2.400909 0.8154314\n",
      "alpha_X3  1.558396 0.2331360\n",
      "alpha_X4  6.988354 1.1647638\n",
      "alpha_X5 20.689398 0.1492792\n",
      "beta_X1   8.026379 0.9665023\n",
      "beta_X2  11.038376 0.7259782\n",
      "beta_X3   8.961428 0.2645201\n",
      "beta_X4   2.702723 2.8717176\n",
      "beta_X5   4.854816 0.6482710\n",
      "\n",
      "Distribution: Generalized Dirichlet Multinomial\n",
      "Log-likelihood: -4841.231\n",
      "BIC: 9735.446\n",
      "AIC: 9702.463\n",
      "LRT test p value: <0.0001\n",
      "Iterations: 59\n"
     ]
    }
   ],
   "source": [
    "GDMD = MGLMfit(Y, dist='GDM')\n",
    "print(GDMD)"
   ]
  },
  {
   "cell_type": "markdown",
   "metadata": {},
   "source": [
    "* the singular generalized Dirichlet multinomial regression"
   ]
  },
  {
   "cell_type": "code",
   "execution_count": 30,
   "metadata": {},
   "outputs": [
    {
     "name": "stdout",
     "output_type": "stream",
     "text": [
      "Call: MGLMreg(formula = Y ~ X, dist = \"GDM\")\n",
      "\n",
      "Coefficients:\n",
      "                alpha_X1     alpha_X2    alpha_X3      alpha_X4    alpha_X5\n",
      "(Intercept)  5.987992852 -7.056673213  0.45608810 -10.120737500  2.63939594\n",
      "XtotalReads -0.215098743  0.555972697  0.03955285   0.720358215 -0.01612137\n",
      "Xtreatment  -0.047690534 -0.329319924  0.97935928   0.099957634  0.06339341\n",
      "Xgender      0.233005806  0.374837886 -0.18642022  -0.202417040  0.14428946\n",
      "Xage         0.006661015 -0.004342996  0.01936118   0.008173279  0.01239665\n",
      "                 beta_X1       beta_X2    beta_X3     beta_X4     beta_X5\n",
      "(Intercept)  4.661089454 -9.7891269676  7.0950614 -9.53000784 -1.68761454\n",
      "XtotalReads -0.140896121  0.7138189416 -0.2229844  0.74314582  0.13398453\n",
      "Xtreatment   0.628878471  0.7461977539 -1.5916297 -0.92371233 -0.04244096\n",
      "Xgender      0.212071256  0.2732563514 -0.2331213 -0.27042831  0.12206235\n",
      "Xage         0.003223835  0.0004533068  0.0159450  0.01254059  0.01918839\n",
      "\n",
      "Hypothesis test: \n",
      "            wald value  Pr(>wald)\n",
      "(Intercept)   15.40109 0.11810852\n",
      "XtotalReads   11.04187 0.35426548\n",
      "Xtreatment  2549.23829 0.00000000\n",
      "Xgender       10.72122 0.37964596\n",
      "Xage          16.42846 0.08800668\n",
      "\n",
      "Distribution: Generalized Dirichlet Multinomial\n",
      "Log-likelihood: -4289.281\n",
      "BIC: 8843.479\n",
      "AIC: 8678.563\n",
      "Iterations: 46\n"
     ]
    }
   ],
   "source": [
    "GDMR = MGLMreg(Y ~ X, dist='GDM')\n",
    "print(GDMR)"
   ]
  },
  {
   "cell_type": "markdown",
   "metadata": {},
   "source": [
    "And, in the context of splitting distributions, each of these singular distribution can be combined with an univariate model of the sum to define a discrete multivariate model."
   ]
  },
  {
   "cell_type": "markdown",
   "metadata": {},
   "source": [
    "For example, we can use usual MLEs or MMEs of:\n",
    "\n",
    "* Poisson distribution,"
   ]
  },
  {
   "cell_type": "code",
   "execution_count": 31,
   "metadata": {},
   "outputs": [
    {
     "data": {
      "text/plain": [
       "\n",
       "Call:\n",
       "glm(formula = S ~ 1, family = \"poisson\")\n",
       "\n",
       "Deviance Residuals: \n",
       "     Min        1Q    Median        3Q       Max  \n",
       "-15.8076   -6.4047   -0.8109    4.6919   23.0403  \n",
       "\n",
       "Coefficients:\n",
       "            Estimate Std. Error z value Pr(>|z|)    \n",
       "(Intercept) 6.522137   0.002712    2405   <2e-16 ***\n",
       "---\n",
       "Signif. codes:  0 ‘***’ 0.001 ‘**’ 0.01 ‘*’ 0.05 ‘.’ 0.1 ‘ ’ 1\n",
       "\n",
       "(Dispersion parameter for poisson family taken to be 1)\n",
       "\n",
       "    Null deviance: 11405  on 199  degrees of freedom\n",
       "Residual deviance: 11405  on 199  degrees of freedom\n",
       "AIC: 13071\n",
       "\n",
       "Number of Fisher Scoring iterations: 4\n"
      ]
     },
     "metadata": {},
     "output_type": "display_data"
    },
    {
     "data": {
      "text/html": [
       "13074.1182283037"
      ],
      "text/latex": [
       "13074.1182283037"
      ],
      "text/markdown": [
       "13074.1182283037"
      ],
      "text/plain": [
       "[1] 13074.12"
      ]
     },
     "metadata": {},
     "output_type": "display_data"
    }
   ],
   "source": [
    "UPD = glm(S~1, family=\"poisson\")\n",
    "summary(UPD)\n",
    "BIC(UPD)"
   ]
  },
  {
   "cell_type": "markdown",
   "metadata": {},
   "source": [
    "* Poisson regression,"
   ]
  },
  {
   "cell_type": "code",
   "execution_count": 32,
   "metadata": {},
   "outputs": [
    {
     "data": {
      "text/plain": [
       "\n",
       "Call:\n",
       "glm(formula = S ~ X, family = \"poisson\")\n",
       "\n",
       "Deviance Residuals: \n",
       "     Min        1Q    Median        3Q       Max  \n",
       "-13.3031   -3.3875   -0.6941    2.7034   14.5858  \n",
       "\n",
       "Coefficients:\n",
       "              Estimate Std. Error z value Pr(>|z|)    \n",
       "(Intercept) -9.5840042  0.2054558 -46.648  < 2e-16 ***\n",
       "XtotalReads  0.9296642  0.0117171  79.342  < 2e-16 ***\n",
       "Xtreatment  -0.0067466  0.0055118  -1.224    0.221    \n",
       "Xgender     -0.0315672  0.0054328  -5.810 6.23e-09 ***\n",
       "Xage         0.0002586  0.0002773   0.933    0.351    \n",
       "---\n",
       "Signif. codes:  0 ‘***’ 0.001 ‘**’ 0.01 ‘*’ 0.05 ‘.’ 0.1 ‘ ’ 1\n",
       "\n",
       "(Dispersion parameter for poisson family taken to be 1)\n",
       "\n",
       "    Null deviance: 11405  on 199  degrees of freedom\n",
       "Residual deviance:  4663  on 195  degrees of freedom\n",
       "AIC: 6336.6\n",
       "\n",
       "Number of Fisher Scoring iterations: 4\n"
      ]
     },
     "metadata": {},
     "output_type": "display_data"
    },
    {
     "data": {
      "text/html": [
       "6353.12556423404"
      ],
      "text/latex": [
       "6353.12556423404"
      ],
      "text/markdown": [
       "6353.12556423404"
      ],
      "text/plain": [
       "[1] 6353.126"
      ]
     },
     "metadata": {},
     "output_type": "display_data"
    }
   ],
   "source": [
    "UPR = glm(S~X, family=\"poisson\")\n",
    "summary(UPR)\n",
    "BIC(UPR)"
   ]
  },
  {
   "cell_type": "markdown",
   "metadata": {},
   "source": [
    "* Binomial distribution (since the MLE of the binommial distribution index parameter is not available in **R**, we use the MMEs),"
   ]
  },
  {
   "cell_type": "code",
   "execution_count": 33,
   "metadata": {},
   "outputs": [
    {
     "data": {
      "text/plain": [
       "\n",
       "Call:\n",
       "glm(formula = BS ~ 1, family = \"binomial\")\n",
       "\n",
       "Deviance Residuals: \n",
       "    Min       1Q   Median       3Q      Max  \n",
       "-20.486   -8.709   -1.139    6.840   43.575  \n",
       "\n",
       "Coefficients:\n",
       "             Estimate Std. Error z value Pr(>|z|)\n",
       "(Intercept) -0.005777   0.003829  -1.509    0.131\n",
       "\n",
       "(Dispersion parameter for binomial family taken to be 1)\n",
       "\n",
       "    Null deviance: 24962  on 199  degrees of freedom\n",
       "Residual deviance: 24962  on 199  degrees of freedom\n",
       "AIC: 26471\n",
       "\n",
       "Number of Fisher Scoring iterations: 3\n"
      ]
     },
     "metadata": {},
     "output_type": "display_data"
    },
    {
     "name": "stdout",
     "output_type": "stream",
     "text": [
      "[1] 26474.38\n"
     ]
    }
   ],
   "source": [
    "index = max(round((mean(S) ^ 2)/(mean(S) - var(S))), max(S))\n",
    "BS = cbind(S, index - S)\n",
    "BD = glm(BS~1, family=\"binomial\")\n",
    "summary(BD)\n",
    "print(BIC(BD))"
   ]
  },
  {
   "cell_type": "markdown",
   "metadata": {},
   "source": [
    "* Binomial regression (the index parameter of the binomial regression is assumed to be known and equal to the MME for binomial distribution),"
   ]
  },
  {
   "cell_type": "code",
   "execution_count": 34,
   "metadata": {},
   "outputs": [
    {
     "data": {
      "text/plain": [
       "\n",
       "Call:\n",
       "glm(formula = BS ~ X, family = \"binomial\")\n",
       "\n",
       "Deviance Residuals: \n",
       "    Min       1Q   Median       3Q      Max  \n",
       "-19.178   -4.857   -1.009    3.639   34.692  \n",
       "\n",
       "Coefficients:\n",
       "              Estimate Std. Error  z value Pr(>|z|)    \n",
       "(Intercept) -3.233e+01  2.938e-01 -110.024   <2e-16 ***\n",
       "XtotalReads  1.870e+00  1.682e-02  111.139   <2e-16 ***\n",
       "Xtreatment  -7.446e-03  7.955e-03   -0.936    0.349    \n",
       "Xgender     -7.541e-02  7.871e-03   -9.580   <2e-16 ***\n",
       "Xage         1.491e-04  4.035e-04    0.370    0.712    \n",
       "---\n",
       "Signif. codes:  0 ‘***’ 0.001 ‘**’ 0.01 ‘*’ 0.05 ‘.’ 0.1 ‘ ’ 1\n",
       "\n",
       "(Dispersion parameter for binomial family taken to be 1)\n",
       "\n",
       "    Null deviance: 24962  on 199  degrees of freedom\n",
       "Residual deviance: 11465  on 195  degrees of freedom\n",
       "AIC: 12983\n",
       "\n",
       "Number of Fisher Scoring iterations: 4\n"
      ]
     },
     "metadata": {},
     "output_type": "display_data"
    },
    {
     "name": "stdout",
     "output_type": "stream",
     "text": [
      "[1] 12999.47\n"
     ]
    }
   ],
   "source": [
    "BR = glm(BS~X, family=\"binomial\")\n",
    "summary(BR)\n",
    "print(BIC(BR))"
   ]
  },
  {
   "cell_type": "markdown",
   "metadata": {},
   "source": [
    "* Negative binomial distribution,"
   ]
  },
  {
   "cell_type": "code",
   "execution_count": 35,
   "metadata": {
    "scrolled": true
   },
   "outputs": [
    {
     "data": {
      "text/plain": [
       "\n",
       "Call:\n",
       "glm.nb(formula = S ~ 1, init.theta = 12.2325956, link = log)\n",
       "\n",
       "Deviance Residuals: \n",
       "    Min       1Q   Median       3Q      Max  \n",
       "-2.3841  -0.8895  -0.1084   0.6066   2.7329  \n",
       "\n",
       "Coefficients:\n",
       "            Estimate Std. Error z value Pr(>|z|)    \n",
       "(Intercept)   6.5221     0.0204   319.7   <2e-16 ***\n",
       "---\n",
       "Signif. codes:  0 ‘***’ 0.001 ‘**’ 0.01 ‘*’ 0.05 ‘.’ 0.1 ‘ ’ 1\n",
       "\n",
       "(Dispersion parameter for Negative Binomial(12.2326) family taken to be 1)\n",
       "\n",
       "    Null deviance: 202.61  on 199  degrees of freedom\n",
       "Residual deviance: 202.61  on 199  degrees of freedom\n",
       "AIC: 2671.9\n",
       "\n",
       "Number of Fisher Scoring iterations: 1\n",
       "\n",
       "\n",
       "              Theta:  12.23 \n",
       "          Std. Err.:  1.23 \n",
       "\n",
       " 2 x log-likelihood:  -2667.949 "
      ]
     },
     "metadata": {},
     "output_type": "display_data"
    },
    {
     "data": {
      "text/html": [
       "2678.54563292858"
      ],
      "text/latex": [
       "2678.54563292858"
      ],
      "text/markdown": [
       "2678.54563292858"
      ],
      "text/plain": [
       "[1] 2678.546"
      ]
     },
     "metadata": {},
     "output_type": "display_data"
    }
   ],
   "source": [
    "NBD = glm.nb(S~1)\n",
    "summary(NBD)\n",
    "BIC(NBD)"
   ]
  },
  {
   "cell_type": "markdown",
   "metadata": {},
   "source": [
    "* Negative binomial regression,"
   ]
  },
  {
   "cell_type": "code",
   "execution_count": 36,
   "metadata": {
    "scrolled": true
   },
   "outputs": [
    {
     "data": {
      "text/plain": [
       "\n",
       "Call:\n",
       "glm.nb(formula = S ~ X, init.theta = 31.28138802, link = log)\n",
       "\n",
       "Deviance Residuals: \n",
       "    Min       1Q   Median       3Q      Max  \n",
       "-2.6477  -0.7406  -0.1661   0.5601   2.7498  \n",
       "\n",
       "Coefficients:\n",
       "              Estimate Std. Error z value Pr(>|z|)    \n",
       "(Intercept) -9.7226656  0.9499844 -10.235   <2e-16 ***\n",
       "XtotalReads  0.9375435  0.0543613  17.247   <2e-16 ***\n",
       "Xtreatment  -0.0136052  0.0262552  -0.518    0.604    \n",
       "Xgender     -0.0317750  0.0259402  -1.225    0.221    \n",
       "Xage         0.0003732  0.0013314   0.280    0.779    \n",
       "---\n",
       "Signif. codes:  0 ‘***’ 0.001 ‘**’ 0.01 ‘*’ 0.05 ‘.’ 0.1 ‘ ’ 1\n",
       "\n",
       "(Dispersion parameter for Negative Binomial(31.2814) family taken to be 1)\n",
       "\n",
       "    Null deviance: 503.72  on 199  degrees of freedom\n",
       "Residual deviance: 200.74  on 195  degrees of freedom\n",
       "AIC: 2494.5\n",
       "\n",
       "Number of Fisher Scoring iterations: 1\n",
       "\n",
       "\n",
       "              Theta:  31.28 \n",
       "          Std. Err.:  3.26 \n",
       "\n",
       " 2 x log-likelihood:  -2482.506 "
      ]
     },
     "metadata": {},
     "output_type": "display_data"
    },
    {
     "data": {
      "text/html": [
       "2514.29624481329"
      ],
      "text/latex": [
       "2514.29624481329"
      ],
      "text/markdown": [
       "2514.29624481329"
      ],
      "text/plain": [
       "[1] 2514.296"
      ]
     },
     "metadata": {},
     "output_type": "display_data"
    }
   ],
   "source": [
    "NBR = glm.nb(S~X)\n",
    "summary(NBR)\n",
    "BIC(NBR)"
   ]
  }
 ],
 "metadata": {
  "kernelspec": {
   "display_name": "R",
   "language": "R",
   "name": "ir"
  },
  "language_info": {
   "codemirror_mode": "r",
   "file_extension": ".r",
   "mimetype": "text/x-r-source",
   "name": "R",
   "pygments_lexer": "r",
   "version": "3.4.2"
  },
  "toc": {
   "colors": {
    "hover_highlight": "#DAA520",
    "navigate_num": "#000000",
    "navigate_text": "#333333",
    "running_highlight": "#FF0000",
    "selected_highlight": "#FFD700",
    "sidebar_border": "#EEEEEE",
    "wrapper_background": "#FFFFFF"
   },
   "moveMenuLeft": true,
   "nav_menu": {
    "height": "45px",
    "width": "252px"
   },
   "navigate_menu": true,
   "number_sections": false,
   "sideBar": true,
   "threshold": 4,
   "toc_cell": false,
   "toc_section_display": "block",
   "toc_window_display": true,
   "widenNotebook": false
  }
 },
 "nbformat": 4,
 "nbformat_minor": 2
}
